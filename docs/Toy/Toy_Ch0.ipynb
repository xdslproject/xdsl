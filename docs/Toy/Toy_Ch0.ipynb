{
 "cells": [
  {
   "attachments": {},
   "cell_type": "markdown",
   "id": "56341c66",
   "metadata": {},
   "source": [
    "# Chapter 0: Compiling and Running Toy\n",
    "\n",
    "Here is a simple program in the Toy programming language running in a RISC-V emulator, \n",
    "compiled using xDSL.\n",
    "Try changing the program and observing the output:"
   ]
  },
  {
   "cell_type": "code",
   "execution_count": 1,
   "id": "e07ae44f",
   "metadata": {},
   "outputs": [
    {
     "name": "stdout",
     "output_type": "stream",
     "text": [
      "\u001b[34m\u001b[1m[CPU] Started running from example.asm:.text at heap (0x100) + 0x46c\u001b[0m\n",
      "Program(name=example.asm,sections=set(),base=['.bss', '.data', '.text'])\n",
      "[[1, 2], [3, 4], [5, 6]]\n",
      "[[2, 4, 6], [8, 10, 12]]\n",
      "\u001b[34m\u001b[1m[CPU] Program exited with code 0\u001b[0m\n"
     ]
    }
   ],
   "source": [
    "from xdsl.utils.exceptions import VerifyException\n",
    "\n",
    "from toy.compiler import compile, emulate_riscv\n",
    "\n",
    "program = \"\"\"\n",
    "def main() {\n",
    "  # Define a variable `a` with shape <2, 3>, initialized with the literal value.\n",
    "  # The shape is inferred from the supplied literal.\n",
    "  var a = [[1, 2, 3], [4, 5, 6]];\n",
    "\n",
    "  # b is identical to a, the literal tensor is implicitly reshaped: defining new\n",
    "  # variables is the way to reshape tensors (element count must match).\n",
    "  var b<3, 2> = [1, 2, 3, 4, 5, 6];\n",
    "\n",
    "  # There is a built-in print instruction to display the contents of the tensor\n",
    "  print(b);\n",
    "\n",
    "  # Reshapes are implicit on assignment\n",
    "  var c<2, 3> = b;\n",
    "\n",
    "  # There are + and * operators for pointwise addition and multiplication\n",
    "  var d = a + c;\n",
    "\n",
    "  print(d);\n",
    "}\n",
    "\"\"\"\n",
    "\n",
    "try:\n",
    "  code = compile(program)\n",
    "  emulate_riscv(code)\n",
    "except VerifyException as e:\n",
    "  print(e)"
   ]
  }
 ],
 "metadata": {
  "language_info": {
   "name": "python"
  }
 },
 "nbformat": 4,
 "nbformat_minor": 5
}
