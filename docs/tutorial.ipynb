{
 "cells": [
  {
   "attachments": {},
   "cell_type": "markdown",
   "id": "478e8ef4-f3a7-4aec-b1f6-ffa60aa88697",
   "metadata": {},
   "source": [
    "# xDSL tutorial"
   ]
  },
  {
   "attachments": {},
   "cell_type": "markdown",
   "id": "a3721339-9b8d-4743-b5da-e920f9afd3e9",
   "metadata": {
    "tags": []
   },
   "source": [
    "# Imports and setup"
   ]
  },
  {
   "cell_type": "code",
   "execution_count": 1,
   "id": "e86541f5-af35-4c73-9a8c-4c43e7d365d6",
   "metadata": {},
   "outputs": [],
   "source": [
    "from xdsl.ir import MLContext\n",
    "from xdsl.dialects.arith import Arith\n",
    "from xdsl.dialects.func import Func\n",
    "from xdsl.dialects.builtin import Builtin\n",
    "from xdsl.printer import Printer\n",
    "\n",
    "# MLContext, containing information about the registered dialects\n",
    "context = MLContext()\n",
    "\n",
    "# Some useful dialects\n",
    "context.load_dialect(Arith)\n",
    "context.load_dialect(Func)\n",
    "context.load_dialect(Builtin)\n",
    "\n",
    "# Printer used to pretty-print MLIR data structures\n",
    "printer = Printer()"
   ]
  },
  {
   "attachments": {},
   "cell_type": "markdown",
   "id": "f1270219-eeeb-4687-81e5-cce88afcb901",
   "metadata": {},
   "source": [
    "## High-level presentation (TODO)\n",
    "\n",
    "Base ideas of what xDSL is. Example of a small program, and SSA."
   ]
  },
  {
   "attachments": {},
   "cell_type": "markdown",
   "id": "ce39e1f4-3a54-463d-b2eb-d4fb4f7a6133",
   "metadata": {
    "tags": []
   },
   "source": [
    "# Base IR features"
   ]
  },
  {
   "attachments": {},
   "cell_type": "markdown",
   "id": "ab4f67ba-68c1-4232-9ba1-b82a5bfaaf2b",
   "metadata": {
    "tags": []
   },
   "source": [
    "## Dialects"
   ]
  },
  {
   "attachments": {},
   "cell_type": "markdown",
   "id": "e36e9032-ccd2-4175-98c1-cfa3d86f722c",
   "metadata": {
    "tags": []
   },
   "source": [
    "Dialects are namespaces that contain a collection of attributes and operations. For instance, the Builtin dialect contains (but not exclusively) the attribute `!i32` and the operation `builtin.func`.\n",
    "A dialect is usually a single level of abstraction in the IR, and multiple dialects can be used together in the same MLIR program.\n",
    "\n",
    "Dialects are currently Python classes registering operations and attributes, and providing simple accessors to their attributes and dialects.\n",
    "This will however change in the near future to provide a better interface to dialects."
   ]
  },
  {
   "attachments": {},
   "cell_type": "markdown",
   "id": "946e362d-0948-4c9e-b6b9-307afbe978a0",
   "metadata": {
    "tags": []
   },
   "source": [
    "## Attributes"
   ]
  },
  {
   "attachments": {},
   "cell_type": "markdown",
   "id": "e45b3a1b-b125-4393-93ad-7bff203a85bf",
   "metadata": {
    "tags": []
   },
   "source": [
    "Attributes represent compile-time information.\n",
    "In particular, each SSA-value is associated with an attribute, representing its type.\n",
    "Each attribute type has a name and belongs in a dialect. The textual representation of attributes is prefixed with `!`, and the dialect name.\n",
    "For instance, the `vector` attribute has the format `!builtin.vector<T>`, where `T` is the expected parameter of the attribute.\n",
    "\n",
    "In Python, attributes are always expected to be immutable objects heriting from either `Data` or `ParametrizedAttribute`."
   ]
  },
  {
   "attachments": {},
   "cell_type": "markdown",
   "id": "5eaa4b21-cdf2-43b2-a998-7119ce7daf55",
   "metadata": {
    "tags": []
   },
   "source": [
    "### Data attributes"
   ]
  },
  {
   "attachments": {},
   "cell_type": "markdown",
   "id": "2924d529-6d63-48ff-bfdc-21958d90559b",
   "metadata": {
    "tags": []
   },
   "source": [
    "`Data` attributes are used to wrap python data structures. For instance, the `IntAttr` is an attribute containing an `int`, and the `StringAttr` is an attribute containing a `str`.\n",
    "`Data` attributes are parsed and printed with the format `dialect_name.attr_name<custom_format>`, where `custom_format` is the format defined by the parser and printer of each `Data` attribute.\n",
    "Note that some attributes, such as `StringAttr`, are shortened by the printer, and do not require the use of `dialect_name.attr_name`. For instance, `builtin.str<\"foo\">` is shortened to `\"foo\"`. \n",
    "\n",
    "Here is an example on how to create and print an `IntAttr` attribute:"
   ]
  },
  {
   "cell_type": "code",
   "execution_count": 2,
   "id": "f3061d94-b2f1-4d85-a0b6-d4486f7a45bc",
   "metadata": {},
   "outputs": [
    {
     "name": "stdout",
     "output_type": "stream",
     "text": [
      "#builtin.int<42>"
     ]
    }
   ],
   "source": [
    "from xdsl.dialects.builtin import IntAttr\n",
    "\n",
    "# Attribute definitions usually define custom `__init__` to simplify their creation\n",
    "my_int = IntAttr(42)\n",
    "printer.print_attribute(my_int)"
   ]
  },
  {
   "attachments": {},
   "cell_type": "markdown",
   "id": "e5578732-a5d0-48a2-9a2b-0010b3d13135",
   "metadata": {},
   "source": [
    "Note that here, the `IntAttr` does not print a dialect prefix. This will be fixed soon-ish."
   ]
  },
  {
   "cell_type": "code",
   "execution_count": 3,
   "id": "8127a458-1d34-4dd9-aaff-468b93c9fe4b",
   "metadata": {},
   "outputs": [
    {
     "name": "stdout",
     "output_type": "stream",
     "text": [
      "42\n"
     ]
    }
   ],
   "source": [
    "# Access the data in the IntAttr:\n",
    "print(my_int.data)"
   ]
  },
  {
   "attachments": {},
   "cell_type": "markdown",
   "id": "a4b9b668-63ad-4660-8016-65e8d1e9d617",
   "metadata": {
    "tags": []
   },
   "source": [
    "### Parametrized attributes\n",
    "\n",
    "Parametrized attributes are attributes containing optionally multiple attributes as parameters.\n",
    "For instance, the `integer` attribute from `builtin` is a parametrized attribute and expects two attributes as parameter.\n",
    "Parametrized attributes are printed with the format `!dialect.attr_name<attr_1, ... attr_N>`, where `attr_i` are the attribute parameters.\n",
    "\n",
    "Here is an example on how to create and inspect an `integer_type` attribute, which represent a machine integer type. It is parametrized by a single `IntAttr` parameter, representing the bitwidth."
   ]
  },
  {
   "cell_type": "code",
   "execution_count": 4,
   "id": "b6b89a95-2b0b-4f37-9769-758cf2246eeb",
   "metadata": {},
   "outputs": [
    {
     "name": "stdout",
     "output_type": "stream",
     "text": [
      "i64"
     ]
    }
   ],
   "source": [
    "from xdsl.dialects.builtin import IntegerType\n",
    "\n",
    "# Get the int that will be passed as parameter to the integer_type\n",
    "int_64 = IntAttr(64)\n",
    "i64 = IntegerType(int_64.data)\n",
    "printer.print_attribute(i64)"
   ]
  },
  {
   "cell_type": "code",
   "execution_count": 5,
   "id": "f4dfc1ef-9070-42d9-bf82-ec30b9bb7da1",
   "metadata": {},
   "outputs": [
    {
     "name": "stdout",
     "output_type": "stream",
     "text": [
      "#builtin.int<64>"
     ]
    }
   ],
   "source": [
    "# Get back the parameters of IntegerType\n",
    "printer.print_attribute(i64.parameters[0])"
   ]
  },
  {
   "cell_type": "code",
   "execution_count": 6,
   "id": "c060d5e5-6ead-45e3-b7ec-4bf9250271ae",
   "metadata": {},
   "outputs": [],
   "source": [
    "# Use the custom constructor from IntegerType to construct it\n",
    "assert IntegerType(64) == i64"
   ]
  },
  {
   "attachments": {},
   "cell_type": "markdown",
   "id": "9bd2c802-4e09-432a-bd2c-c512b073a681",
   "metadata": {},
   "source": [
    "Note that parametrized attributes may define invariants that need to be respected.\n",
    "For instance, constructing an `integer_type` with wrong parameters will trigger an error:"
   ]
  },
  {
   "cell_type": "code",
   "execution_count": 7,
   "id": "a35bc488-dd35-46e9-aa58-9734b06b555b",
   "metadata": {},
   "outputs": [
    {
     "name": "stdout",
     "output_type": "stream",
     "text": [
      "[IntegerType(parameters=[IntAttr(data=64), SignednessAttr(data=<Signedness.SIGNLESS: 0>)], width=IntAttr(data=64), signedness=SignednessAttr(data=<Signedness.SIGNLESS: 0>))] should be of base attribute builtin.int\n"
     ]
    }
   ],
   "source": [
    "# NBVAL_IGNORE_OUTPUT\n",
    "# pyright: reportGeneralTypeIssues=false\n",
    "# Try to create an IntegerType with wrong parameters\n",
    "try:\n",
    "    bad_attr = IntegerType([i64])\n",
    "except Exception as err:\n",
    "    print(err)"
   ]
  },
  {
   "attachments": {},
   "cell_type": "markdown",
   "id": "8e5e4b80-9dc7-4238-8d4e-b0998b4bed2c",
   "metadata": {},
   "source": [
    "## Operations"
   ]
  },
  {
   "attachments": {},
   "cell_type": "markdown",
   "id": "1a9b803e-eddf-4a7c-903d-a012ac6b61f9",
   "metadata": {},
   "source": [
    "Operations represent the computation that a program can do. They span in all abstraction levels, and can be domain-specific.\n",
    "For instance, `arith.addi` will add two integers, while `scf.if` represent an if/else structure.\n",
    "\n",
    "Operations are composed of:\n",
    "* A base operation type, which represent the semantics of the operation;\n",
    "* Operands, which are SSA-values previously defined;\n",
    "* Results, which are new SSA-values defined by the operation;\n",
    "* Attributes, which encode compile-time information about the operation;\n",
    "* Regions, which contain operations, and are used to represent more complex control-flow;\n",
    "* Successors, which are basic block names for which the operation can give control to.\n",
    "\n",
    "The format of an operation is: `results = dialect_name.op_name(operands) (successors) [attributes] regions`\n",
    "\n",
    "Here is for example how to create a constant operation, representing a constant value:"
   ]
  },
  {
   "cell_type": "code",
   "execution_count": 8,
   "id": "150ea21b-979b-494d-8e10-53327c17be38",
   "metadata": {},
   "outputs": [
    {
     "name": "stdout",
     "output_type": "stream",
     "text": [
      "%0 = arith.constant 62 : i64"
     ]
    }
   ],
   "source": [
    "from xdsl.dialects.builtin import IntegerAttr\n",
    "from xdsl.dialects.arith import Constant\n",
    "\n",
    "const_op = Constant.create(\n",
    "    result_types=[i64], properties={\"value\": IntegerAttr.from_int_and_width(62, 64)}\n",
    ")\n",
    "printer.print_op(const_op)"
   ]
  },
  {
   "attachments": {},
   "cell_type": "markdown",
   "id": "0c32595c-644f-46e8-b9b6-2baf81679ea2",
   "metadata": {},
   "source": [
    "Note that dialects usually define methods to ease the definition of such operations:"
   ]
  },
  {
   "cell_type": "code",
   "execution_count": 9,
   "id": "66a37c45-7c2f-4d82-b2e3-759e75719817",
   "metadata": {},
   "outputs": [
    {
     "name": "stdout",
     "output_type": "stream",
     "text": [
      "%1 = arith.constant 62 : i64"
     ]
    }
   ],
   "source": [
    "const_op2 = Constant(IntegerAttr.from_int_and_width(62, 64), i64)\n",
    "printer.print_op(const_op2)"
   ]
  },
  {
   "attachments": {},
   "cell_type": "markdown",
   "id": "608559d8-3b1f-4a92-99c5-a50f3ab74fd5",
   "metadata": {},
   "source": [
    "We can use the results from the operation to pass them as operands for a later operation. For instance, we will add the constant to itself using the `arith.addi` operation:"
   ]
  },
  {
   "cell_type": "code",
   "execution_count": 10,
   "id": "b7f1a4d8-31bb-4466-a125-5abd5c91c957",
   "metadata": {},
   "outputs": [
    {
     "name": "stdout",
     "output_type": "stream",
     "text": [
      "%0 = arith.constant 62 : i64\n",
      "%2 = arith.addi %0, %0 : i64"
     ]
    }
   ],
   "source": [
    "from xdsl.dialects.arith import Addi\n",
    "\n",
    "add_op = Addi.create(\n",
    "    operands=[const_op.results[0], const_op.results[0]], result_types=[i64]\n",
    ")\n",
    "printer.print_op(const_op)\n",
    "print()\n",
    "printer.print_op(add_op)"
   ]
  },
  {
   "attachments": {},
   "cell_type": "markdown",
   "id": "2bdc9fb2-3cfa-4a03-b0da-2d453570adc2",
   "metadata": {},
   "source": [
    "We can also put the operations in regions, which can be then used by other operations (such as func)"
   ]
  },
  {
   "cell_type": "code",
   "execution_count": 11,
   "id": "f80adc50-9d38-41bd-9947-319a0dcadd10",
   "metadata": {},
   "outputs": [
    {
     "name": "stdout",
     "output_type": "stream",
     "text": [
      "{\n",
      "  %0 = arith.constant 62 : i64\n",
      "  %2 = arith.addi %0, %0 : i64\n",
      "}"
     ]
    }
   ],
   "source": [
    "from xdsl.ir import Region, Block\n",
    "\n",
    "my_region = Region([Block([const_op, add_op])])\n",
    "printer.print_region(my_region)"
   ]
  },
  {
   "attachments": {},
   "cell_type": "markdown",
   "id": "38f4deb5-5e73-48db-a86e-41c6685401df",
   "metadata": {},
   "source": [
    "Functions are created using the `builtin.func` op, which contain a single region:"
   ]
  },
  {
   "cell_type": "code",
   "execution_count": 12,
   "id": "52ccaee1-ce0e-434b-81ed-3c00838ab29b",
   "metadata": {},
   "outputs": [
    {
     "name": "stdout",
     "output_type": "stream",
     "text": [
      "func.func @my_function() {\n",
      "  %0 = arith.constant 62 : i64\n",
      "  %2 = arith.addi %0, %0 : i64\n",
      "}"
     ]
    }
   ],
   "source": [
    "from xdsl.dialects.func import FuncOp\n",
    "\n",
    "my_func = FuncOp.from_region(\"my_function\", [], [], my_region)\n",
    "printer.print_op(my_func)"
   ]
  },
  {
   "cell_type": "code",
   "execution_count": null,
   "id": "ca2fe54d",
   "metadata": {},
   "outputs": [],
   "source": []
  }
 ],
 "metadata": {
  "language_info": {
   "name": "python"
  }
 },
 "nbformat": 4,
 "nbformat_minor": 5
}
