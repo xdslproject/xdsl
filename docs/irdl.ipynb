{
 "cells": [
  {
   "attachments": {},
   "cell_type": "markdown",
   "id": "8df70eb6",
   "metadata": {},
   "source": [
    "# IRDL tutorial\n",
    "### An Intermediate Representation Definition Language (IRDL) for SSA Compilers"
   ]
  },
  {
   "attachments": {},
   "cell_type": "markdown",
   "id": "48013c49",
   "metadata": {
    "tags": []
   },
   "source": [
    "## Imports and setup"
   ]
  },
  {
   "cell_type": "code",
   "execution_count": 1,
   "id": "8aeb043d",
   "metadata": {},
   "outputs": [],
   "source": [
    "# xDSL should be available in the environment.\n",
    "\n",
    "from xdsl.ir import MLContext\n",
    "from xdsl.dialects.arith import Arith\n",
    "from xdsl.dialects.builtin import Builtin\n",
    "from xdsl.printer import Printer\n",
    "\n",
    "# MLContext, containing information about the registered dialects\n",
    "context = MLContext()\n",
    "\n",
    "# Some useful dialects\n",
    "context.load_dialect(Arith)\n",
    "context.load_dialect(Builtin)\n",
    "\n",
    "# Printer used to pretty-print MLIR data structures\n",
    "printer = Printer()"
   ]
  },
  {
   "attachments": {},
   "cell_type": "markdown",
   "id": "2a2a8564",
   "metadata": {},
   "source": [
    "## Introduction"
   ]
  },
  {
   "attachments": {},
   "cell_type": "markdown",
   "id": "d0b62875",
   "metadata": {},
   "source": [
    "xDSL is an extensible compiler, meaning that new operations, attributes, and types can be added. xDSL provides an embedded DSL, IRDL, to define new dialects.\n",
    "This tutorial aims to show the different features IRDL has, and presents examples on how to use them."
   ]
  },
  {
   "attachments": {},
   "cell_type": "markdown",
   "id": "11f19f3a",
   "metadata": {
    "tags": []
   },
   "source": [
    "## Attribute constraints"
   ]
  },
  {
   "attachments": {},
   "cell_type": "markdown",
   "id": "ab6a12ad",
   "metadata": {},
   "source": [
    "Attribute constraints represent invariants over attributes, and are an important concept for defining new attributes and operations. In practice, an attribute constraint is a child class of `AttrConstraint` that implements a `verify` method. The method takes an attribute to verify as parameter, and a dictionary associating constraint variables to attributes. `verify` does not return anything, but raises an exception if the invariant is not respected."
   ]
  },
  {
   "attachments": {},
   "cell_type": "markdown",
   "id": "4edaf649",
   "metadata": {},
   "source": [
    "### Any constraint"
   ]
  },
  {
   "attachments": {},
   "cell_type": "markdown",
   "id": "5c94f21c",
   "metadata": {},
   "source": [
    "An `Any` constraint will never trigger an exception, and will always pass:"
   ]
  },
  {
   "cell_type": "code",
   "execution_count": 2,
   "id": "0786a30f",
   "metadata": {},
   "outputs": [],
   "source": [
    "# NBVAL_CHECK_OUTPUT\n",
    "\n",
    "from xdsl.irdl import AnyAttr\n",
    "from xdsl.dialects.builtin import i64, StringAttr, IndexType, IntegerType\n",
    "\n",
    "# Construct the constraint\n",
    "any_constraint = AnyAttr()\n",
    "\n",
    "# This will pass without triggering an exception\n",
    "any_constraint.verify(i64, {})\n",
    "any_constraint.verify(StringAttr(\"ga\"), {})"
   ]
  },
  {
   "attachments": {},
   "cell_type": "markdown",
   "id": "b44e60b8",
   "metadata": {},
   "source": [
    "### Equality constraint"
   ]
  },
  {
   "attachments": {},
   "cell_type": "markdown",
   "id": "4c95e2c9",
   "metadata": {},
   "source": [
    "An equality constraint ensures that the attribute is equal to one provided to the constraint:"
   ]
  },
  {
   "cell_type": "code",
   "execution_count": 3,
   "id": "28fbd5cb",
   "metadata": {},
   "outputs": [
    {
     "name": "stdout",
     "output_type": "stream",
     "text": [
      "Expected attribute i64 but got i32\n"
     ]
    }
   ],
   "source": [
    "from xdsl.irdl import EqAttrConstraint\n",
    "from xdsl.dialects.builtin import i32\n",
    "\n",
    "# Construct the constraint\n",
    "eq_constraint = EqAttrConstraint(i64)\n",
    "\n",
    "# This will pass without triggering an exception\n",
    "eq_constraint.verify(i64, {})\n",
    "\n",
    "# This will trigger an exception\n",
    "try:\n",
    "    eq_constraint.verify(i32, {})\n",
    "except Exception as e:\n",
    "    print(e)"
   ]
  },
  {
   "attachments": {},
   "cell_type": "markdown",
   "id": "94a595c1",
   "metadata": {},
   "source": [
    "### Base attribute constraint"
   ]
  },
  {
   "attachments": {},
   "cell_type": "markdown",
   "id": "d7a772ce",
   "metadata": {},
   "source": [
    "A base attribute constraint ensures that the attribute base type is equal to an expected attribute base type:"
   ]
  },
  {
   "cell_type": "code",
   "execution_count": 4,
   "id": "ec77aeba",
   "metadata": {},
   "outputs": [
    {
     "name": "stdout",
     "output_type": "stream",
     "text": [
      "i32 should be of base attribute string\n"
     ]
    }
   ],
   "source": [
    "from xdsl.irdl import BaseAttr\n",
    "from xdsl.dialects.builtin import IntAttr\n",
    "from xdsl.utils.exceptions import VerifyException\n",
    "\n",
    "# Construct the constraint\n",
    "base_constraint = BaseAttr(StringAttr)\n",
    "\n",
    "# This will pass without triggering an exception\n",
    "base_constraint.verify(StringAttr(\"ga\"), {})\n",
    "base_constraint.verify(StringAttr(\"bu\"), {})\n",
    "\n",
    "# This will trigger an exception\n",
    "try:\n",
    "    base_constraint.verify(i32, {})\n",
    "except VerifyException as e:\n",
    "    print(e)"
   ]
  },
  {
   "cell_type": "code",
   "execution_count": 5,
   "id": "07aecb4c",
   "metadata": {},
   "outputs": [
    {
     "name": "stdout",
     "output_type": "stream",
     "text": [
      "#builtin.int<3> should be of base attribute string\n"
     ]
    }
   ],
   "source": [
    "# This too\n",
    "try:\n",
    "    base_constraint.verify(IntAttr(3), {})\n",
    "except VerifyException as e:\n",
    "    print(e)"
   ]
  },
  {
   "attachments": {},
   "cell_type": "markdown",
   "id": "33af66e2",
   "metadata": {},
   "source": [
    "### Attribute constraint coercion"
   ]
  },
  {
   "attachments": {},
   "cell_type": "markdown",
   "id": "afab9d0c",
   "metadata": {},
   "source": [
    "To simplify the definitions of constraints, constraint constructors expecting an attribute constraints will coerce `Attribute` to an equality attribute constraint, and will coerce an `Attribute` type to a base attribute constraint. this is done using the `attr_constr_coercion` function:"
   ]
  },
  {
   "cell_type": "code",
   "execution_count": 6,
   "id": "c6f014ad",
   "metadata": {},
   "outputs": [],
   "source": [
    "# NBVAL_CHECK_OUTPUT\n",
    "from xdsl.irdl import EqAttrConstraint, attr_constr_coercion, AnyOf\n",
    "from xdsl.dialects.builtin import i32\n",
    "\n",
    "assert attr_constr_coercion(i32) == EqAttrConstraint(i32)\n",
    "assert attr_constr_coercion(StringAttr) == BaseAttr(StringAttr)\n",
    "assert AnyOf([i32, StringAttr]) == AnyOf([EqAttrConstraint(i32), BaseAttr(StringAttr)])"
   ]
  },
  {
   "attachments": {},
   "cell_type": "markdown",
   "id": "2552bb9e",
   "metadata": {},
   "source": [
    "### Or constraint"
   ]
  },
  {
   "attachments": {},
   "cell_type": "markdown",
   "id": "9f08d8e6",
   "metadata": {},
   "source": [
    "An or constraint ensures that one of the given attribute constraints is satisfied by the attribute:"
   ]
  },
  {
   "cell_type": "code",
   "execution_count": 7,
   "id": "482e0453",
   "metadata": {},
   "outputs": [
    {
     "name": "stdout",
     "output_type": "stream",
     "text": [
      "Unexpected attribute i64\n"
     ]
    }
   ],
   "source": [
    "# Construct the constraint. Note that we are using the coercion defined previously.\n",
    "or_constraint = AnyOf([i32, StringAttr])\n",
    "\n",
    "# This will pass without triggering an exception, since the first constraint is satisfied\n",
    "or_constraint.verify(i32, {})\n",
    "\n",
    "# This will pass without triggering an exception, since the second constraint is satisfied\n",
    "or_constraint.verify(StringAttr(\"ga\"), {})\n",
    "or_constraint.verify(StringAttr(\"bu\"), {})\n",
    "\n",
    "# This will trigger an exception, since none of the constraints are satisfied\n",
    "try:\n",
    "    or_constraint.verify(i64, {})\n",
    "except Exception as e:\n",
    "    print(e)"
   ]
  },
  {
   "attachments": {},
   "cell_type": "markdown",
   "id": "d3d0bcac",
   "metadata": {},
   "source": [
    "### Parametric attribute constraint"
   ]
  },
  {
   "attachments": {},
   "cell_type": "markdown",
   "id": "8f5349a5",
   "metadata": {},
   "source": [
    "A parametric attribute constraint is satisfied by parametric attributes of a certain base type. In addition, parametric attribute constraints specify constraints for each of the parameters of the attribute:"
   ]
  },
  {
   "cell_type": "code",
   "execution_count": 8,
   "id": "87dc6d93",
   "metadata": {},
   "outputs": [
    {
     "name": "stdout",
     "output_type": "stream",
     "text": [
      "i64 should be of base attribute integer\n"
     ]
    }
   ],
   "source": [
    "from xdsl.dialects.builtin import IntegerAttr\n",
    "from xdsl.irdl import ParamAttrConstraint\n",
    "\n",
    "# Construct the constraint. Note that we are using the coercion defined previously.\n",
    "param_constraint = ParamAttrConstraint(IntegerAttr, [IntAttr, i32])\n",
    "\n",
    "# This will pass without triggering an exception.\n",
    "param_constraint.verify(IntegerAttr(IntAttr(42), i32), {})\n",
    "param_constraint.verify(IntegerAttr(IntAttr(23), i32), {})\n",
    "\n",
    "# This will trigger an exception, since the attribute type is not the expected one\n",
    "try:\n",
    "    param_constraint.verify(i64, {})\n",
    "except VerifyException as e:\n",
    "    print(e)"
   ]
  },
  {
   "cell_type": "code",
   "execution_count": 9,
   "id": "4c0967a1",
   "metadata": {},
   "outputs": [
    {
     "name": "stdout",
     "output_type": "stream",
     "text": [
      "Expected attribute i32 but got i64\n"
     ]
    }
   ],
   "source": [
    "# This will trigger an exception, since the second parameter constraint is not satisfied\n",
    "\n",
    "try:\n",
    "    param_constraint.verify(IntegerAttr(IntAttr(42), i64), {})\n",
    "except VerifyException as e:\n",
    "    print(e)"
   ]
  },
  {
   "attachments": {},
   "cell_type": "markdown",
   "id": "95b9b8d0",
   "metadata": {},
   "source": [
    "### Constraint variables"
   ]
  },
  {
   "attachments": {},
   "cell_type": "markdown",
   "id": "41f9cdb2",
   "metadata": {},
   "source": [
    "Constraint variables are used to specify equality between attributes in operation and attribute definitions. They also contain a constraint that must be satisfied.\n",
    "The first time a contraint variable is used, it will check that the constraint is satisfied. If it is satisfied, it sets the variable to the given attribute. If a constraint variable is already set, it will check that the given attribute is equal to the one already set. Two constraint variables with the same name are considered equal, and are expected to carry the same contraint."
   ]
  },
  {
   "cell_type": "code",
   "execution_count": 10,
   "id": "0f810106",
   "metadata": {},
   "outputs": [
    {
     "name": "stdout",
     "output_type": "stream",
     "text": [
      "index should be of base attribute integer_type\n"
     ]
    }
   ],
   "source": [
    "from xdsl.ir import Attribute\n",
    "from xdsl.irdl import VarConstraint\n",
    "\n",
    "var_constraint = VarConstraint(\"T\", BaseAttr(IntegerType))\n",
    "constraint_variables: dict[str, Attribute] = {}\n",
    "\n",
    "# The underlying constraint is not satisfied by the given attribute\n",
    "try:\n",
    "    var_constraint.verify(IndexType(), constraint_variables)\n",
    "except VerifyException as e:\n",
    "    print(e)"
   ]
  },
  {
   "cell_type": "code",
   "execution_count": 11,
   "id": "b13019cf",
   "metadata": {},
   "outputs": [
    {
     "name": "stdout",
     "output_type": "stream",
     "text": [
      "i32\n"
     ]
    }
   ],
   "source": [
    "# The constraint sets the constraint variable if the attribute verifies\n",
    "var_constraint.verify(i32, constraint_variables)\n",
    "print(constraint_variables[\"T\"])"
   ]
  },
  {
   "cell_type": "code",
   "execution_count": 12,
   "id": "915a0bb0",
   "metadata": {},
   "outputs": [
    {
     "name": "stdout",
     "output_type": "stream",
     "text": [
      "attribute i32 expected from variable 'T', but got i64\n"
     ]
    }
   ],
   "source": [
    "# Since the variable is set, the constraint can now only be satisfied by the same attribute\n",
    "try:\n",
    "    var_constraint.verify(i64, constraint_variables)\n",
    "except VerifyException as e:\n",
    "    print(e)"
   ]
  },
  {
   "attachments": {},
   "cell_type": "markdown",
   "id": "4c826817",
   "metadata": {},
   "source": [
    "### Custom constraints"
   ]
  },
  {
   "attachments": {},
   "cell_type": "markdown",
   "id": "9229e1b1",
   "metadata": {},
   "source": [
    "Users can define their own constraints for their own types. For instance, here is the definition of the `ArrayOfConstraint` constraint, which expects an `ArrayAttr` where all elements of the array satisfy a specific constraint:"
   ]
  },
  {
   "cell_type": "code",
   "execution_count": 13,
   "id": "d223e7ef",
   "metadata": {},
   "outputs": [],
   "source": [
    "# NBVAL_CHECK_OUTPUT\n",
    "\n",
    "from xdsl.ir import Attribute\n",
    "from xdsl.dialects.builtin import ArrayAttr\n",
    "from xdsl.irdl import AttrConstraint\n",
    "\n",
    "from typing import Union, Type\n",
    "from dataclasses import dataclass\n",
    "\n",
    "from xdsl.utils.exceptions import VerifyException\n",
    "from xdsl.utils.hints import isa\n",
    "\n",
    "\n",
    "@dataclass\n",
    "class ArrayOfConstraint(AttrConstraint):\n",
    "    # The constraint that needs to be satisfied by all elements of the array\n",
    "    elem_constr: AttrConstraint\n",
    "\n",
    "    # The custom init applies the attribute constraint coercion\n",
    "    def __init__(self, constr: Union[Attribute, Type[Attribute], AttrConstraint]):\n",
    "        self.elem_constr = attr_constr_coercion(constr)\n",
    "\n",
    "    # Check that an attribute satisfies the constraints\n",
    "    def verify(self, attr: Attribute, constraint_vars: dict[str, Attribute]) -> None:\n",
    "        # We first check that the attribute is an ArrayAttr\n",
    "        if not isa(attr, ArrayAttr[Attribute]):\n",
    "            raise VerifyException(f\"expected attribute ArrayData but got {attr}\")\n",
    "\n",
    "        # We check the constraint for all elements in the array\n",
    "        for e in attr.data:\n",
    "            self.elem_constr.verify(e, constraint_vars)\n",
    "\n",
    "\n",
    "array_constraint = ArrayOfConstraint(IntAttr)\n",
    "\n",
    "# This will pass without triggering an exception\n",
    "array_constraint.verify(ArrayAttr([IntAttr(42)]), {})\n",
    "array_constraint.verify(ArrayAttr([IntAttr(3), IntAttr(7)]), {})"
   ]
  },
  {
   "cell_type": "code",
   "execution_count": 14,
   "id": "de0c5c5a",
   "metadata": {},
   "outputs": [
    {
     "name": "stdout",
     "output_type": "stream",
     "text": [
      "expected attribute ArrayData but got i32\n"
     ]
    }
   ],
   "source": [
    "# This will trigger an exception, since the attribute is not an array\n",
    "try:\n",
    "    array_constraint.verify(i32, {})\n",
    "except Exception as e:\n",
    "    print(e)"
   ]
  },
  {
   "cell_type": "code",
   "execution_count": 15,
   "id": "ad57e07b",
   "metadata": {},
   "outputs": [
    {
     "name": "stdout",
     "output_type": "stream",
     "text": [
      "\"ga\" should be of base attribute builtin.int\n"
     ]
    }
   ],
   "source": [
    "# This will trigger an exception, since the array contains attribute that do not satisfies the constraint\n",
    "try:\n",
    "    array_constraint.verify(ArrayAttr([IntAttr(42), StringAttr(\"ga\")]), {})\n",
    "except Exception as e:\n",
    "    print(e)"
   ]
  },
  {
   "attachments": {},
   "cell_type": "markdown",
   "id": "fa7462d5",
   "metadata": {},
   "source": [
    "## Attribute definition"
   ]
  },
  {
   "attachments": {},
   "cell_type": "markdown",
   "id": "6700817f",
   "metadata": {},
   "source": [
    "### Data attributes"
   ]
  },
  {
   "attachments": {},
   "cell_type": "markdown",
   "id": "6fc72e3f",
   "metadata": {},
   "source": [
    "`Data` attribute types are defined by inheriting the python `Data` class. Each data attribute definition should define a `name`, and two methods for conversion to a string representation. Here is for example the definition of `IntAttr`:"
   ]
  },
  {
   "cell_type": "code",
   "execution_count": 16,
   "id": "124e32cd",
   "metadata": {},
   "outputs": [
    {
     "name": "stdout",
     "output_type": "stream",
     "text": [
      "3"
     ]
    }
   ],
   "source": [
    "from xdsl.irdl import irdl_attr_definition\n",
    "from xdsl.ir import Data\n",
    "from xdsl.parser import AttrParser\n",
    "\n",
    "\n",
    "@irdl_attr_definition\n",
    "class MyIntAttr(Data[int]):\n",
    "    name = \"my_int\"\n",
    "\n",
    "    @classmethod\n",
    "    def parse_parameter(cls, parser: AttrParser) -> int:\n",
    "        data = parser.parse_integer()\n",
    "        return data\n",
    "\n",
    "    def print_parameter(self, printer: Printer) -> None:\n",
    "        printer.print_string(f\"{self.data}\")\n",
    "\n",
    "\n",
    "MyIntAttr(3).print_parameter(printer)"
   ]
  },
  {
   "attachments": {},
   "cell_type": "markdown",
   "id": "331478d4",
   "metadata": {},
   "source": [
    "### Parametrized attributes"
   ]
  },
  {
   "attachments": {},
   "cell_type": "markdown",
   "id": "36c28f4c",
   "metadata": {},
   "source": [
    "`ParametrizedAttribute` attribute types are defined using the `irdl_attr_definition` decorator on a class. Such class should contain a `name` field specifying the attribute name. Parameters are added to attribute definitions by defining fields containing a `ParameterDef`. The field names correspond to the parameter names, and `ParameterDef` contains a constraint that should be respected by this parameter. The order of the fields correspond to the order of the parameters when using the attribute. Upon construction of an attribute, all constraints will be checked, and an exception will be raised if the invariants are not satisfied.\n",
    "\n",
    "Here is an example of an integer type definition:"
   ]
  },
  {
   "cell_type": "code",
   "execution_count": 17,
   "id": "71235913",
   "metadata": {},
   "outputs": [
    {
     "name": "stdout",
     "output_type": "stream",
     "text": [
      "In integer_type attribute verifier: 1 parameters expected, got 2\n",
      "\"ga\" should be of base attribute builtin.int\n"
     ]
    }
   ],
   "source": [
    "from xdsl.ir import ParametrizedAttribute\n",
    "from xdsl.irdl import ParameterDef\n",
    "\n",
    "\n",
    "# Represent an integer type with a given bitwidth\n",
    "@irdl_attr_definition\n",
    "class MyIntegerType(ParametrizedAttribute):\n",
    "    # Name of the type. This is used for printing and parsing.\n",
    "    name = \"integer_type\"\n",
    "\n",
    "    # Only parameter of the type, with an `EqAttrConstraint` constraint.\n",
    "    # Note the use of the attribute constraint coercion.\n",
    "    width: ParameterDef[IntAttr]\n",
    "\n",
    "\n",
    "my_i32 = MyIntegerType([IntAttr(32)])\n",
    "\n",
    "# This will trigger an exception, since the attribute only expect a single attribute\n",
    "try:\n",
    "    MyIntegerType([IntAttr(32), IntAttr(64)])\n",
    "except Exception as e:\n",
    "    print(e)\n",
    "\n",
    "# This will trigger an exception, since the attribute is not an IntAttr\n",
    "try:\n",
    "    MyIntegerType([StringAttr(\"ga\")])\n",
    "except Exception as e:\n",
    "    print(e)"
   ]
  },
  {
   "attachments": {},
   "cell_type": "markdown",
   "id": "a12379ed",
   "metadata": {},
   "source": [
    "Each parameter can be accessed using the `parameters` field."
   ]
  },
  {
   "cell_type": "code",
   "execution_count": 18,
   "id": "37d898dd",
   "metadata": {},
   "outputs": [
    {
     "data": {
      "text/plain": [
       "[IntAttr(data=32)]"
      ]
     },
     "execution_count": 18,
     "metadata": {},
     "output_type": "execute_result"
    }
   ],
   "source": [
    "my_i32.parameters"
   ]
  },
  {
   "attachments": {},
   "cell_type": "markdown",
   "id": "b12eac71",
   "metadata": {},
   "source": [
    "Our attribute definition also defines accessors for each parameter based on the name given in the `ParameterDef` field:"
   ]
  },
  {
   "cell_type": "code",
   "execution_count": 19,
   "id": "839f1113",
   "metadata": {},
   "outputs": [
    {
     "data": {
      "text/plain": [
       "IntAttr(data=32)"
      ]
     },
     "execution_count": 19,
     "metadata": {},
     "output_type": "execute_result"
    }
   ],
   "source": [
    "my_i32.width"
   ]
  },
  {
   "attachments": {},
   "cell_type": "markdown",
   "id": "f64eeac0",
   "metadata": {},
   "source": [
    "## Operation definition"
   ]
  },
  {
   "attachments": {},
   "cell_type": "markdown",
   "id": "565c0893",
   "metadata": {},
   "source": [
    "Operations are defined similarly to `ParametrizedAttribute`, by using the `irdl_op_definition` decorator. The decorator allows the definition of expected operands, results, attributes, and regions. Each definition should contain a `name` static field, which is used for parsing and printing:"
   ]
  },
  {
   "cell_type": "code",
   "execution_count": 20,
   "id": "37cd98f4",
   "metadata": {},
   "outputs": [
    {
     "name": "stdout",
     "output_type": "stream",
     "text": [
      "\"my_dialect.my_op\"() : () -> ()"
     ]
    }
   ],
   "source": [
    "from xdsl.irdl import irdl_op_definition, IRDLOperation\n",
    "\n",
    "\n",
    "@irdl_op_definition\n",
    "class MyEmptyOp(IRDLOperation):\n",
    "    name = \"my_dialect.my_op\"\n",
    "\n",
    "\n",
    "my_op = MyEmptyOp.build()\n",
    "printer.print_op(my_op)"
   ]
  },
  {
   "attachments": {},
   "cell_type": "markdown",
   "id": "cf6f57b1",
   "metadata": {},
   "source": [
    "### Operands and Results"
   ]
  },
  {
   "attachments": {},
   "cell_type": "markdown",
   "id": "89ad8ba5",
   "metadata": {},
   "source": [
    "Operands and results are added using fields containing `Operand` and `OpResult`, which each contain an attribute constraint. The order correspond to the operand and result order, and the constraint applies on the SSA variable type.\n",
    "\n",
    "Here is an example of an operation defining operands and a result:"
   ]
  },
  {
   "cell_type": "code",
   "execution_count": 21,
   "id": "ab101eee",
   "metadata": {},
   "outputs": [
    {
     "name": "stdout",
     "output_type": "stream",
     "text": [
      "%0 = arith.constant 62 : i32\n",
      "%1 = \"arith.addi32\"(%0, %0) : (i32, i32) -> i32"
     ]
    }
   ],
   "source": [
    "from typing import Annotated\n",
    "\n",
    "from xdsl.ir import OpResult\n",
    "from xdsl.irdl import Operand, operand_def, result_def\n",
    "from xdsl.dialects.arith import Constant\n",
    "\n",
    "\n",
    "@irdl_op_definition\n",
    "class Addi32(IRDLOperation):\n",
    "    name = \"arith.addi32\"\n",
    "\n",
    "    # Definition of operands and results.\n",
    "    # Note the use of the attribute constraint coercion.\n",
    "    input1: Operand = operand_def(i32)\n",
    "    input2: Operand = operand_def(i32)\n",
    "    output: OpResult = result_def(i32)\n",
    "\n",
    "\n",
    "i32_ssa_var = Constant(IntegerAttr.from_int_and_width(62, 32), i32)\n",
    "my_addi32 = Addi32.build(\n",
    "    operands=[i32_ssa_var.result, i32_ssa_var.result], result_types=[i32]\n",
    ")\n",
    "printer.print_op(i32_ssa_var)\n",
    "print()\n",
    "printer.print_op(my_addi32)"
   ]
  },
  {
   "attachments": {},
   "cell_type": "markdown",
   "id": "63bdbb95",
   "metadata": {},
   "source": [
    "The operation expects exactly the number of operands and results defined and checks that operands and results satisfy their invariants using the `verify` method."
   ]
  },
  {
   "cell_type": "code",
   "execution_count": 22,
   "id": "40f730fa",
   "metadata": {},
   "outputs": [],
   "source": [
    "# This will pass since the invariants are satisfied\n",
    "my_addi32.verify()"
   ]
  },
  {
   "cell_type": "code",
   "execution_count": 23,
   "id": "c10a416c",
   "metadata": {},
   "outputs": [
    {
     "name": "stdout",
     "output_type": "stream",
     "text": [
      "Expected 2 operand, but got 1\n"
     ]
    }
   ],
   "source": [
    "# Wrong number of operands\n",
    "try:\n",
    "    bad_addi32 = Addi32.build(operands=[i32_ssa_var], result_types=[i32])\n",
    "except Exception as e:\n",
    "    print(e)"
   ]
  },
  {
   "cell_type": "code",
   "execution_count": 24,
   "id": "6bfa01b3",
   "metadata": {},
   "outputs": [
    {
     "name": "stdout",
     "output_type": "stream",
     "text": [
      "Expected 1 result, but got 2\n"
     ]
    }
   ],
   "source": [
    "# Wrong number of results\n",
    "try:\n",
    "    bad_addi32 = Addi32.build(\n",
    "        operands=[i32_ssa_var, i32_ssa_var], result_types=[i32, i32]\n",
    "    )\n",
    "except Exception as e:\n",
    "    print(e)"
   ]
  },
  {
   "cell_type": "code",
   "execution_count": 25,
   "id": "789669c1",
   "metadata": {},
   "outputs": [
    {
     "name": "stdout",
     "output_type": "stream",
     "text": [
      "Operation does not verify: arith.addi32 operation does not verify\n",
      "\n",
      "%0 = \"arith.addi32\"(%1, %1) : (i32, i32) -> i64\n",
      "\n",
      "\n",
      "\n",
      "%0 = \"arith.addi32\"(%1, %1) : (i32, i32) -> i64\n",
      "\n",
      "\n"
     ]
    }
   ],
   "source": [
    "# Wrong result type\n",
    "bad_addi32 = Addi32.build(operands=[i32_ssa_var, i32_ssa_var], result_types=[i64])\n",
    "\n",
    "try:\n",
    "    bad_addi32.verify()\n",
    "except Exception as e:\n",
    "    print(e)"
   ]
  },
  {
   "attachments": {},
   "cell_type": "markdown",
   "id": "4e91b76e",
   "metadata": {},
   "source": [
    "As with `ParametrizedAttribute`, each operand and result definition defines accessors to easily access operands and results:"
   ]
  },
  {
   "cell_type": "code",
   "execution_count": 26,
   "id": "237cab4b",
   "metadata": {},
   "outputs": [],
   "source": [
    "assert my_addi32.input1 == my_addi32.operands[0]\n",
    "assert my_addi32.input2 == my_addi32.operands[1]\n",
    "assert my_addi32.output == my_addi32.results[0]"
   ]
  },
  {
   "attachments": {},
   "cell_type": "markdown",
   "id": "850ee366",
   "metadata": {},
   "source": [
    "### Constraint variables"
   ]
  },
  {
   "attachments": {},
   "cell_type": "markdown",
   "id": "7cd6baec",
   "metadata": {},
   "source": [
    "Constraint variables can directly be used in Operation and Attribute definitions by using a `TypeAlias` annotated with a `ConstraintVar`. "
   ]
  },
  {
   "cell_type": "code",
   "execution_count": 27,
   "id": "477d309e",
   "metadata": {},
   "outputs": [
    {
     "name": "stdout",
     "output_type": "stream",
     "text": [
      "Operation does not verify: binary_op operation does not verify\n",
      "\n",
      "%0 = \"binary_op\"(%1, %1) : (i32, i32) -> i64\n",
      "\n",
      "\n",
      "\n",
      "%0 = \"binary_op\"(%1, %1) : (i32, i32) -> i64\n",
      "\n",
      "\n"
     ]
    }
   ],
   "source": [
    "from xdsl.irdl import ConstraintVar\n",
    "\n",
    "\n",
    "@irdl_op_definition\n",
    "class BinaryOp(IRDLOperation):\n",
    "    name = \"binary_op\"\n",
    "\n",
    "    T = Annotated[IntegerType, ConstraintVar(\"T\")]\n",
    "\n",
    "    lhs: Operand = operand_def(T)\n",
    "    rhs: Operand = operand_def(T)\n",
    "    result: OpResult = result_def(T)\n",
    "\n",
    "\n",
    "op = BinaryOp.build(operands=[i32_ssa_var, i32_ssa_var], result_types=[i32])\n",
    "op.verify()\n",
    "\n",
    "op_incorrect = BinaryOp.build(operands=[i32_ssa_var, i32_ssa_var], result_types=[i64])\n",
    "try:\n",
    "    op_incorrect.verify()\n",
    "except Exception as e:\n",
    "    print(e)"
   ]
  },
  {
   "attachments": {},
   "cell_type": "markdown",
   "id": "7ca2d81f",
   "metadata": {
    "tags": []
   },
   "source": [
    "### Variadic operands and results"
   ]
  },
  {
   "attachments": {},
   "cell_type": "markdown",
   "id": "df3363f0",
   "metadata": {},
   "source": [
    "Operand and result definitions can be defined variadic, meaning that their definition can have different numbers of operands or results. Variadic definitions are defined with `VarOperand` and `VarResultDef`."
   ]
  },
  {
   "cell_type": "code",
   "execution_count": 28,
   "id": "4114ad65",
   "metadata": {},
   "outputs": [
    {
     "name": "stdout",
     "output_type": "stream",
     "text": [
      "%2 = arith.constant 62 : i32\n",
      "%3 = \"add_variadic\"(%2, %2, %2) : (i32, i32, i32) -> i32"
     ]
    }
   ],
   "source": [
    "from xdsl.irdl import VarOperand, var_operand_def\n",
    "\n",
    "\n",
    "@irdl_op_definition\n",
    "class AddVariadicOp(IRDLOperation):\n",
    "    name = \"add_variadic\"\n",
    "    ops: VarOperand = var_operand_def(i32)\n",
    "    res: OpResult = result_def(i32)\n",
    "\n",
    "\n",
    "i32_ssa_var = Constant(IntegerAttr.from_int_and_width(62, 32), i32)\n",
    "add_op = AddVariadicOp.build(operands=[[i32_ssa_var] * 3], result_types=[i32])\n",
    "printer.print_op(i32_ssa_var)\n",
    "print()\n",
    "printer.print_op(add_op)"
   ]
  },
  {
   "attachments": {},
   "cell_type": "markdown",
   "id": "af200030",
   "metadata": {},
   "source": [
    "Generated accessors return list of SSA variables instead of a single variable:"
   ]
  },
  {
   "cell_type": "code",
   "execution_count": 29,
   "id": "fb78943b",
   "metadata": {},
   "outputs": [
    {
     "name": "stdout",
     "output_type": "stream",
     "text": [
      "3\n"
     ]
    }
   ],
   "source": [
    "print(len(add_op.ops))"
   ]
  },
  {
   "attachments": {},
   "cell_type": "markdown",
   "id": "c244d389",
   "metadata": {},
   "source": [
    "Since it may be ambiguous, it is not possible to simply define two variadic operands, or two variadic results. To do so, the operation definition requires the `AttrSizedOperandSegments` or `AttrSizedResultSegments` IRDL option, which require the operation to contain a `operandSegmentSizes` or `resultSegmentSizes` attribute, containing the size of the variadic operands, and variadic results."
   ]
  },
  {
   "cell_type": "code",
   "execution_count": 30,
   "id": "cd39869a",
   "metadata": {},
   "outputs": [
    {
     "name": "stdout",
     "output_type": "stream",
     "text": [
      "Length of add_op2.ops1: 2\n",
      "Length of add_op2.ops2: 1\n"
     ]
    }
   ],
   "source": [
    "from xdsl.irdl import AttrSizedOperandSegments\n",
    "from xdsl.dialects.builtin import VectorType\n",
    "\n",
    "\n",
    "@irdl_op_definition\n",
    "class AddVariadicOp2(IRDLOperation):\n",
    "    name = \"add_variadic\"\n",
    "    ops1: VarOperand = var_operand_def(i32)\n",
    "    ops2: VarOperand = var_operand_def(i32)\n",
    "    res: OpResult = result_def(i32)\n",
    "\n",
    "    irdl_options = [AttrSizedOperandSegments()]\n",
    "\n",
    "\n",
    "i32_ssa_var = Constant(IntegerAttr.from_int_and_width(62, 32), i32)\n",
    "add_op2 = AddVariadicOp2.build(\n",
    "    operands=[[i32_ssa_var] * 2, [i32_ssa_var]],\n",
    "    result_types=[i32],\n",
    "    attributes={\n",
    "        \"operandSegmentSizes\": VectorType(i32, [2, 1])\n",
    "    },\n",
    ")\n",
    "print(\"Length of add_op2.ops1:\", len(add_op2.ops1))\n",
    "print(\"Length of add_op2.ops2:\", len(add_op2.ops2))"
   ]
  },
  {
   "attachments": {},
   "cell_type": "markdown",
   "id": "750648d5",
   "metadata": {},
   "source": [
    "In addition to variadic operands and results, IRDL also allows the definition of optional operands and results. Optional operands and results are essentially variadic operands and regions that are constrained to have either 0 or 1 elements. They are defined using `OptOperand` and `OptResultDef`, and define accessors returning optional SSA variables."
   ]
  },
  {
   "cell_type": "code",
   "execution_count": 31,
   "id": "568bea3c",
   "metadata": {},
   "outputs": [
    {
     "name": "stdout",
     "output_type": "stream",
     "text": [
      "<OpResult[i32] index: 0, operation: arith.constant, uses: 2>\n",
      "None\n"
     ]
    }
   ],
   "source": [
    "from xdsl.irdl import OptOperand, opt_operand_def\n",
    "\n",
    "\n",
    "@irdl_op_definition\n",
    "class AddVariadicOp2(IRDLOperation):\n",
    "    name = \"add_optional\"\n",
    "    ops1: Operand = operand_def(i32)\n",
    "    ops2: OptOperand = opt_operand_def(i32)\n",
    "    res: OpResult = result_def(i32)\n",
    "\n",
    "\n",
    "i32_ssa_var = Constant(IntegerAttr.from_int_and_width(62, 32), i32)\n",
    "add_op3 = AddVariadicOp2.build(\n",
    "    operands=[i32_ssa_var, [i32_ssa_var]], result_types=[i32]\n",
    ")\n",
    "print(add_op3.ops2)\n",
    "\n",
    "add_op4 = AddVariadicOp2.build(operands=[i32_ssa_var, []], result_types=[i32])\n",
    "print(add_op4.ops2)"
   ]
  },
  {
   "attachments": {},
   "cell_type": "markdown",
   "id": "40a5df55",
   "metadata": {},
   "source": [
    "### Attributes definition"
   ]
  },
  {
   "attachments": {},
   "cell_type": "markdown",
   "id": "bd06095b",
   "metadata": {},
   "source": [
    "Attribute definitions are defined using `OpAttr`. The field name correspond to the expected attribute name."
   ]
  },
  {
   "cell_type": "code",
   "execution_count": 32,
   "id": "38f82633",
   "metadata": {},
   "outputs": [
    {
     "name": "stdout",
     "output_type": "stream",
     "text": [
      "\"string_attr_op\"() {\"value\" = \"ga\"} : () -> ()"
     ]
    }
   ],
   "source": [
    "from xdsl.irdl import attr_def\n",
    "\n",
    "\n",
    "@irdl_op_definition\n",
    "class StringAttrOp(IRDLOperation):\n",
    "    name = \"string_attr_op\"\n",
    "    value: StringAttr = attr_def(StringAttr)\n",
    "\n",
    "\n",
    "my_attr_op = StringAttrOp.build(attributes={\"value\": StringAttr(\"ga\")})\n",
    "my_attr_op.verify()\n",
    "printer.print_op(my_attr_op)"
   ]
  },
  {
   "attachments": {},
   "cell_type": "markdown",
   "id": "60359257",
   "metadata": {},
   "source": [
    "The defined verifier ensures that the attribute is present:"
   ]
  },
  {
   "cell_type": "code",
   "execution_count": 33,
   "id": "51bc29d5",
   "metadata": {},
   "outputs": [
    {
     "name": "stdout",
     "output_type": "stream",
     "text": [
      "Operation does not verify: attribute value expected\n",
      "\n",
      "\"string_attr_op\"() : () -> ()\n",
      "\n",
      "\n"
     ]
    }
   ],
   "source": [
    "my_attr_op = StringAttrOp.build()\n",
    "try:\n",
    "    my_attr_op.verify()\n",
    "except Exception as e:\n",
    "    print(e)"
   ]
  },
  {
   "attachments": {},
   "cell_type": "markdown",
   "id": "d7475215",
   "metadata": {},
   "source": [
    "And expects that the attribute respect the constraint:"
   ]
  },
  {
   "cell_type": "code",
   "execution_count": 34,
   "id": "d256e75f",
   "metadata": {},
   "outputs": [],
   "source": [
    "try:\n",
    "    my_attr_op = StringAttrOp.build(attributes={\"value\": IntAttr(42)})\n",
    "except Exception as e:\n",
    "    print(e)"
   ]
  },
  {
   "attachments": {},
   "cell_type": "markdown",
   "id": "a9c0a907",
   "metadata": {},
   "source": [
    "Note that contrary to operands and results, other attributes may appear in an operation, even though they are not defined by the operation:\n"
   ]
  },
  {
   "cell_type": "code",
   "execution_count": 35,
   "id": "de32620d",
   "metadata": {},
   "outputs": [
    {
     "name": "stdout",
     "output_type": "stream",
     "text": [
      "\"string_attr_op\"() {\"value\" = \"ga\", \"other_attr\" = #builtin.int<42>} : () -> ()"
     ]
    }
   ],
   "source": [
    "my_attr_op = StringAttrOp.build(\n",
    "    attributes={\"value\": StringAttr(\"ga\"), \"other_attr\": IntAttr(42)}\n",
    ")\n",
    "my_attr_op.verify()\n",
    "printer.print_op(my_attr_op)"
   ]
  },
  {
   "attachments": {},
   "cell_type": "markdown",
   "id": "ed9d8538",
   "metadata": {},
   "source": [
    "### Regions"
   ]
  },
  {
   "attachments": {},
   "cell_type": "markdown",
   "id": "5c61abd5",
   "metadata": {},
   "source": [
    "Regions definitions are defined using `Region` or `SingleBlockRegion` annotations. The second definition constrains the region to contain a single block, and both definitions allows to further constraint the region by giving a constraint for the entry basic block parameters."
   ]
  },
  {
   "cell_type": "code",
   "execution_count": 36,
   "id": "e7a363f9",
   "metadata": {},
   "outputs": [
    {
     "name": "stdout",
     "output_type": "stream",
     "text": [
      "\"while_op\"() ({\n",
      "^0(%4 : i32):\n",
      "}) : () -> ()"
     ]
    }
   ],
   "source": [
    "from xdsl.irdl import Region, Block, region_def\n",
    "from xdsl.traits import NoTerminator\n",
    "\n",
    "\n",
    "@irdl_op_definition\n",
    "class WhileOp(IRDLOperation):\n",
    "    name = \"while_op\"\n",
    "    value: Region = region_def()\n",
    "    traits = frozenset([NoTerminator()])\n",
    "\n",
    "\n",
    "region = Region(Block(arg_types=[i32]))\n",
    "region_op = WhileOp.build(regions=[region])\n",
    "region_op.verify()\n",
    "printer.print_op(region_op)"
   ]
  },
  {
   "attachments": {},
   "cell_type": "markdown",
   "id": "4dbea4ba",
   "metadata": {},
   "source": [
    "### Additional verifiers"
   ]
  },
  {
   "attachments": {},
   "cell_type": "markdown",
   "id": "46890068",
   "metadata": {},
   "source": [
    "`irdl_op_definition` is not expressive enough to define arbitrary constraints, especially for constraints spanning over multiple operand and result definitions. To circumvent that, definitions may define a `verify_` method that will be called in the generated verifier:"
   ]
  },
  {
   "cell_type": "code",
   "execution_count": 37,
   "id": "207fa9c9",
   "metadata": {},
   "outputs": [
    {
     "name": "stdout",
     "output_type": "stream",
     "text": [
      "Operation does not verify: arith.addi operation does not verify\n",
      "\n",
      "%0 = \"arith.addi\"(%1, %1) : (i32, i32) -> i64\n",
      "\n",
      "\n",
      "\n",
      "%0 = \"arith.addi\"(%1, %1) : (i32, i32) -> i64\n",
      "\n",
      "\n"
     ]
    }
   ],
   "source": [
    "from xdsl.dialects.builtin import IntegerType\n",
    "from xdsl.dialects.arith import Addi\n",
    "\n",
    "\n",
    "@irdl_op_definition\n",
    "class MyAddi(IRDLOperation):\n",
    "    name = \"std.addi\"\n",
    "    input1: Operand = operand_def(IntegerType)\n",
    "    input2: Operand = operand_def(IntegerType)\n",
    "    output: OpResult = result_def(IntegerType)\n",
    "\n",
    "    # Ensure that the inputs and outputs have the same type:\n",
    "    def verify_(self) -> None:\n",
    "        if self.input1.type != self.input2.type or self.input2.type != self.output.type:\n",
    "            raise Exception(\"expect all input and output types to be equal\")\n",
    "\n",
    "\n",
    "i32_ssa_var = Constant(IntegerAttr.from_int_and_width(62, 32), i32)\n",
    "add_op = Addi.build(operands=[i32_ssa_var, i32_ssa_var], result_types=[i32])\n",
    "# This will pass, since all operands and results have the same type\n",
    "add_op.verify()\n",
    "\n",
    "# This will raise an error, since the result has a different type than the operands\n",
    "bad_add_op = Addi.build(operands=[i32_ssa_var, i32_ssa_var], result_types=[i64])\n",
    "try:\n",
    "    bad_add_op.verify()\n",
    "except Exception as e:\n",
    "    print(e)"
   ]
  }
 ],
 "metadata": {
  "language_info": {
   "name": "python"
  }
 },
 "nbformat": 4,
 "nbformat_minor": 5
}
