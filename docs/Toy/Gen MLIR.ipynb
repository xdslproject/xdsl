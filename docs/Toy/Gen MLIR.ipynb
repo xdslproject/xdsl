{
 "cells": [
  {
   "cell_type": "code",
   "execution_count": null,
   "metadata": {},
   "outputs": [],
   "source": [
    "from pathlib import Path\n",
    "from toy.parser import Parser\n",
    "\n",
    "ast_toy = Path() / 'examples' / 'codegen.toy'\n",
    "\n",
    "with open(ast_toy, 'r') as f:\n",
    "    parser = Parser(ast_toy, f.read())\n",
    "\n",
    "module_ast = parser.parseModule()\n",
    "print(module_ast.dump())\n"
   ]
  },
  {
   "cell_type": "code",
   "execution_count": null,
   "metadata": {},
   "outputs": [],
   "source": [
    "from xdsl.ir import MLContext\n",
    "from xdsl.printer import Printer\n",
    "\n",
    "from toy.mlir_gen import MLIRGen\n",
    "\n",
    "ctx = MLContext()\n",
    "bla = MLIRGen(ctx)\n",
    "\n",
    "module_op = bla.mlir_gen_module(module_ast)\n",
    "\n",
    "printer = Printer(target=Printer.Target.MLIR)\n",
    "\n",
    "printer.print(module_op)"
   ]
  },
  {
   "cell_type": "code",
   "execution_count": null,
   "metadata": {},
   "outputs": [],
   "source": [
    "with open('/tmp/bla-xdsl.mlir', 'w') as f:\n",
    "    my_printer = Printer(target=Printer.Target.MLIR, stream=f)\n",
    "    my_printer.print(module_op)\n",
    "\n",
    "import os\n",
    "\n",
    "llvm_repo_path = '~/Develop/llvm/llvm-project'\n",
    "\n",
    "# Rewrite generic syntax using MLIR to make prettier\n",
    "os.system(llvm_repo_path + '/build/bin/mlir-opt /tmp/bla-xdsl.mlir --mlir-print-op-generic -allow-unregistered-dialect &> /tmp/bla-mlir.mlir')\n",
    "\n",
    "\n",
    "os.system(llvm_repo_path + '/build/bin/toyc-ch6 /tmp/bla-cpp.mlir -emit=jit')"
   ]
  },
  {
   "cell_type": "code",
   "execution_count": null,
   "metadata": {},
   "outputs": [],
   "source": []
  }
 ],
 "metadata": {
  "kernelspec": {
   "display_name": "venv",
   "language": "python",
   "name": "python3"
  },
  "language_info": {
   "codemirror_mode": {
    "name": "ipython",
    "version": 3
   },
   "file_extension": ".py",
   "mimetype": "text/x-python",
   "name": "python",
   "nbconvert_exporter": "python",
   "pygments_lexer": "ipython3",
   "version": "3.11.0 (main, Oct 25 2022, 14:13:24) [Clang 14.0.0 (clang-1400.0.29.202)]"
  },
  "orig_nbformat": 4,
  "vscode": {
   "interpreter": {
    "hash": "fda08596110b9a36b84966695987440228e4b909cf8fcaa87f570c5f74df3470"
   }
  }
 },
 "nbformat": 4,
 "nbformat_minor": 2
}
