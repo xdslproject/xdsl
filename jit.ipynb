{
 "cells": [
  {
   "cell_type": "markdown",
   "metadata": {},
   "source": [
    " - hash name\n",
    " - get python types from function type\n",
    " - add a compile function that takes (name, input types, output types) and returns a callable"
   ]
  },
  {
   "cell_type": "code",
   "execution_count": 1,
   "metadata": {},
   "outputs": [],
   "source": [
    "n = 1000000"
   ]
  },
  {
   "cell_type": "code",
   "execution_count": 2,
   "metadata": {},
   "outputs": [],
   "source": [
    "from pathlib import Path\n",
    "from xdsl.builder import ImplicitBuilder\n",
    "\n",
    "from xdsl.dialects import func, arith, memref, scf\n",
    "from xdsl.dialects.builtin import ModuleOp, i64, f64, IndexType\n",
    "from xdsl.ir.core import Block, Region\n",
    "\n",
    "index = IndexType()\n",
    "\n",
    "def get_module() -> ModuleOp:\n",
    "    memref_t = memref.MemRefType.from_element_type_and_shape(f64, [n])\n",
    "    module = ModuleOp([])\n",
    "    with ImplicitBuilder(module.body):\n",
    "        f = func.FuncOp(\"hello\", ((i64, i64), (i64,)))\n",
    "        with ImplicitBuilder(f.body) as (lhs, rhs):\n",
    "            res = arith.Addi(lhs, rhs).result\n",
    "            func.Return(res)\n",
    "\n",
    "        g = func.FuncOp(\"dist\", ((memref_t, memref_t), (f64,)))\n",
    "        with ImplicitBuilder(g.body) as (lhs, rhs):\n",
    "            zero = arith.Constant.from_int_and_width(0, index).result\n",
    "            one = arith.Constant.from_int_and_width(1, index).result\n",
    "            hundo = arith.Constant.from_int_and_width(n, index).result\n",
    "\n",
    "            initial = arith.Constant.from_float_and_width(0.0, f64).result\n",
    "\n",
    "            body = Region(Block(arg_types=(index, f64)))\n",
    "            norm_squared = scf.For.get(zero, hundo, one, (initial,), body)\n",
    "            with ImplicitBuilder(norm_squared.body) as (i, acc):\n",
    "                lhs_el = memref.Load.get(lhs, (i,)).res\n",
    "                rhs_el = memref.Load.get(rhs, (i,)).res\n",
    "                sq = arith.Mulf(lhs_el, rhs_el).result\n",
    "                new_acc = arith.Addf(acc, sq)\n",
    "                scf.Yield.get(new_acc)\n",
    "            \n",
    "            func.Return(norm_squared)\n",
    "\n",
    "    return module\n",
    "\n",
    "m = get_module()\n",
    "m.verify()\n",
    "\n",
    "str(get_module())\n",
    "\n",
    "with open(Path() / \"input.mlir\", 'w') as f:\n",
    "    f.write(str(get_module()))"
   ]
  },
  {
   "cell_type": "code",
   "execution_count": 11,
   "metadata": {},
   "outputs": [
    {
     "data": {
      "text/plain": [
       "11"
      ]
     },
     "execution_count": 11,
     "metadata": {},
     "output_type": "execute_result"
    }
   ],
   "source": [
    "from xdsl.jit import jit_module\n",
    "import ctypes\n",
    "\n",
    "dbl_ptr_type = ctypes.POINTER(ctypes.c_double)\n",
    "\n",
    "hey = jit_module(get_module(), \"hello\", types=((int, int), int))\n",
    "dist_mlir = jit_module(get_module(), \"dist\", types=((dbl_ptr_type, dbl_ptr_type), float))\n",
    "hey(5,6)"
   ]
  },
  {
   "cell_type": "code",
   "execution_count": 12,
   "metadata": {},
   "outputs": [],
   "source": [
    "import numpy as np"
   ]
  },
  {
   "cell_type": "code",
   "execution_count": 13,
   "metadata": {},
   "outputs": [],
   "source": [
    "\n",
    "a = np.random.random(n)\n",
    "b = np.random.random(n)"
   ]
  },
  {
   "cell_type": "code",
   "execution_count": 14,
   "metadata": {},
   "outputs": [
    {
     "name": "stdout",
     "output_type": "stream",
     "text": [
      "CPU times: user 8.59 ms, sys: 1.87 ms, total: 10.5 ms\n",
      "Wall time: 8.96 ms\n"
     ]
    },
    {
     "data": {
      "text/plain": [
       "249970.96343905377"
      ]
     },
     "execution_count": 14,
     "metadata": {},
     "output_type": "execute_result"
    }
   ],
   "source": [
    "a_data_ptr = a.ctypes.data_as(dbl_ptr_type)\n",
    "b_data_ptr = b.ctypes.data_as(dbl_ptr_type)\n",
    "%time dist_mlir(a_data_ptr, b_data_ptr)"
   ]
  },
  {
   "cell_type": "code",
   "execution_count": 7,
   "metadata": {},
   "outputs": [
    {
     "name": "stdout",
     "output_type": "stream",
     "text": [
      "CPU times: user 13 µs, sys: 59 µs, total: 72 µs\n",
      "Wall time: 10 µs\n"
     ]
    },
    {
     "data": {
      "text/plain": [
       "11"
      ]
     },
     "execution_count": 7,
     "metadata": {},
     "output_type": "execute_result"
    }
   ],
   "source": [
    "%time hey(5, 6)"
   ]
  },
  {
   "cell_type": "code",
   "execution_count": 8,
   "metadata": {},
   "outputs": [
    {
     "name": "stdout",
     "output_type": "stream",
     "text": [
      "CPU times: user 1 µs, sys: 1 µs, total: 2 µs\n",
      "Wall time: 1.67 µs\n"
     ]
    },
    {
     "data": {
      "text/plain": [
       "3"
      ]
     },
     "execution_count": 8,
     "metadata": {},
     "output_type": "execute_result"
    }
   ],
   "source": [
    "%time 1 + 2"
   ]
  },
  {
   "cell_type": "code",
   "execution_count": 9,
   "metadata": {},
   "outputs": [
    {
     "name": "stdout",
     "output_type": "stream",
     "text": [
      "CPU times: user 1.03 ms, sys: 2.83 ms, total: 3.86 ms\n",
      "Wall time: 520 µs\n"
     ]
    },
    {
     "data": {
      "text/plain": [
       "250036.2650088617"
      ]
     },
     "execution_count": 9,
     "metadata": {},
     "output_type": "execute_result"
    }
   ],
   "source": [
    "from typing import Any\n",
    "\n",
    "\n",
    "def dist_np(lhs: np.ndarray[Any, np.dtype[np.float64]], rhs: np.ndarray[Any, np.dtype[np.float64]]) -> np.float64:\n",
    "    return lhs.dot(rhs)\n",
    "\n",
    "%time dist_np(a, b)"
   ]
  },
  {
   "cell_type": "code",
   "execution_count": 10,
   "metadata": {},
   "outputs": [
    {
     "name": "stdout",
     "output_type": "stream",
     "text": [
      "CPU times: user 766 ms, sys: 184 ms, total: 950 ms\n",
      "Wall time: 107 ms\n"
     ]
    },
    {
     "data": {
      "text/plain": [
       "250036.26500887092"
      ]
     },
     "execution_count": 10,
     "metadata": {},
     "output_type": "execute_result"
    }
   ],
   "source": [
    "def dist_python(lhs: np.ndarray[Any, np.dtype[np.float64]], rhs: np.ndarray[Any, np.dtype[np.float64]]) -> np.float64:\n",
    "    return sum(l * r for (l, r) in zip(lhs, rhs))\n",
    "\n",
    "%time dist_python(a, b)"
   ]
  },
  {
   "cell_type": "code",
   "execution_count": null,
   "metadata": {},
   "outputs": [],
   "source": []
  }
 ],
 "metadata": {
  "kernelspec": {
   "display_name": "venv",
   "language": "python",
   "name": "venv"
  },
  "language_info": {
   "codemirror_mode": {
    "name": "ipython",
    "version": 3
   },
   "file_extension": ".py",
   "mimetype": "text/x-python",
   "name": "python",
   "nbconvert_exporter": "python",
   "pygments_lexer": "ipython3",
   "version": "3.11.4"
  },
  "orig_nbformat": 4
 },
 "nbformat": 4,
 "nbformat_minor": 2
}
