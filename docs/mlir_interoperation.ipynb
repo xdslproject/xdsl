{
 "cells": [
  {
   "cell_type": "markdown",
   "id": "478e8ef4-f3a7-4aec-b1f6-ffa60aa88697",
   "metadata": {},
   "source": [
    "# xDSL-MLIR interoperation tutorial\n",
    "\n",
    "This tutorial aims to showcase a simple pipeline of actions to unlock MLIR optimisations when lowering from xDSL.\n",
    "This tutorial can help users getting familiar with the xDSL-MLIR interoperation. We will start from a higher level of xDSL abstraction, lower to MLIR generic format, apply an optimisation and the return to xDSL-land."
   ]
  },
  {
   "cell_type": "markdown",
   "id": "a3721339-9b8d-4743-b5da-e920f9afd3e9",
   "metadata": {
    "tags": []
   },
   "source": [
    "# Problem setup\n",
    "\n",
    "We start by writing a simple example consisting of adding integers. \n",
    "We are writing this example using constructs that are supported in xDSL.\n",
    "\n",
    "We create 4 integers, namely a, b, c, d.\n",
    "Then we just accumulate by the simple following pseudocode and print the result:\n",
    "\n",
    "\n",
    "```bash\n",
    "a = 1\n",
    "b = 2\n",
    "c = a + b\n",
    "d = a + b\n",
    "e = c + d\n",
    "print(e)\n",
    "```\n"
   ]
  },
  {
   "cell_type": "code",
   "execution_count": 1,
   "id": "e86541f5-af35-4c73-9a8c-4c43e7d365d6",
   "metadata": {},
   "outputs": [],
   "source": [
    "from xdsl.dialects.arith import Addi, Constant\n",
    "from xdsl.dialects.builtin import i32, ModuleOp, IntegerAttr\n",
    "from xdsl.dialects.vector import Print\n",
    "from xdsl.ir import Region, Block\n",
    "\n",
    "# Define two integer constants\n",
    "a = Constant.from_attr(IntegerAttr.from_int_and_width(1, 32), i32)\n",
    "b = Constant.from_attr(IntegerAttr.from_int_and_width(2, 32), i32)\n",
    "\n",
    "# Operations on these constants\n",
    "c = Addi.get(a, b)\n",
    "d = Addi.get(a, b)\n",
    "e = Addi.get(c, d)\n",
    "f = Print.get(e)\n",
    "\n",
    "# Create Block from operations and Region from blocks\n",
    "block0 = Block.from_ops([a, b, c, d, e, f])\n",
    "region0 = Region.from_block_list([block0])\n",
    "\n",
    "# Create an Operation from the region\n",
    "op = ModuleOp.from_region_or_ops(region0)"
   ]
  },
  {
   "cell_type": "markdown",
   "id": "849b8140",
   "metadata": {},
   "source": [
    "Using xDSLs printer we can print this operation.\n",
    "For convenience we provide a file called `source.xdsl` with the code printed below"
   ]
  },
  {
   "cell_type": "code",
   "execution_count": 2,
   "id": "2f2287be",
   "metadata": {},
   "outputs": [
    {
     "name": "stdout",
     "output_type": "stream",
     "text": [
      "builtin.module() {\n",
      "  %0 : !i32 = arith.constant() [\"value\" = 1 : !i32]\n",
      "  %1 : !i32 = arith.constant() [\"value\" = 2 : !i32]\n",
      "  %2 : !i32 = arith.addi(%0 : !i32, %1 : !i32)\n",
      "  %3 : !i32 = arith.addi(%0 : !i32, %1 : !i32)\n",
      "  %4 : !i32 = arith.addi(%2 : !i32, %3 : !i32)\n",
      "  vector.print(%4 : !i32)\n",
      "}\n"
     ]
    }
   ],
   "source": [
    "from xdsl.printer import Printer\n",
    "\n",
    "# Print in xdsl format\n",
    "printer = Printer()\n",
    "printer.print(op)"
   ]
  },
  {
   "cell_type": "code",
   "execution_count": 3,
   "id": "5a57ade0",
   "metadata": {},
   "outputs": [
    {
     "name": "stdout",
     "output_type": "stream",
     "text": [
      "builtin.module() {\r\n",
      "  %0 : !i32 = arith.constant() [\"value\" = 1 : !i32]\r\n",
      "  %1 : !i32 = arith.constant() [\"value\" = 2 : !i32]\r\n",
      "  %2 : !i32 = arith.addi(%0 : !i32, %1 : !i32)\r\n",
      "  %3 : !i32 = arith.addi(%0 : !i32, %1 : !i32)\r\n",
      "  %4 : !i32 = arith.addi(%2 : !i32, %3 : !i32)\r\n",
      "  vector.print(%4 : !i32)\r\n",
      "}\r\n"
     ]
    }
   ],
   "source": [
    "# Cross-check file content\n",
    "!cat source.xdsl"
   ]
  },
  {
   "cell_type": "markdown",
   "id": "196f9723",
   "metadata": {},
   "source": [
    "Then we are using the `xdsl-opt` tool provided from the repository to emit .mlir code from the .xdsl input.\n",
    "You can see in the following cell that `xdsl-opt` can be used in various contexts such as translating back and forth from/to xdsl/mlir. "
   ]
  },
  {
   "cell_type": "code",
   "execution_count": 4,
   "id": "fad8a053",
   "metadata": {},
   "outputs": [
    {
     "name": "stdout",
     "output_type": "stream",
     "text": [
      "usage: xdsl-opt [-h] [-t {xdsl,irdl,mlir}] [-f {xdsl,mlir}] [--disable-verify]\r\n",
      "                [-o OUTPUT_FILE] [-p PASSES] [--print-between-passes]\r\n",
      "                [--verify-diagnostics] [--parsing-diagnostics]\r\n",
      "                [--allow-unregistered-ops]\r\n",
      "                [input_file]\r\n",
      "\r\n",
      "xDSL modular optimizer driver\r\n",
      "\r\n",
      "positional arguments:\r\n",
      "  input_file            path to input file\r\n",
      "\r\n",
      "options:\r\n",
      "  -h, --help            show this help message and exit\r\n",
      "  -t {xdsl,irdl,mlir}, --target {xdsl,irdl,mlir}\r\n",
      "                        target\r\n",
      "  -f {xdsl,mlir}, --frontend {xdsl,mlir}\r\n",
      "                        Frontend to be used for the input. If not set, the\r\n",
      "                        xdsl frontend or the one for the file extension is\r\n",
      "                        used.\r\n",
      "  --disable-verify\r\n",
      "  -o OUTPUT_FILE, --output-file OUTPUT_FILE\r\n",
      "                        path to output file\r\n",
      "  -p PASSES, --passes PASSES\r\n",
      "                        Delimited list of passes. Available passes are: lower-\r\n",
      "                        mpi,convert-stencil-to-ll-mlir\r\n",
      "  --print-between-passes\r\n",
      "                        Print the IR between each pass\r\n",
      "  --verify-diagnostics  Prints the content of a triggered verifier exception\r\n",
      "                        and exits with code 0\r\n",
      "  --parsing-diagnostics\r\n",
      "                        Prints the content of a triggered parsing exception\r\n",
      "                        and exits with code 0\r\n",
      "  --allow-unregistered-ops\r\n",
      "                        Allow the parsing of unregistered operations.\r\n"
     ]
    }
   ],
   "source": [
    "# xdsl-opt help\n",
    "!./../xdsl/tools/xdsl-opt -h"
   ]
  },
  {
   "cell_type": "code",
   "execution_count": 5,
   "id": "f10b68da",
   "metadata": {},
   "outputs": [
    {
     "name": "stdout",
     "output_type": "stream",
     "text": [
      "\"builtin.module\"() ({\r\n",
      "  %0 = \"arith.constant\"() {\"value\" = 1 : i32} : () -> i32\r\n",
      "  %1 = \"arith.constant\"() {\"value\" = 2 : i32} : () -> i32\r\n",
      "  %2 = \"arith.addi\"(%0, %1) : (i32, i32) -> i32\r\n",
      "  %3 = \"arith.addi\"(%0, %1) : (i32, i32) -> i32\r\n",
      "  %4 = \"arith.addi\"(%2, %3) : (i32, i32) -> i32\r\n",
      "  \"vector.print\"(%4) : (i32) -> ()\r\n",
      "}) : () -> ()\r\n",
      "\r\n"
     ]
    }
   ],
   "source": [
    "# Checkout the mlir output in generic form\n",
    "!./../xdsl/tools/xdsl-opt -f xdsl -t mlir -o out.mlir source.xdsl\n",
    "!cat out.mlir"
   ]
  },
  {
   "cell_type": "markdown",
   "id": "1169fa3e",
   "metadata": {},
   "source": [
    "Now lets try to benefit from some mlir optimisation.\n",
    "For this example we will use the [Common subexpression elimination](https://en.wikipedia.org/wiki/Common_subexpression_elimination).\n",
    "\n",
    "See some documentation here: [mlir.llvm CSE docs](https://mlir.llvm.org/docs/Passes/#-cse-eliminate-common-sub-expressions)"
   ]
  },
  {
   "cell_type": "markdown",
   "id": "f1270219-eeeb-4687-81e5-cce88afcb901",
   "metadata": {},
   "source": [
    "Assuming you have already mlir-opt installed in your machine you can apply the CSE optimisation using the folloing command:"
   ]
  },
  {
   "cell_type": "code",
   "execution_count": 6,
   "id": "142e0fa2",
   "metadata": {},
   "outputs": [
    {
     "name": "stdout",
     "output_type": "stream",
     "text": [
      "\"builtin.module\"() ({\r\n",
      "  %0 = \"arith.constant\"() {value = 1 : i32} : () -> i32\r\n",
      "  %1 = \"arith.constant\"() {value = 2 : i32} : () -> i32\r\n",
      "  %2 = \"arith.addi\"(%0, %1) : (i32, i32) -> i32\r\n",
      "  %3 = \"arith.addi\"(%2, %2) : (i32, i32) -> i32\r\n",
      "  \"vector.print\"(%3) : (i32) -> ()\r\n",
      "}) : () -> ()\r\n",
      "\r\n"
     ]
    }
   ],
   "source": [
    "!mlir-opt out.mlir -cse --mlir-print-op-generic -o opt-out.mlir\n",
    "!cat opt-out.mlir"
   ]
  },
  {
   "cell_type": "markdown",
   "id": "ce39e1f4-3a54-463d-b2eb-d4fb4f7a6133",
   "metadata": {
    "tags": []
   },
   "source": [
    "We can clearly see in the optimised output that after CSE we do not need to calculate:\n",
    "\n",
    "```\n",
    "\"arith.addi\"(%0, %1) : (i32, i32) -> i32\n",
    "```\n",
    "\n",
    "twice! Now can we back to xDSL? Yes we can!"
   ]
  },
  {
   "cell_type": "code",
   "execution_count": 7,
   "id": "b228d9e4",
   "metadata": {},
   "outputs": [
    {
     "name": "stdout",
     "output_type": "stream",
     "text": [
      "builtin.module() {\r\n",
      "  %0 : !i32 = arith.constant() [\"value\" = 1 : !i32]\r\n",
      "  %1 : !i32 = arith.constant() [\"value\" = 2 : !i32]\r\n",
      "  %2 : !i32 = arith.addi(%0 : !i32, %1 : !i32)\r\n",
      "  %3 : !i32 = arith.addi(%2 : !i32, %2 : !i32)\r\n",
      "  vector.print(%3 : !i32)\r\n",
      "}\r\n",
      "\r\n"
     ]
    }
   ],
   "source": [
    "!./../xdsl/tools/xdsl-opt opt-out.mlir -f mlir -t xdsl -o ret.xdsl\n",
    "!cat ret.xdsl"
   ]
  },
  {
   "cell_type": "code",
   "execution_count": null,
   "id": "f9f9a625",
   "metadata": {},
   "outputs": [],
   "source": []
  }
 ],
 "metadata": {
  "kernelspec": {
   "display_name": "Python 3 (ipykernel)",
   "language": "python",
   "name": "python3"
  },
  "language_info": {
   "codemirror_mode": {
    "name": "ipython",
    "version": 3
   },
   "file_extension": ".py",
   "mimetype": "text/x-python",
   "name": "python",
   "nbconvert_exporter": "python",
   "pygments_lexer": "ipython3",
   "version": "3.10.6"
  }
 },
 "nbformat": 4,
 "nbformat_minor": 5
}
