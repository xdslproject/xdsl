{
 "cells": [
  {
   "cell_type": "markdown",
   "source": [
    "1d2pt example:\n",
    "\n",
    "    @group(0) @binding(0)\n",
    "    var<storage,read> data1: array<i32>;\n",
    "\n",
    "    @group(0) @binding(1)\n",
    "    var<storage,read_write> data2: array<i32>;\n",
    "\n",
    "    @compute\n",
    "    @workgroup_size(1)\n",
    "    fn main(@builtin(global_invocation_id) index: vec3<u32>) {\n",
    "\n",
    "        let i: u32 = index.x;\n",
    "        let cst1 : u32 = 1u;\n",
    "        let cstm1 : u32 = 4294967295u;\n",
    "        let cst2 : i32 = 2;\n",
    "        let im1 = i + cstm1;\n",
    "        let ip1 = i + cst1;\n",
    "        let val = data1[i];\n",
    "        let valm1 = data1[im1];\n",
    "        let valp1 = data1[ip1];\n",
    "        let sides = valm1 + valp1;\n",
    "        let val2 = val * cst2;\n",
    "        let res = sides - val2;\n",
    "        data2[i] = res;\n",
    "            }"
   ],
   "metadata": {
    "collapsed": false
   }
  },
  {
   "cell_type": "code",
   "execution_count": null,
   "outputs": [],
   "source": [],
   "metadata": {
    "collapsed": false
   }
  }
 ],
 "metadata": {
  "kernelspec": {
   "display_name": "Python 3",
   "language": "python",
   "name": "python3"
  },
  "language_info": {
   "codemirror_mode": {
    "name": "ipython",
    "version": 2
   },
   "file_extension": ".py",
   "mimetype": "text/x-python",
   "name": "python",
   "nbconvert_exporter": "python",
   "pygments_lexer": "ipython2",
   "version": "2.7.6"
  }
 },
 "nbformat": 4,
 "nbformat_minor": 0
}
