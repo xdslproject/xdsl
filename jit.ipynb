{
 "cells": [
  {
   "cell_type": "markdown",
   "metadata": {},
   "source": [
    " - hash name\n",
    " - get python types from function type\n",
    " - add a compile function that takes (name, input types, output types) and returns a callable"
   ]
  },
  {
   "cell_type": "code",
   "execution_count": 1,
   "metadata": {},
   "outputs": [],
   "source": [
    "from pathlib import Path\n",
    "from xdsl.builder import ImplicitBuilder\n",
    "\n",
    "from xdsl.dialects import func, arith, memref, scf\n",
    "from xdsl.dialects.builtin import ModuleOp, i64, f64, IndexType\n",
    "from xdsl.ir.core import Block, Region\n",
    "\n",
    "index = IndexType()\n",
    "\n",
    "def get_module(n: int) -> ModuleOp:\n",
    "    memref_t = memref.MemRefType.from_element_type_and_shape(f64, [n])\n",
    "    module = ModuleOp([])\n",
    "    with ImplicitBuilder(module.body):\n",
    "        f = func.FuncOp(\"hello\", ((i64, i64), (i64,)))\n",
    "        with ImplicitBuilder(f.body) as (lhs, rhs):\n",
    "            res = arith.Addi(lhs, rhs).result\n",
    "            func.Return(res)\n",
    "\n",
    "        g = func.FuncOp(\"dist\", ((memref_t, memref_t), (f64,)))\n",
    "        with ImplicitBuilder(g.body) as (lhs, rhs):\n",
    "            zero = arith.Constant.from_int_and_width(0, index).result\n",
    "            one = arith.Constant.from_int_and_width(1, index).result\n",
    "            hundo = arith.Constant.from_int_and_width(n, index).result\n",
    "\n",
    "            initial = arith.Constant.from_float_and_width(0.0, f64).result\n",
    "\n",
    "            body = Region(Block(arg_types=(index, f64)))\n",
    "            norm_squared = scf.For.get(zero, hundo, one, (initial,), body)\n",
    "            with ImplicitBuilder(norm_squared.body) as (i, acc):\n",
    "                lhs_el = memref.Load.get(lhs, (i,)).res\n",
    "                rhs_el = memref.Load.get(rhs, (i,)).res\n",
    "                sq = arith.Mulf(lhs_el, rhs_el).result\n",
    "                new_acc = arith.Addf(acc, sq)\n",
    "                scf.Yield.get(new_acc)\n",
    "            \n",
    "            func.Return(norm_squared)\n",
    "\n",
    "    return module\n",
    "\n",
    "m = get_module(100)\n",
    "m_str = str(m)\n",
    "\n",
    "with open(Path() / \"input.mlir\", 'w') as f:\n",
    "    f.write(m_str)"
   ]
  },
  {
   "cell_type": "code",
   "execution_count": 2,
   "metadata": {},
   "outputs": [
    {
     "data": {
      "text/plain": [
       "11"
      ]
     },
     "execution_count": 2,
     "metadata": {},
     "output_type": "execute_result"
    }
   ],
   "source": [
    "from xdsl.jit import jit_module\n",
    "import ctypes\n",
    "\n",
    "dbl_ptr_type = ctypes.POINTER(ctypes.c_double)\n",
    "\n",
    "hey = jit_module(m, \"hello\", types=((int, int), int))\n",
    "dist_mlir = jit_module(m, \"dist\", types=((dbl_ptr_type, dbl_ptr_type), float))\n",
    "hey(5,6)"
   ]
  },
  {
   "cell_type": "code",
   "execution_count": 3,
   "metadata": {},
   "outputs": [],
   "source": [
    "import numpy as np"
   ]
  },
  {
   "cell_type": "code",
   "execution_count": 4,
   "metadata": {},
   "outputs": [],
   "source": [
    "n = 10000\n",
    "a = np.random.random(n)\n",
    "b = np.random.random(n)"
   ]
  },
  {
   "cell_type": "code",
   "execution_count": 5,
   "metadata": {},
   "outputs": [
    {
     "name": "stdout",
     "output_type": "stream",
     "text": [
      "CPU times: user 12 µs, sys: 41 µs, total: 53 µs\n",
      "Wall time: 10 µs\n"
     ]
    },
    {
     "data": {
      "text/plain": [
       "27.129209899122152"
      ]
     },
     "execution_count": 5,
     "metadata": {},
     "output_type": "execute_result"
    }
   ],
   "source": [
    "a_data_ptr = a.ctypes.data_as(dbl_ptr_type)\n",
    "b_data_ptr = b.ctypes.data_as(dbl_ptr_type)\n",
    "%time dist_mlir(a_data_ptr, b_data_ptr)"
   ]
  },
  {
   "cell_type": "code",
   "execution_count": 6,
   "metadata": {},
   "outputs": [
    {
     "name": "stdout",
     "output_type": "stream",
     "text": [
      "CPU times: user 8 µs, sys: 8 µs, total: 16 µs\n",
      "Wall time: 8.82 µs\n"
     ]
    },
    {
     "data": {
      "text/plain": [
       "11"
      ]
     },
     "execution_count": 6,
     "metadata": {},
     "output_type": "execute_result"
    }
   ],
   "source": [
    "%time hey(5, 6)"
   ]
  },
  {
   "cell_type": "code",
   "execution_count": 7,
   "metadata": {},
   "outputs": [
    {
     "name": "stdout",
     "output_type": "stream",
     "text": [
      "CPU times: user 4 µs, sys: 5 µs, total: 9 µs\n",
      "Wall time: 6.2 µs\n"
     ]
    },
    {
     "data": {
      "text/plain": [
       "3"
      ]
     },
     "execution_count": 7,
     "metadata": {},
     "output_type": "execute_result"
    }
   ],
   "source": [
    "%time 1 + 2"
   ]
  },
  {
   "cell_type": "code",
   "execution_count": 8,
   "metadata": {},
   "outputs": [
    {
     "name": "stdout",
     "output_type": "stream",
     "text": [
      "CPU times: user 39 µs, sys: 96 µs, total: 135 µs\n",
      "Wall time: 24.1 µs\n"
     ]
    },
    {
     "data": {
      "text/plain": [
       "2480.584274321859"
      ]
     },
     "execution_count": 8,
     "metadata": {},
     "output_type": "execute_result"
    }
   ],
   "source": [
    "from typing import Any\n",
    "\n",
    "\n",
    "def dist_np(lhs: np.ndarray[Any, np.dtype[np.float64]], rhs: np.ndarray[Any, np.dtype[np.float64]]) -> np.float64:\n",
    "    return lhs.dot(rhs)\n",
    "\n",
    "%time dist_np(a, b)"
   ]
  },
  {
   "cell_type": "code",
   "execution_count": 9,
   "metadata": {},
   "outputs": [
    {
     "name": "stdout",
     "output_type": "stream",
     "text": [
      "CPU times: user 2.01 ms, sys: 5.41 ms, total: 7.42 ms\n",
      "Wall time: 963 µs\n"
     ]
    },
    {
     "data": {
      "text/plain": [
       "2480.584274321859"
      ]
     },
     "execution_count": 9,
     "metadata": {},
     "output_type": "execute_result"
    }
   ],
   "source": [
    "def dist_python(lhs: np.ndarray[Any, np.dtype[np.float64]], rhs: np.ndarray[Any, np.dtype[np.float64]]) -> np.float64:\n",
    "    return sum(l * r for (l, r) in zip(lhs, rhs))\n",
    "\n",
    "%time dist_python(a, b)"
   ]
  },
  {
   "cell_type": "code",
   "execution_count": 10,
   "metadata": {},
   "outputs": [
    {
     "data": {
      "text/plain": [
       "0.14345554099418223"
      ]
     },
     "execution_count": 10,
     "metadata": {},
     "output_type": "execute_result"
    }
   ],
   "source": [
    "import timeit\n",
    "\n",
    "timeit.timeit(lambda: dist_python(a, b), number=100)"
   ]
  },
  {
   "cell_type": "code",
   "execution_count": 12,
   "metadata": {},
   "outputs": [],
   "source": [
    "import pandas as pd"
   ]
  },
  {
   "cell_type": "code",
   "execution_count": 14,
   "metadata": {},
   "outputs": [],
   "source": [
    "from collections import defaultdict"
   ]
  },
  {
   "cell_type": "code",
   "execution_count": 33,
   "metadata": {},
   "outputs": [
    {
     "data": {
      "text/plain": [
       "defaultdict(list,\n",
       "            {'mlir': [7.78749817982316e-05,\n",
       "              0.00013945804676041007,\n",
       "              0.0009842919535003603,\n",
       "              0.0073354169726371765,\n",
       "              0.06319795805029571],\n",
       "             'numpy': [0.00010000000474974513,\n",
       "              5.341705400496721e-05,\n",
       "              0.0001242079888470471,\n",
       "              0.0006486669881269336,\n",
       "              0.0048281250055879354],\n",
       "             'python': [0.0003120829933322966,\n",
       "              0.0016558749484829605,\n",
       "              0.013549208000767976,\n",
       "              0.09777658298844472,\n",
       "              0.9174651670036837]})"
      ]
     },
     "execution_count": 33,
     "metadata": {},
     "output_type": "execute_result"
    }
   ],
   "source": [
    "res = defaultdict[str, list[float]](list)\n",
    "\n",
    "powers = [int(10 ** i) for i in range(1, 6)]\n",
    "\n",
    "for n in powers:\n",
    "    a = np.random.random(n)\n",
    "    b = np.random.random(n)\n",
    "    dist_mlir_i = jit_module(get_module(n), \"dist\", types=((dbl_ptr_type, dbl_ptr_type), float))\n",
    "    a_data_ptr = a.ctypes.data_as(dbl_ptr_type)\n",
    "    b_data_ptr = b.ctypes.data_as(dbl_ptr_type)\n",
    "    res[\"mlir\"].append(timeit.timeit(lambda: dist_mlir_i(a_data_ptr, b_data_ptr), number=100))\n",
    "    res[\"numpy\"].append(timeit.timeit(lambda: dist_np(a, b), number=100))\n",
    "    res[\"python\"].append(timeit.timeit(lambda: dist_python(a, b), number=100))\n",
    "\n",
    "res"
   ]
  },
  {
   "cell_type": "code",
   "execution_count": 34,
   "metadata": {},
   "outputs": [
    {
     "data": {
      "text/html": [
       "<div>\n",
       "<style scoped>\n",
       "    .dataframe tbody tr th:only-of-type {\n",
       "        vertical-align: middle;\n",
       "    }\n",
       "\n",
       "    .dataframe tbody tr th {\n",
       "        vertical-align: top;\n",
       "    }\n",
       "\n",
       "    .dataframe thead th {\n",
       "        text-align: right;\n",
       "    }\n",
       "</style>\n",
       "<table border=\"1\" class=\"dataframe\">\n",
       "  <thead>\n",
       "    <tr style=\"text-align: right;\">\n",
       "      <th></th>\n",
       "      <th>mlir</th>\n",
       "      <th>numpy</th>\n",
       "      <th>python</th>\n",
       "    </tr>\n",
       "  </thead>\n",
       "  <tbody>\n",
       "    <tr>\n",
       "      <th>10</th>\n",
       "      <td>0.000078</td>\n",
       "      <td>0.000100</td>\n",
       "      <td>0.000312</td>\n",
       "    </tr>\n",
       "    <tr>\n",
       "      <th>100</th>\n",
       "      <td>0.000139</td>\n",
       "      <td>0.000053</td>\n",
       "      <td>0.001656</td>\n",
       "    </tr>\n",
       "    <tr>\n",
       "      <th>1000</th>\n",
       "      <td>0.000984</td>\n",
       "      <td>0.000124</td>\n",
       "      <td>0.013549</td>\n",
       "    </tr>\n",
       "    <tr>\n",
       "      <th>10000</th>\n",
       "      <td>0.007335</td>\n",
       "      <td>0.000649</td>\n",
       "      <td>0.097777</td>\n",
       "    </tr>\n",
       "    <tr>\n",
       "      <th>100000</th>\n",
       "      <td>0.063198</td>\n",
       "      <td>0.004828</td>\n",
       "      <td>0.917465</td>\n",
       "    </tr>\n",
       "  </tbody>\n",
       "</table>\n",
       "</div>"
      ],
      "text/plain": [
       "            mlir     numpy    python\n",
       "10      0.000078  0.000100  0.000312\n",
       "100     0.000139  0.000053  0.001656\n",
       "1000    0.000984  0.000124  0.013549\n",
       "10000   0.007335  0.000649  0.097777\n",
       "100000  0.063198  0.004828  0.917465"
      ]
     },
     "execution_count": 34,
     "metadata": {},
     "output_type": "execute_result"
    }
   ],
   "source": [
    "df = pd.DataFrame(res, index=powers)\n",
    "df"
   ]
  },
  {
   "cell_type": "code",
   "execution_count": 35,
   "metadata": {},
   "outputs": [
    {
     "data": {
      "text/plain": [
       "<Axes: ylabel='seconds'>"
      ]
     },
     "execution_count": 35,
     "metadata": {},
     "output_type": "execute_result"
    },
    {
     "data": {
      "image/png": "[encoded data removed]",
      "text/plain": [
       "<Figure size 640x480 with 1 Axes>"
      ]
     },
     "metadata": {},
     "output_type": "display_data"
    }
   ],
   "source": [
    "df.plot(logy=True, logx=True, ylabel=\"seconds\")"
   ]
  },
  {
   "cell_type": "code",
   "execution_count": null,
   "metadata": {},
   "outputs": [],
   "source": []
  }
 ],
 "metadata": {
  "kernelspec": {
   "display_name": "venv",
   "language": "python",
   "name": "venv"
  },
  "language_info": {
   "codemirror_mode": {
    "name": "ipython",
    "version": 3
   },
   "file_extension": ".py",
   "mimetype": "text/x-python",
   "name": "python",
   "nbconvert_exporter": "python",
   "pygments_lexer": "ipython3",
   "version": "3.11.4"
  },
  "orig_nbformat": 4
 },
 "nbformat": 4,
 "nbformat_minor": 2
}
