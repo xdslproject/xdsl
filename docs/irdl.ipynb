{
 "cells": [
  {
   "cell_type": "markdown",
   "source": [
    "# IRDL tutorial\n",
    "### An Intermediate Representation Definition Language (IRDL) for SSA Compilers"
   ],
   "metadata": {}
  },
  {
   "cell_type": "markdown",
   "source": [
    "## Imports and setup"
   ],
   "metadata": {
    "tags": []
   }
  },
  {
   "cell_type": "code",
   "execution_count": 1,
   "source": [
    "# xDSL should be available in the environment.\n",
    "\n",
    "from xdsl.ir import MLContext\n",
    "from xdsl.dialects.arith import Arith\n",
    "from xdsl.dialects.builtin import Builtin\n",
    "from xdsl.printer import Printer\n",
    "\n",
    "# MLContext, containing information about the registered dialects\n",
    "context = MLContext()\n",
    "\n",
    "# Some useful dialects\n",
    "context.register_dialect(Arith)\n",
    "context.register_dialect(Builtin)\n",
    "\n",
    "# Printer used to pretty-print MLIR data structures\n",
    "printer = Printer()"
   ],
   "outputs": [],
   "metadata": {}
  },
  {
   "cell_type": "markdown",
   "source": [
    "## Introduction"
   ],
   "metadata": {}
  },
  {
   "cell_type": "markdown",
   "source": [
    "xDSL is an extensible compiler, meaning that new operations, attributes, and types can be added. xDSL provides an embedded DSL, IRDL, to define new dialects.\n",
    "This tutorial aims to show the different features IRDL has, and presents examples on how to use them."
   ],
   "metadata": {}
  },
  {
   "cell_type": "markdown",
   "source": [
    "## Attribute constraints"
   ],
   "metadata": {
    "tags": []
   }
  },
  {
   "cell_type": "markdown",
   "source": [
    "Attribute constraints represent invariants over attributes, and are an important concept for defining new attributes and operations. In practice, an attribute constraint is a child class of `AttrConstraint` that implements a `verify` method. The method takes an attribute as parameter, and raises an exception if the invariant is not respected."
   ],
   "metadata": {}
  },
  {
   "cell_type": "markdown",
   "source": [
    "### Any constraint"
   ],
   "metadata": {}
  },
  {
   "cell_type": "markdown",
   "source": [
    "An `Any` constraint will never trigger an exception, and will always pass:"
   ],
   "metadata": {}
  },
  {
   "cell_type": "code",
   "execution_count": 2,
   "source": [
    "# NBVAL_CHECK_OUTPUT\n",
    "\n",
    "from xdsl.irdl import AnyAttr\n",
    "from xdsl.dialects.builtin import i64, StringAttr\n",
    "\n",
    "# Construct the constraint\n",
    "any_constraint = AnyAttr()\n",
    "\n",
    "# This will pass without triggering an exception\n",
    "any_constraint.verify(i64)\n",
    "any_constraint.verify(StringAttr(\"ga\"))"
   ],
   "outputs": [],
   "metadata": {}
  },
  {
   "cell_type": "markdown",
   "source": [
    "### Equality constraint"
   ],
   "metadata": {}
  },
  {
   "cell_type": "markdown",
   "source": [
    "An equality constraint ensures that the attribute is equal to one provided to the constraint:"
   ],
   "metadata": {}
  },
  {
   "cell_type": "code",
   "execution_count": 3,
   "source": [
    "from xdsl.irdl import EqAttrConstraint, VerifyException\n",
    "from xdsl.dialects.builtin import i32\n",
    "\n",
    "# Construct the constraint\n",
    "eq_constraint = EqAttrConstraint(i64)\n",
    "\n",
    "# This will pass without triggering an exception\n",
    "eq_constraint.verify(i64)\n",
    "\n",
    "# This will trigger an exception\n",
    "try:\n",
    "    eq_constraint.verify(i32)\n",
    "except Exception as e:\n",
    "    print(e)"
   ],
   "outputs": [
    {
     "output_type": "stream",
     "name": "stdout",
     "text": [
      "Expected attribute IntegerType(parameters=[IntAttr(data=64), SignednessAttr(data=<Signedness.SIGNLESS: 0>)], width=IntAttr(data=64), signedness=SignednessAttr(data=<Signedness.SIGNLESS: 0>)) but got IntegerType(parameters=[IntAttr(data=32), SignednessAttr(data=<Signedness.SIGNLESS: 0>)], width=IntAttr(data=32), signedness=SignednessAttr(data=<Signedness.SIGNLESS: 0>))\n"
     ]
    }
   ],
   "metadata": {}
  },
  {
   "cell_type": "markdown",
   "source": [
    "### Base attribute constraint"
   ],
   "metadata": {}
  },
  {
   "cell_type": "markdown",
   "source": [
    "A base attribute constraint ensures that the attribute base type is equal to an expected attribute base type:"
   ],
   "metadata": {}
  },
  {
   "cell_type": "code",
   "execution_count": 4,
   "source": [
    "from xdsl.irdl import BaseAttr\n",
    "from xdsl.dialects.builtin import IntAttr\n",
    "\n",
    "# Construct the constraint\n",
    "base_constraint = BaseAttr(StringAttr)\n",
    "\n",
    "# This will pass without triggering an exception\n",
    "base_constraint.verify(StringAttr(\"ga\"))\n",
    "base_constraint.verify(StringAttr(\"bu\"))\n",
    "\n",
    "# This will trigger an exception\n",
    "try:\n",
    "    base_constraint.verify(i32)\n",
    "except Exception as e:\n",
    "    print(e)"
   ],
   "outputs": [
    {
     "output_type": "stream",
     "name": "stdout",
     "text": [
      "IntegerType(parameters=[IntAttr(data=32), SignednessAttr(data=<Signedness.SIGNLESS: 0>)], width=IntAttr(data=32), signedness=SignednessAttr(data=<Signedness.SIGNLESS: 0>)) should be of base attribute string\n"
     ]
    }
   ],
   "metadata": {}
  },
  {
   "cell_type": "code",
   "execution_count": 5,
   "source": [
    "# This too\n",
    "try:\n",
    "    base_constraint.verify(IntAttr.from_int(3))\n",
    "except Exception as e:\n",
    "    print(e)"
   ],
   "outputs": [
    {
     "output_type": "stream",
     "name": "stdout",
     "text": [
      "IntAttr(data=3) should be of base attribute string\n"
     ]
    }
   ],
   "metadata": {}
  },
  {
   "cell_type": "markdown",
   "source": [
    "### Attribute constraint coercion"
   ],
   "metadata": {}
  },
  {
   "cell_type": "markdown",
   "source": [
    "To simplify the definitions of constraints, constraint constructors expecting an attribute constraints will coerce `Attribute` to an equality attribute constraint, and will coerce an `Attribute` type to a base attribute constraint. this is done using the `attr_constr_coercion` function:"
   ],
   "metadata": {}
  },
  {
   "cell_type": "code",
   "execution_count": 6,
   "source": [
    "# NBVAL_CHECK_OUTPUT\n",
    "from xdsl.irdl import EqAttrConstraint, attr_constr_coercion, AnyOf\n",
    "from xdsl.dialects.builtin import i32\n",
    "\n",
    "assert attr_constr_coercion(i32) == EqAttrConstraint(i32)\n",
    "assert attr_constr_coercion(StringAttr) == BaseAttr(StringAttr)\n",
    "assert AnyOf([i32, StringAttr]) == AnyOf([EqAttrConstraint(i32), BaseAttr(StringAttr)])"
   ],
   "outputs": [],
   "metadata": {}
  },
  {
   "cell_type": "markdown",
   "source": [
    "### Or constraint"
   ],
   "metadata": {}
  },
  {
   "cell_type": "markdown",
   "source": [
    "An or constraint ensures that one of the given attribute constraints is satisfied by the attribute:"
   ],
   "metadata": {}
  },
  {
   "cell_type": "code",
   "execution_count": 7,
   "source": [
    "# Construct the constraint. Note that we are using the coercion defined previously.\n",
    "or_constraint = AnyOf([i32, StringAttr])\n",
    "\n",
    "# This will pass without triggering an exception, since the first constraint is satisfied\n",
    "or_constraint.verify(i32)\n",
    "\n",
    "# This will pass without triggering an exception, since the second constraint is satisfied\n",
    "or_constraint.verify(StringAttr(\"ga\"))\n",
    "or_constraint.verify(StringAttr(\"bu\"))\n",
    "\n",
    "# This will trigger an exception, since none of the constraints are satisfied\n",
    "try:\n",
    "    or_constraint.verify(i64)\n",
    "except Exception as e:\n",
    "    print(e)"
   ],
   "outputs": [
    {
     "output_type": "stream",
     "name": "stdout",
     "text": [
      "Unexpected attribute IntegerType(parameters=[IntAttr(data=64), SignednessAttr(data=<Signedness.SIGNLESS: 0>)], width=IntAttr(data=64), signedness=SignednessAttr(data=<Signedness.SIGNLESS: 0>))\n"
     ]
    }
   ],
   "metadata": {}
  },
  {
   "cell_type": "markdown",
   "source": [
    "### Parametric attribute constraint"
   ],
   "metadata": {}
  },
  {
   "cell_type": "markdown",
   "source": [
    "A parametric attribute constraint is satisfied by parametric attributes of a certain base type. In addition, parametric attribute constraints specify constraints for each of the parameters of the attribute:"
   ],
   "metadata": {}
  },
  {
   "cell_type": "code",
   "execution_count": 8,
   "source": [
    "from xdsl.dialects.builtin import IntegerAttr\n",
    "from xdsl.irdl import ParamAttrConstraint\n",
    "\n",
    "\n",
    "# Construct the constraint. Note that we are using the coercion defined previously.\n",
    "param_constraint = ParamAttrConstraint(IntegerAttr, [IntAttr, i32])\n",
    "\n",
    "# This will pass without triggering an exception.\n",
    "param_constraint.verify(IntegerAttr([IntAttr.from_int(42), i32]))\n",
    "param_constraint.verify(IntegerAttr([IntAttr.from_int(23), i32]))\n",
    "\n",
    "# This will trigger an exception, since the attribute type is not the expected one\n",
    "try:\n",
    "    param_constraint.verify(i64)\n",
    "except Exception as e:\n",
    "    print(e)"
   ],
   "outputs": [
    {
     "output_type": "stream",
     "name": "stdout",
     "text": [
      "Base attribute integer expected, but got integer_type\n"
     ]
    }
   ],
   "metadata": {}
  },
  {
   "cell_type": "code",
   "execution_count": 9,
   "source": [
    "# This will trigger an exception, since the second parameter constraint is not satisfied\n",
    "try:\n",
    "    param_constraint.verify(IntegerAttr([IntAttr.from_int(42), i64]))\n",
    "except Exception as e:\n",
    "    print(e)"
   ],
   "outputs": [
    {
     "output_type": "stream",
     "name": "stdout",
     "text": [
      "Expected attribute IntegerType(parameters=[IntAttr(data=32), SignednessAttr(data=<Signedness.SIGNLESS: 0>)], width=IntAttr(data=32), signedness=SignednessAttr(data=<Signedness.SIGNLESS: 0>)) but got IntegerType(parameters=[IntAttr(data=64), SignednessAttr(data=<Signedness.SIGNLESS: 0>)], width=IntAttr(data=64), signedness=SignednessAttr(data=<Signedness.SIGNLESS: 0>))\n"
     ]
    }
   ],
   "metadata": {}
  },
  {
   "cell_type": "markdown",
   "source": [
    "### Custom constraints"
   ],
   "metadata": {}
  },
  {
   "cell_type": "markdown",
   "source": [
    "Users can define their own constraints for their own types. For instance, here is the definition of the `ArrayOfConstraint` constraint, which expects an `ArrayAttr` where all elements of the array satisfy a specific constraint:"
   ],
   "metadata": {}
  },
  {
   "cell_type": "code",
   "execution_count": 10,
   "source": [
    "# NBVAL_CHECK_OUTPUT\n",
    "\n",
    "from xdsl.ir import Attribute\n",
    "from xdsl.dialects.builtin import ArrayAttr\n",
    "from xdsl.irdl import AttrConstraint\n",
    "\n",
    "from typing import Union, Type\n",
    "from dataclasses import dataclass\n",
    "\n",
    "@dataclass\n",
    "class ArrayOfConstraint(AttrConstraint):\n",
    "    # The constraint that needs to be satisfied by all elements of the array\n",
    "    elem_constr: AttrConstraint\n",
    "\n",
    "    # The custom init applies the attribute constraint coercion\n",
    "    def __init__(self, constr: Union[Attribute, Type[Attribute],\n",
    "                                     AttrConstraint]):\n",
    "        self.elem_constr = attr_constr_coercion(constr)\n",
    "\n",
    "    # Check that an attribute satisfies the constraints\n",
    "    def verify(self, attr: Attribute) -> None:\n",
    "        # We first check that the attribute is an ArrayAttr\n",
    "        if not isinstance(attr, ArrayAttr):\n",
    "            raise Exception(f\"expected attribute ArrayData but got {attr}\")\n",
    "\n",
    "        # We check the constraint for all elements in the array\n",
    "        for e in attr.data:\n",
    "            self.elem_constr.verify(e)\n",
    "\n",
    "array_constraint = ArrayOfConstraint(IntAttr)\n",
    "\n",
    "# This will pass without triggering an exception\n",
    "array_constraint.verify(ArrayAttr.from_list([IntAttr.from_int(42)]))\n",
    "array_constraint.verify(ArrayAttr.from_list([IntAttr.from_int(3), IntAttr.from_int(7)]))"
   ],
   "outputs": [],
   "metadata": {}
  },
  {
   "cell_type": "code",
   "execution_count": 11,
   "source": [
    "# This will trigger an exception, since the attribute is not an array\n",
    "try:\n",
    "    array_constraint.verify(i32)\n",
    "except Exception as e:\n",
    "    print(e)"
   ],
   "outputs": [
    {
     "output_type": "stream",
     "name": "stdout",
     "text": [
      "expected attribute ArrayData but got IntegerType(parameters=[IntAttr(data=32), SignednessAttr(data=<Signedness.SIGNLESS: 0>)], width=IntAttr(data=32), signedness=SignednessAttr(data=<Signedness.SIGNLESS: 0>))\n"
     ]
    }
   ],
   "metadata": {}
  },
  {
   "cell_type": "code",
   "execution_count": 12,
   "source": [
    "# This will trigger an exception, since the array contains attribute that do not satisfies the constraint\n",
    "try:\n",
    "    array_constraint.verify(ArrayAttr.from_list([IntAttr.from_int(42), StringAttr(\"ga\")]))\n",
    "except Exception as e:\n",
    "    print(e)"
   ],
   "outputs": [
    {
     "output_type": "stream",
     "name": "stdout",
     "text": [
      "StringAttr(data='ga') should be of base attribute int\n"
     ]
    }
   ],
   "metadata": {}
  },
  {
   "cell_type": "markdown",
   "source": [
    "## Attribute definition"
   ],
   "metadata": {}
  },
  {
   "cell_type": "markdown",
   "source": [
    "### Data attributes"
   ],
   "metadata": {}
  },
  {
   "cell_type": "markdown",
   "source": [
    "`Data` attribute types are defined by inheriting the python `Data` class. Each data attribute definition should define a `name`, and two methods for conversion to a string representation. Here is for example the definition of `IntAttr`:"
   ],
   "metadata": {}
  },
  {
   "cell_type": "code",
   "execution_count": 13,
   "source": [
    "from xdsl.irdl import irdl_attr_definition\n",
    "from xdsl.ir import Data\n",
    "from xdsl.parser import Parser\n",
    "\n",
    "@irdl_attr_definition\n",
    "class MyIntAttr(Data[int]):\n",
    "    name = \"my_int\"\n",
    "\n",
    "    @staticmethod\n",
    "    def parse_parameter(parser: Parser) -> int:\n",
    "        data = parser.parse_int_literal()\n",
    "        return data\n",
    "\n",
    "    @staticmethod\n",
    "    def print_parameter(data: int, printer: Printer) -> None:\n",
    "        printer.print_string(f'{data}')\n",
    "\n",
    "        \n",
    "printer.print_attribute(MyIntAttr(3))"
   ],
   "outputs": [
    {
     "output_type": "stream",
     "name": "stdout",
     "text": [
      "!my_int<3>"
     ]
    }
   ],
   "metadata": {}
  },
  {
   "cell_type": "markdown",
   "source": [
    "### Parametrized attributes"
   ],
   "metadata": {}
  },
  {
   "cell_type": "markdown",
   "source": [
    "`ParametrizedAttribute` attribute types are defined using the `irdl_attr_definition` decorator on a class. Such class should contain a `name` field specifying the attribute name. Parameters are added to attribute definitions by defining fields containing a `ParameterDef`. The field names correspond to the parameter names, and `ParameterDef` contains a constraint that should be respected by this parameter. The order of the fields correspond to the order of the parameters when using the attribute. Upon construction of an attribute, all constraints will be checked, and an exception will be raised if the invariants are not satisfied.\n",
    "\n",
    "Here is an example of an integer type definition:"
   ],
   "metadata": {}
  },
  {
   "cell_type": "code",
   "execution_count": 14,
   "source": [
    "from xdsl.ir import ParametrizedAttribute\n",
    "from xdsl.irdl import ParameterDef\n",
    "\n",
    "# Represent an integer type with a given bitwidth\n",
    "@irdl_attr_definition\n",
    "class MyIntegerType(ParametrizedAttribute):\n",
    "    # Name of the type. This is used for printing and parsing.\n",
    "    name = \"integer_type\"\n",
    "\n",
    "    # Only parameter of the type, with an `EqAttrConstraint` constraint.\n",
    "    # Note the use of the attribute constraint coercion.\n",
    "    width: ParameterDef[IntAttr]\n",
    "\n",
    "my_i32 = MyIntegerType([IntAttr.from_int(32)])\n",
    "\n",
    "# This will trigger an exception, since the attribute only expect a single attribute\n",
    "try:\n",
    "    MyIntegerType([IntAttr.from_int(32), IntAttr.from_int(64)])\n",
    "except Exception as e:\n",
    "    print(e)\n",
    "    \n",
    "# This will trigger an exception, since the attribute is not an IntAttr\n",
    "try:\n",
    "    MyIntegerType([StringAttr(\"ga\")])\n",
    "except Exception as e:\n",
    "    print(e)"
   ],
   "outputs": [
    {
     "output_type": "stream",
     "name": "stdout",
     "text": [
      "In integer_type attribute verifier: 1 parameters expected, got 2\n",
      "StringAttr(data='ga') should be of base attribute int\n"
     ]
    }
   ],
   "metadata": {}
  },
  {
   "cell_type": "markdown",
   "source": [
    "Each parameter can be accessed using the `parameters` field."
   ],
   "metadata": {}
  },
  {
   "cell_type": "code",
   "execution_count": 15,
   "source": [
    "my_i32.parameters"
   ],
   "outputs": [
    {
     "output_type": "execute_result",
     "data": {
      "text/plain": [
       "[IntAttr(data=32)]"
      ]
     },
     "metadata": {},
     "execution_count": 15
    }
   ],
   "metadata": {}
  },
  {
   "cell_type": "markdown",
   "source": [
    "Our attribute definition also defines accessors for each parameter based on the name given in the `ParameterDef` field:"
   ],
   "metadata": {}
  },
  {
   "cell_type": "code",
   "execution_count": 16,
   "source": [
    "my_i32.width"
   ],
   "outputs": [
    {
     "output_type": "execute_result",
     "data": {
      "text/plain": [
       "IntAttr(data=32)"
      ]
     },
     "metadata": {},
     "execution_count": 16
    }
   ],
   "metadata": {}
  },
  {
   "cell_type": "markdown",
   "source": [
    "## Operation definition"
   ],
   "metadata": {}
  },
  {
   "cell_type": "markdown",
   "source": [
    "Operations are defined similarly to `ParametrizedAttribute`, by using the `irdl_op_definition` decorator. The decorator allows the definition of expected operands, results, attributes, and regions. Each definition should contain a `name` static field, which is used for parsing and printing:"
   ],
   "metadata": {}
  },
  {
   "cell_type": "code",
   "execution_count": 17,
   "source": [
    "from xdsl.irdl import irdl_op_definition\n",
    "from xdsl.ir import Operation\n",
    "\n",
    "@irdl_op_definition\n",
    "class MyEmptyOp(Operation):\n",
    "    name: str = \"my_dialect.my_op\"\n",
    "    \n",
    "my_op = MyEmptyOp.build()\n",
    "printer.print_op(my_op)"
   ],
   "outputs": [
    {
     "output_type": "stream",
     "name": "stdout",
     "text": [
      "my_dialect.my_op()\n"
     ]
    }
   ],
   "metadata": {}
  },
  {
   "cell_type": "markdown",
   "source": [
    "### Operands and Results"
   ],
   "metadata": {}
  },
  {
   "cell_type": "markdown",
   "source": [
    "Similar to parameters for `ParametrizedAttribute`, operands and results are added using fields containing `Operand` and `ResultDef`, which each contain an attribute constraint. The order correspond to the operand and result order, and the constraint applies on the SSA variable type.\n",
    "\n",
    "Here is an example of an operation defining operands and a result:"
   ],
   "metadata": {}
  },
  {
   "cell_type": "code",
   "execution_count": 18,
   "source": [
    "from typing import Annotated\n",
    "\n",
    "from xdsl.ir import OpResult\n",
    "from xdsl.irdl import Operand\n",
    "from xdsl.dialects.arith import Constant\n",
    "\n",
    "@irdl_op_definition\n",
    "class Addi32(Operation):\n",
    "    name: str = \"arith.addi32\"\n",
    "    \n",
    "    # Definition of operands and results.\n",
    "    # Note the use of the attribute constraint coercion.\n",
    "    input1: Annotated[Operand, i32]\n",
    "    input2: Annotated[Operand, i32]\n",
    "    output: Annotated[OpResult, i32]\n",
    "\n",
    "i32_ssa_var = Constant.from_attr(IntegerAttr.from_int_and_width(62, 32), i32)\n",
    "my_addi32 = Addi32.build(operands=[i32_ssa_var.result, i32_ssa_var.result], result_types=[i32])\n",
    "printer.print_op(i32_ssa_var)\n",
    "print()\n",
    "printer.print_op(my_addi32)"
   ],
   "outputs": [
    {
     "output_type": "stream",
     "name": "stdout",
     "text": [
      "%0 : !i32 = arith.constant() [\"value\" = 62 : !i32]\n",
      "\n",
      "%1 : !i32 = arith.addi32(%0 : !i32, %0 : !i32)\n"
     ]
    }
   ],
   "metadata": {}
  },
  {
   "cell_type": "markdown",
   "source": [
    "The operation expects exactly the number of operands and results defined and checks that operands and results satisfy their invariants using the `verify` method."
   ],
   "metadata": {}
  },
  {
   "cell_type": "code",
   "execution_count": 19,
   "source": [
    "# This will pass since the invariants are satisfied\n",
    "my_addi32.verify()"
   ],
   "outputs": [],
   "metadata": {}
  },
  {
   "cell_type": "code",
   "execution_count": 20,
   "source": [
    "# Wrong number of operands\n",
    "try:\n",
    "    bad_addi32 = Addi32.build(operands=[i32_ssa_var], result_types=[i32])\n",
    "except Exception as e:\n",
    "    print(e)"
   ],
   "outputs": [
    {
     "output_type": "stream",
     "name": "stdout",
     "text": [
      "Expected 2 operand, but got 1\n"
     ]
    }
   ],
   "metadata": {}
  },
  {
   "cell_type": "code",
   "execution_count": 21,
   "source": [
    "# Wrong number of results\n",
    "try:\n",
    "    bad_addi32 = Addi32.build(operands=[i32_ssa_var, i32_ssa_var], result_types=[i32, i32])\n",
    "except Exception as e:\n",
    "    print(e)"
   ],
   "outputs": [
    {
     "output_type": "stream",
     "name": "stdout",
     "text": [
      "Expected 1 result, but got 2\n"
     ]
    }
   ],
   "metadata": {}
  },
  {
   "cell_type": "code",
   "execution_count": 22,
   "source": [
    "# Wrong result type\n",
    "bad_addi32 = Addi32.build(operands=[i32_ssa_var, i32_ssa_var], result_types=[i64])\n",
    "\n",
    "try:\n",
    "    bad_addi32.verify()\n",
    "except Exception as e:\n",
    "    print(e)"
   ],
   "outputs": [
    {
     "output_type": "stream",
     "name": "stdout",
     "text": [
      "arith.addi32 operation does not verify\n",
      "\n",
      "%0 : !i64 = arith.addi32(%<UNKNOWN> : !i32, %<UNKNOWN> : !i32)\n",
      "^^^^^^^^^^^^^^^^^^^^^^^^------------------------------------------------------------------------------------------------------------------------------------------------------------------------------------------------------------------------------------------------------------------------------------------------------------------------------------------------------------\n",
      "| result at position 0 does not verify!\n",
      "| Expected attribute IntegerType(parameters=[IntAttr(data=32), SignednessAttr(data=<Signedness.SIGNLESS: 0>)], width=IntAttr(data=32), signedness=SignednessAttr(data=<Signedness.SIGNLESS: 0>)) but got IntegerType(parameters=[IntAttr(data=64), SignednessAttr(data=<Signedness.SIGNLESS: 0>)], width=IntAttr(data=64), signedness=SignednessAttr(data=<Signedness.SIGNLESS: 0>))\n",
      "------------------------------------------------------------------------------------------------------------------------------------------------------------------------------------------------------------------------------------------------------------------------------------------------------------------------------------------------------------------------------------\n",
      "-------------------------^^^^^^^^^^--------------------------------------------------------------\n",
      "| ERROR: SSAValue is not part of the IR, are you sure all operations are added before their uses?\n",
      "-------------------------------------------------------------------------------------------------\n",
      "--------------------------------------------^^^^^^^^^^-------------------------------------------\n",
      "| ERROR: SSAValue is not part of the IR, are you sure all operations are added before their uses?\n",
      "-------------------------------------------------------------------------------------------------\n",
      "\n"
     ]
    }
   ],
   "metadata": {}
  },
  {
   "cell_type": "markdown",
   "source": [
    "As with `ParametrizedAttribute`, each operand and result definition defines accessors to easily access operands and results:"
   ],
   "metadata": {}
  },
  {
   "cell_type": "code",
   "execution_count": 23,
   "source": [
    "assert my_addi32.input1 == my_addi32.operands[0]\n",
    "assert my_addi32.input2 == my_addi32.operands[1]\n",
    "assert my_addi32.output == my_addi32.results[0]"
   ],
   "outputs": [],
   "metadata": {}
  },
  {
   "cell_type": "markdown",
   "source": [
    "### Variadic operands and results"
   ],
   "metadata": {
    "tags": []
   }
  },
  {
   "cell_type": "markdown",
   "source": [
    "Operand and result definitions can be defined variadic, meaning that their definition can have different numbers of operands or results. Variadic definitions are defined with `VarOperand` and `VarResultDef`."
   ],
   "metadata": {}
  },
  {
   "cell_type": "code",
   "execution_count": 24,
   "source": [
    "from xdsl.irdl import VarOperand\n",
    "\n",
    "@irdl_op_definition\n",
    "class AddVariadicOp(Operation):\n",
    "    name: str = \"add_variadic\"\n",
    "    ops: Annotated[VarOperand, i32]\n",
    "    res: Annotated[OpResult, i32]\n",
    "    \n",
    "i32_ssa_var = Constant.from_attr(IntegerAttr.from_int_and_width(62, 32), i32)\n",
    "add_op = AddVariadicOp.build(operands=[[i32_ssa_var] * 3], result_types=[i32])\n",
    "printer.print_op(i32_ssa_var)\n",
    "print()\n",
    "printer.print_op(add_op)"
   ],
   "outputs": [
    {
     "output_type": "stream",
     "name": "stdout",
     "text": [
      "%2 : !i32 = arith.constant() [\"value\" = 62 : !i32]\n",
      "\n",
      "%3 : !i32 = add_variadic(%2 : !i32, %2 : !i32, %2 : !i32)\n"
     ]
    }
   ],
   "metadata": {}
  },
  {
   "cell_type": "markdown",
   "source": [
    "Generated accessors return list of SSA variables instead of a single variable:"
   ],
   "metadata": {}
  },
  {
   "cell_type": "code",
   "execution_count": 25,
   "source": [
    "print(len(add_op.ops))"
   ],
   "outputs": [
    {
     "output_type": "stream",
     "name": "stdout",
     "text": [
      "3\n"
     ]
    }
   ],
   "metadata": {}
  },
  {
   "cell_type": "markdown",
   "source": [
    "Since it may be ambiguous, it is not possible to simply define two variadic operands, or two variadic results. To do so, the operation definition requires the `AttrSizedOperandSegments` or `AttrSizedResultSegments` IRDL option, which require the operation to contain a `operand_segment_sizes` or `result_segment_sizes` attribute, containing the size of the variadic operands, and variadic results."
   ],
   "metadata": {}
  },
  {
   "cell_type": "code",
   "execution_count": 26,
   "source": [
    "from xdsl.irdl import AttrSizedOperandSegments\n",
    "from xdsl.dialects.builtin import VectorType\n",
    "\n",
    "@irdl_op_definition\n",
    "class AddVariadicOp2(Operation):\n",
    "    name: str = \"add_variadic\"\n",
    "    ops1: Annotated[VarOperand, i32]\n",
    "    ops2: Annotated[VarOperand, i32]\n",
    "    res: Annotated[OpResult, i32]\n",
    "    \n",
    "    irdl_options = [AttrSizedOperandSegments()]\n",
    "    \n",
    "i32_ssa_var = Constant.from_attr(IntegerAttr.from_int_and_width(62, 32), i32)\n",
    "add_op2 = AddVariadicOp2.build(operands=[[i32_ssa_var] * 2, [i32_ssa_var]], result_types=[i32],\n",
    "                               attributes={\"operand_segment_sizes\": VectorType.from_element_type_and_shape(i32, [2, 1])})\n",
    "print(\"Length of add_op2.ops1:\", len(add_op2.ops1))\n",
    "print(\"Length of add_op2.ops2:\", len(add_op2.ops2))"
   ],
   "outputs": [
    {
     "output_type": "stream",
     "name": "stdout",
     "text": [
      "Length of add_op2.ops1: 2\n",
      "Length of add_op2.ops2: 1\n"
     ]
    }
   ],
   "metadata": {}
  },
  {
   "cell_type": "markdown",
   "source": [
    "In addition to variadic operands and results, IRDL also allows the definition of optional operands and results. Optional operands and results are essentially variadic operands and regions that are constrained to have either 0 or 1 elements. They are defined using `OptOperand` and `OptResultDef`, and define accessors returning optional SSA variables."
   ],
   "metadata": {}
  },
  {
   "cell_type": "code",
   "execution_count": 27,
   "source": [
    "from xdsl.irdl import OptOperand\n",
    "@irdl_op_definition\n",
    "class AddVariadicOp2(Operation):\n",
    "    name: str = \"add_optional\"\n",
    "    ops1: Annotated[Operand, i32]\n",
    "    ops2: Annotated[OptOperand, i32]\n",
    "    res: Annotated[OpResult, i32]\n",
    "        \n",
    "i32_ssa_var = Constant.from_attr(IntegerAttr.from_int_and_width(62, 32), i32)\n",
    "add_op3 = AddVariadicOp2.build(operands=[i32_ssa_var, [i32_ssa_var]], result_types=[i32])\n",
    "print(add_op3.ops2)\n",
    "\n",
    "add_op4 = AddVariadicOp2.build(operands=[i32_ssa_var, []], result_types=[i32])\n",
    "print(add_op4.ops2)"
   ],
   "outputs": [
    {
     "output_type": "stream",
     "name": "stdout",
     "text": [
      "OpResult(typ=IntegerType(parameters=[IntAttr(data=32), SignednessAttr(data=<Signedness.SIGNLESS: 0>)], width=IntAttr(data=32), signedness=SignednessAttr(data=<Signedness.SIGNLESS: 0>)), num_uses=2, op_name='arith.constant', result_index=0, name=None)\n",
      "None\n"
     ]
    }
   ],
   "metadata": {
    "scrolled": true
   }
  },
  {
   "cell_type": "markdown",
   "source": [
    "### Attributes definition"
   ],
   "metadata": {}
  },
  {
   "cell_type": "markdown",
   "source": [
    "Attribute definitions are defined similarly to operands and results, by having `AttributeDef` static fields. The field name correspond to the expected attribute name."
   ],
   "metadata": {}
  },
  {
   "cell_type": "code",
   "execution_count": 28,
   "source": [
    "from xdsl.irdl import AttributeDef\n",
    "\n",
    "@irdl_op_definition\n",
    "class StringAttrOp(Operation):\n",
    "    name: str = \"string_attr_op\"\n",
    "    value = AttributeDef(StringAttr)\n",
    "    \n",
    "my_attr_op = StringAttrOp.build(attributes={\"value\": StringAttr(\"ga\")})\n",
    "my_attr_op.verify()\n",
    "printer.print_op(my_attr_op)"
   ],
   "outputs": [
    {
     "output_type": "stream",
     "name": "stdout",
     "text": [
      "string_attr_op() [\"value\" = \"ga\"]\n"
     ]
    }
   ],
   "metadata": {}
  },
  {
   "cell_type": "markdown",
   "source": [
    "The defined verifier ensures that the attribute is present:"
   ],
   "metadata": {}
  },
  {
   "cell_type": "code",
   "execution_count": 29,
   "source": [
    "my_attr_op = StringAttrOp.build()\n",
    "try:\n",
    "    my_attr_op.verify()\n",
    "except Exception as e:\n",
    "    print(e)"
   ],
   "outputs": [
    {
     "output_type": "stream",
     "name": "stdout",
     "text": [
      "attribute value expected\n"
     ]
    }
   ],
   "metadata": {}
  },
  {
   "cell_type": "markdown",
   "source": [
    "And expects that the attribute respect the constraint:"
   ],
   "metadata": {}
  },
  {
   "cell_type": "code",
   "execution_count": 30,
   "source": [
    "try:\n",
    "    my_attr_op = StringAttrOp.build(attributes={\"value\": IntAttr.from_int(42)})\n",
    "except Exception as e:\n",
    "    print(e)"
   ],
   "outputs": [
    {
     "output_type": "stream",
     "name": "stdout",
     "text": [
      "No available StringAttr builders for arguments (IntAttr(data=42),)\n"
     ]
    }
   ],
   "metadata": {}
  },
  {
   "cell_type": "markdown",
   "source": [
    "Note that contrary to operands and results, other attributes may appear in an operation, even though they are not defined by the operation:my_attr_op = Operation.with_result_types(StringAttrOp, [], [], attributes={\"value\": IntAttr.get(42)})\n"
   ],
   "metadata": {}
  },
  {
   "cell_type": "code",
   "execution_count": 31,
   "source": [
    "my_attr_op = StringAttrOp.build(attributes={\"value\": StringAttr(\"ga\"), \"other_attr\": IntAttr.from_int(42)})\n",
    "my_attr_op.verify()\n",
    "printer.print_op(my_attr_op)"
   ],
   "outputs": [
    {
     "output_type": "stream",
     "name": "stdout",
     "text": [
      "string_attr_op() [\"value\" = \"ga\", \"other_attr\" = !int<42>]\n"
     ]
    }
   ],
   "metadata": {}
  },
  {
   "cell_type": "markdown",
   "source": [
    "### Regions"
   ],
   "metadata": {}
  },
  {
   "cell_type": "markdown",
   "source": [
    "Regions definitions are defined using `RegionDef` or `SingleBlockRegionDef`. The second definition constrains the region to contain a single block, and both definitions allows to further constraint the region by giving a constraint for the entry basic block parameters."
   ],
   "metadata": {}
  },
  {
   "cell_type": "code",
   "execution_count": 32,
   "source": [
    "from xdsl.irdl import RegionDef, Region, Block\n",
    "\n",
    "@irdl_op_definition\n",
    "class WhileOp(Operation):\n",
    "    name: str = \"while_op\"\n",
    "    value = RegionDef()\n",
    "    \n",
    "region = Region.from_block_list([Block.from_arg_types([i32])])\n",
    "region_op = WhileOp.build(regions=[region])\n",
    "region_op.verify()\n",
    "printer.print_op(region_op)"
   ],
   "outputs": [
    {
     "output_type": "stream",
     "name": "stdout",
     "text": [
      "while_op() {\n",
      "^0(%4 : !i32):\n",
      "}\n"
     ]
    }
   ],
   "metadata": {}
  },
  {
   "cell_type": "markdown",
   "source": [
    "### Additional verifiers"
   ],
   "metadata": {}
  },
  {
   "cell_type": "markdown",
   "source": [
    "`irdl_op_definition` is not expressive enough to define arbitrary constraints, especially for constraints spanning over multiple operand and result definitions. To circumvent that, definitions may define a `verify_` method that will be called in the generated verifier:"
   ],
   "metadata": {}
  },
  {
   "cell_type": "code",
   "execution_count": 33,
   "source": [
    "from xdsl.dialects.builtin import IntegerType\n",
    "from xdsl.dialects.arith import Addi\n",
    "\n",
    "@irdl_op_definition\n",
    "class MyAddi(Operation):\n",
    "    name: str = \"std.addi\"\n",
    "    input1: Annotated[Operand, IntegerType]\n",
    "    input2: Annotated[Operand, IntegerType]\n",
    "    output: Annotated[OpResult, IntegerType]\n",
    "\n",
    "    # Ensure that the inputs and outputs have the same type:\n",
    "    def verify_(self) -> None:\n",
    "        if self.input1.typ != self.input2.typ or self.input2.typ != self.output.typ:\n",
    "            raise Exception(\"expect all input and output types to be equal\")\n",
    "\n",
    "i32_ssa_var = Constant.from_attr(IntegerAttr.from_int_and_width(62, 32), i32)\n",
    "add_op = Addi.build(operands=[i32_ssa_var, i32_ssa_var], result_types=[i32])\n",
    "# This will pass, since all operands and results have the same type\n",
    "add_op.verify()\n",
    "\n",
    "# This will raise an error, since the result has a different type than the operands\n",
    "bad_add_op = Addi.build(operands=[i32_ssa_var, i32_ssa_var], result_types=[i64])\n",
    "try:\n",
    "    bad_add_op.verify()\n",
    "except Exception as e:\n",
    "    print(e)"
   ],
   "outputs": [
    {
     "output_type": "stream",
     "name": "stdout",
     "text": [
      "expect all input and result types to be equal\n"
     ]
    }
   ],
   "metadata": {}
  },
  {
   "cell_type": "code",
   "execution_count": null,
   "source": [],
   "outputs": [],
   "metadata": {}
  }
 ],
 "metadata": {
  "kernelspec": {
   "display_name": "Python 3 (ipykernel)",
   "language": "python",
   "name": "python3"
  },
  "language_info": {
   "codemirror_mode": {
    "name": "ipython",
    "version": 3
   },
   "file_extension": ".py",
   "mimetype": "text/x-python",
   "name": "python",
   "nbconvert_exporter": "python",
   "pygments_lexer": "ipython3",
   "version": "3.10.6"
  }
 },
 "nbformat": 4,
 "nbformat_minor": 5
}
