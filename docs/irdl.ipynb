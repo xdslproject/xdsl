{
 "cells": [
  {
   "cell_type": "markdown",
   "id": "478e8ef4-f3a7-4aec-b1f6-ffa60aa88697",
   "metadata": {},
   "source": [
    "# IRDL tutorial"
   ]
  },
  {
   "cell_type": "markdown",
   "id": "a3721339-9b8d-4743-b5da-e920f9afd3e9",
   "metadata": {
    "tags": []
   },
   "source": [
    "## Imports and setup"
   ]
  },
  {
   "cell_type": "code",
   "execution_count": 1,
   "id": "e86541f5-af35-4c73-9a8c-4c43e7d365d6",
   "metadata": {},
   "outputs": [],
   "source": [
    "from xdsl.ir import MLContext\n",
    "from xdsl.dialects.arith import Arith\n",
    "from xdsl.dialects.builtin import Builtin\n",
    "from xdsl.printer import Printer\n",
    "\n",
    "# MLContext, containing information about the registered dialects\n",
    "context = MLContext()\n",
    "\n",
    "# Some useful dialects\n",
    "arith = Arith(context)\n",
    "builtin = Builtin(context)\n",
    "\n",
    "# Printer used to pretty-print MLIR data structures\n",
    "printer = Printer()"
   ]
  },
  {
   "cell_type": "markdown",
   "id": "630defa6-2b4c-43b2-9899-1ed866a633b1",
   "metadata": {},
   "source": [
    "## Introduction"
   ]
  },
  {
   "cell_type": "markdown",
   "id": "7a4da2b9-b24e-4dd4-93d9-7c54db3e207c",
   "metadata": {},
   "source": [
    "xDSL is an extensible compiler, meaning that new operations, attributes, and types can be added. xDSL provides an embedded DSL, IRDL, to define new dialects.\n",
    "This tutorial shows the different features IRDL has, and presents examples on how to use them."
   ]
  },
  {
   "cell_type": "markdown",
   "id": "bd9c575b-b51d-4451-a5e0-0de47f0d1411",
   "metadata": {
    "tags": []
   },
   "source": [
    "## Attribute constraints"
   ]
  },
  {
   "cell_type": "markdown",
   "id": "e07dc6be-675f-4f58-ad69-02c405c9fb91",
   "metadata": {},
   "source": [
    "Attribute constraints represent invariants over attributes, and are an important concept for defining new attributes and operations. In practice, an attribute constraint is a child class of `AttrConstraint` that implements a `verify` method. The method takes an attribute as parameter, and raises an exception if the invariant is not respected."
   ]
  },
  {
   "cell_type": "markdown",
   "id": "bb2a2b09-bd9f-4c01-a5ab-ab8341452282",
   "metadata": {},
   "source": [
    "### Any constraint"
   ]
  },
  {
   "cell_type": "markdown",
   "id": "86c02455-3c79-4402-a3c9-877c8c59df86",
   "metadata": {},
   "source": [
    "An `Any` constraint will never trigger an exception, and will always pass:"
   ]
  },
  {
   "cell_type": "code",
   "execution_count": 2,
   "id": "c7d62f32-c833-49c1-a249-4541aea3538f",
   "metadata": {},
   "outputs": [],
   "source": [
    "# NBVAL_CHECK_OUTPUT\n",
    "\n",
    "from xdsl.irdl import AnyAttr\n",
    "from xdsl.dialects.builtin import i64, StringAttr\n",
    "\n",
    "# Construct the constraint\n",
    "any_constraint = AnyAttr()\n",
    "\n",
    "# This will pass without triggering an exception\n",
    "any_constraint.verify(i64)\n",
    "any_constraint.verify(StringAttr(\"ga\"))"
   ]
  },
  {
   "cell_type": "markdown",
   "id": "3690d402-15ee-4140-9c2f-78e7804c88bf",
   "metadata": {},
   "source": [
    "### Equality constraint"
   ]
  },
  {
   "cell_type": "markdown",
   "id": "e6c3e74b-f28f-4ae2-8adf-bba9fbd019c7",
   "metadata": {},
   "source": [
    "An equality constraint ensures that the attribute is equal to one provided to the constraint:"
   ]
  },
  {
   "cell_type": "code",
   "execution_count": 3,
   "id": "a2d038c3-ed11-4f8c-b58a-e9eb82702c51",
   "metadata": {},
   "outputs": [
    {
     "name": "stdout",
     "output_type": "stream",
     "text": [
      "Expected attribute IntegerType(parameters=[IntAttr(data=64)], width=IntAttr(data=64)) but got IntegerType(parameters=[IntAttr(data=32)], width=IntAttr(data=32))\n"
     ]
    }
   ],
   "source": [
    "from xdsl.irdl import EqAttrConstraint, VerifyException\n",
    "from xdsl.dialects.builtin import i32\n",
    "\n",
    "# Construct the constraint\n",
    "eq_constraint = EqAttrConstraint(i64)\n",
    "\n",
    "# This will pass without triggering an exception\n",
    "eq_constraint.verify(i64)\n",
    "\n",
    "# This will trigger an exception\n",
    "try:\n",
    "    eq_constraint.verify(i32)\n",
    "except Exception as e:\n",
    "    print(e)"
   ]
  },
  {
   "cell_type": "markdown",
   "id": "bb7acb86-6492-4c95-9242-a7d577532526",
   "metadata": {},
   "source": [
    "### Base attribute constraint"
   ]
  },
  {
   "cell_type": "markdown",
   "id": "7308a09f-8ff3-4a55-ae72-4392e5a7c328",
   "metadata": {},
   "source": [
    "A base attribute constraint ensures that the attribute base type is equal to an expected attribute base type:"
   ]
  },
  {
   "cell_type": "code",
   "execution_count": 4,
   "id": "4f03f9d1-b0ee-4d9a-b815-a1a098a28e30",
   "metadata": {},
   "outputs": [
    {
     "name": "stdout",
     "output_type": "stream",
     "text": [
      "IntegerType(parameters=[IntAttr(data=32)], width=IntAttr(data=32)) should be of base attribute string\n"
     ]
    }
   ],
   "source": [
    "from xdsl.irdl import BaseAttr\n",
    "from xdsl.dialects.builtin import IntAttr\n",
    "\n",
    "# Construct the constraint\n",
    "base_constraint = BaseAttr(StringAttr)\n",
    "\n",
    "# This will pass without triggering an exception\n",
    "base_constraint.verify(StringAttr(\"ga\"))\n",
    "base_constraint.verify(StringAttr(\"bu\"))\n",
    "\n",
    "# This will trigger an exception\n",
    "try:\n",
    "    base_constraint.verify(i32)\n",
    "except Exception as e:\n",
    "    print(e)"
   ]
  },
  {
   "cell_type": "code",
   "execution_count": 5,
   "id": "c99da851",
   "metadata": {},
   "outputs": [
    {
     "name": "stdout",
     "output_type": "stream",
     "text": [
      "IntAttr(data=3) should be of base attribute string\n"
     ]
    }
   ],
   "source": [
    "# This too\n",
    "try:\n",
    "    base_constraint.verify(IntAttr.from_int(3))\n",
    "except Exception as e:\n",
    "    print(e)"
   ]
  },
  {
   "cell_type": "markdown",
   "id": "a12027b7-e014-4b39-8893-76fa557be6bd",
   "metadata": {},
   "source": [
    "### Attribute constraint coercion"
   ]
  },
  {
   "cell_type": "markdown",
   "id": "29f6ec74-2c13-4c65-9128-887126fd3877",
   "metadata": {},
   "source": [
    "To simplify the definitions of constraints, constraint constructors expecting an attribute constraints will coerce `Attribute` to an equality attribute constraint, and will coerce an `Attribute` type to a base attribute constraint. this is done using the `attr_constr_coercion` function:"
   ]
  },
  {
   "cell_type": "code",
   "execution_count": 6,
   "id": "1d9defd0-0331-48f8-bc54-f9013a5013d9",
   "metadata": {},
   "outputs": [],
   "source": [
    "# NBVAL_CHECK_OUTPUT\n",
    "from xdsl.irdl import EqAttrConstraint, attr_constr_coercion, AnyOf\n",
    "from xdsl.dialects.builtin import i32\n",
    "\n",
    "assert attr_constr_coercion(i32) == EqAttrConstraint(i32)\n",
    "assert attr_constr_coercion(StringAttr) == BaseAttr(StringAttr)\n",
    "assert AnyOf([i32, StringAttr]) == AnyOf([EqAttrConstraint(i32), BaseAttr(StringAttr)])"
   ]
  },
  {
   "cell_type": "markdown",
   "id": "e03951f5-a2cf-4194-bac9-0b56f3acfd88",
   "metadata": {},
   "source": [
    "### Or constraint"
   ]
  },
  {
   "cell_type": "markdown",
   "id": "a34861a3-c430-4754-aeb8-b64a7ca3290c",
   "metadata": {},
   "source": [
    "An or constraint ensures that one of the given attribute constraints is satisfied by the attribute:"
   ]
  },
  {
   "cell_type": "code",
   "execution_count": 7,
   "id": "9e802669-d46e-4b1e-bb4e-878cba4f96e2",
   "metadata": {},
   "outputs": [
    {
     "name": "stdout",
     "output_type": "stream",
     "text": [
      "Unexpected attribute IntegerType(parameters=[IntAttr(data=64)], width=IntAttr(data=64))\n"
     ]
    }
   ],
   "source": [
    "# Construct the constraint. Note that we are using the coercion defined previously.\n",
    "or_constraint = AnyOf([i32, StringAttr])\n",
    "\n",
    "# This will pass without triggering an exception, since the first constraint is satisfied\n",
    "or_constraint.verify(i32)\n",
    "\n",
    "# This will pass without triggering an exception, since the second constraint is satisfied\n",
    "or_constraint.verify(StringAttr(\"ga\"))\n",
    "or_constraint.verify(StringAttr(\"bu\"))\n",
    "\n",
    "# This will trigger an exception, since none of the constraints are satisfied\n",
    "try:\n",
    "    or_constraint.verify(i64)\n",
    "except Exception as e:\n",
    "    print(e)"
   ]
  },
  {
   "cell_type": "markdown",
   "id": "ddf32e93-2f9c-4bb1-9ad2-92b837857e4e",
   "metadata": {},
   "source": [
    "### Parametric attribute constraint"
   ]
  },
  {
   "cell_type": "markdown",
   "id": "20582ded-74d6-470a-bf32-ed5552c0a1ff",
   "metadata": {},
   "source": [
    "A parametric attribute constraint is satisfied by parametric attributes of a certain base type. In addition, parametric attribute constraints specify constraints for each of the parameters of the attribute:"
   ]
  },
  {
   "cell_type": "code",
   "execution_count": 8,
   "id": "33220496-b3fd-4c8d-9a19-0648d65db2b3",
   "metadata": {},
   "outputs": [
    {
     "name": "stdout",
     "output_type": "stream",
     "text": [
      "Base attribute integer expected, but got integer_type\n"
     ]
    }
   ],
   "source": [
    "from xdsl.dialects.builtin import IntegerAttr\n",
    "from xdsl.irdl import ParamAttrConstraint\n",
    "\n",
    "\n",
    "# Construct the constraint. Note that we are using the coercion defined previously.\n",
    "param_constraint = ParamAttrConstraint(IntegerAttr, [IntAttr, i32])\n",
    "\n",
    "# This will pass without triggering an exception.\n",
    "param_constraint.verify(IntegerAttr([IntAttr.from_int(42), i32]))\n",
    "param_constraint.verify(IntegerAttr([IntAttr.from_int(23), i32]))\n",
    "\n",
    "# This will trigger an exception, since the attribute type is not the expected one\n",
    "try:\n",
    "    param_constraint.verify(i64)\n",
    "except Exception as e:\n",
    "    print(e)"
   ]
  },
  {
   "cell_type": "code",
   "execution_count": 9,
   "id": "f19d6043",
   "metadata": {},
   "outputs": [
    {
     "name": "stdout",
     "output_type": "stream",
     "text": [
      "Expected attribute IntegerType(parameters=[IntAttr(data=32)], width=IntAttr(data=32)) but got IntegerType(parameters=[IntAttr(data=64)], width=IntAttr(data=64))\n"
     ]
    }
   ],
   "source": [
    "# This will trigger an exception, since the second parameter constraint is not satisfied\n",
    "try:\n",
    "    param_constraint.verify(IntegerAttr([IntAttr.from_int(42), i64]))\n",
    "except Exception as e:\n",
    "    print(e)"
   ]
  },
  {
   "cell_type": "markdown",
   "id": "f9233aad-393e-41b4-916c-244f25bf019f",
   "metadata": {},
   "source": [
    "### Custom constraints"
   ]
  },
  {
   "cell_type": "markdown",
   "id": "f063d28d-b43e-461c-adff-0f81516a742d",
   "metadata": {},
   "source": [
    "Users can define their own constraints for their own types. For instance, here is the definition of the `ArrayOfConstraint` constraint, which expects an `ArrayAttr` where all elements of the array satisfy a specific constraint:"
   ]
  },
  {
   "cell_type": "code",
   "execution_count": 10,
   "id": "8ebf07e0-38b5-4152-9848-2b358667d8df",
   "metadata": {},
   "outputs": [],
   "source": [
    "# NBVAL_CHECK_OUTPUT\n",
    "\n",
    "from xdsl.ir import Attribute\n",
    "from xdsl.dialects.builtin import ArrayAttr\n",
    "from xdsl.irdl import AttrConstraint\n",
    "\n",
    "from typing import Union, Type\n",
    "from dataclasses import dataclass\n",
    "\n",
    "@dataclass\n",
    "class ArrayOfConstraint(AttrConstraint):\n",
    "    # The constraint that needs to be satisfied by all elements of the array\n",
    "    elem_constr: AttrConstraint\n",
    "\n",
    "    # The custom init applies the attribute constraint coercion\n",
    "    def __init__(self, constr: Union[Attribute, Type[Attribute],\n",
    "                                     AttrConstraint]):\n",
    "        self.elem_constr = attr_constr_coercion(constr)\n",
    "\n",
    "    # Check that an attribute satisfies the constraints\n",
    "    def verify(self, attr: Attribute) -> None:\n",
    "        # We first check that the attribute is an ArrayAttr\n",
    "        if not isinstance(attr, ArrayAttr):\n",
    "            raise Exception(f\"expected attribute ArrayData but got {attr}\")\n",
    "\n",
    "        # We check the constraint for all elements in the array\n",
    "        for e in attr.data:\n",
    "            self.elem_constr.verify(e)\n",
    "\n",
    "array_constraint = ArrayOfConstraint(IntAttr)\n",
    "\n",
    "# This will pass without triggering an exception\n",
    "array_constraint.verify(ArrayAttr.from_list([IntAttr.from_int(42)]))\n",
    "array_constraint.verify(ArrayAttr.from_list([IntAttr.from_int(3), IntAttr.from_int(7)]))"
   ]
  },
  {
   "cell_type": "code",
   "execution_count": 11,
   "id": "8e6b1b6d",
   "metadata": {},
   "outputs": [
    {
     "name": "stdout",
     "output_type": "stream",
     "text": [
      "expected attribute ArrayData but got IntegerType(parameters=[IntAttr(data=32)], width=IntAttr(data=32))\n"
     ]
    }
   ],
   "source": [
    "# This will trigger an exception, since the attribute is not an array\n",
    "try:\n",
    "    array_constraint.verify(i32)\n",
    "except Exception as e:\n",
    "    print(e)"
   ]
  },
  {
   "cell_type": "code",
   "execution_count": 12,
   "id": "e5428e79",
   "metadata": {},
   "outputs": [
    {
     "name": "stdout",
     "output_type": "stream",
     "text": [
      "StringAttr(data='ga') should be of base attribute int\n"
     ]
    }
   ],
   "source": [
    "# This will trigger an exception, since the array contains attribute that do not satisfies the constraint\n",
    "try:\n",
    "    array_constraint.verify(ArrayAttr.from_list([IntAttr.from_int(42), StringAttr(\"ga\")]))\n",
    "except Exception as e:\n",
    "    print(e)"
   ]
  },
  {
   "cell_type": "markdown",
   "id": "de5e5ec0-4c98-40bf-8b4b-2ab94cc147ee",
   "metadata": {},
   "source": [
    "## Attribute definition"
   ]
  },
  {
   "cell_type": "markdown",
   "id": "4d637a54-9dad-4066-81ab-f1cea122b228",
   "metadata": {},
   "source": [
    "### Data attributes"
   ]
  },
  {
   "cell_type": "markdown",
   "id": "2e9701dd-9a7a-4baf-a120-565deb3fb075",
   "metadata": {},
   "source": [
    "`Data` attribute types are defined by inheriting the python `Data` class. Each data attribute definition should define a `name`, and two methods for conversion to a string representation. Here is for example the definition of `IntAttr`:"
   ]
  },
  {
   "cell_type": "code",
   "execution_count": 13,
   "id": "13259d0e-c190-4147-abda-9c10a6bfb7f8",
   "metadata": {},
   "outputs": [
    {
     "name": "stdout",
     "output_type": "stream",
     "text": [
      "!my_int<3>"
     ]
    }
   ],
   "source": [
    "from xdsl.irdl import irdl_attr_definition\n",
    "from xdsl.ir import Data\n",
    "from xdsl.parser import Parser\n",
    "\n",
    "@irdl_attr_definition\n",
    "class MyIntAttr(Data[int]):\n",
    "    name = \"my_int\"\n",
    "\n",
    "    @staticmethod\n",
    "    def parse_parameter(parser: Parser) -> int:\n",
    "        data = parser.parse_int_literal()\n",
    "        return data\n",
    "\n",
    "    @staticmethod\n",
    "    def print_parameter(data: int, printer: Printer) -> None:\n",
    "        printer.print_string(f'{data}')\n",
    "\n",
    "        \n",
    "printer.print_attribute(MyIntAttr(3))"
   ]
  },
  {
   "cell_type": "markdown",
   "id": "df9f9af5-1834-4b1a-ab13-9e72ed743228",
   "metadata": {},
   "source": [
    "### Parametrized attributes"
   ]
  },
  {
   "cell_type": "markdown",
   "id": "aeca18e8-8bda-4c72-87bd-6f7fd4c86aa8",
   "metadata": {},
   "source": [
    "`ParametrizedAttribute` attribute types are defined using the `irdl_attr_definition` decorator on a class. Such class should contain a `name` field specifying the attribute name. Parameters are added to attribute definitions by defining fields containing a `ParameterDef`. The field names correspond to the parameter names, and `ParameterDef` contains a constraint that should be respected by this parameter. The order of the fields correspond to the order of the parameters when using the attribute. Upon construction of an attribute, all constraints will be checked, and an exception will be raised if the invariants are not satisfied.\n",
    "\n",
    "Here is an example of an integer type definition:"
   ]
  },
  {
   "cell_type": "code",
   "execution_count": 14,
   "id": "28c4be91-416b-4937-87ce-d5c3b0ceeceb",
   "metadata": {},
   "outputs": [
    {
     "name": "stdout",
     "output_type": "stream",
     "text": [
      "In integer_type attribute verifier: 1 parameters expected, got 2\n",
      "StringAttr(data='ga') should be of base attribute int\n"
     ]
    }
   ],
   "source": [
    "from xdsl.ir import ParametrizedAttribute\n",
    "from xdsl.irdl import ParameterDef\n",
    "\n",
    "# Represent an integer type with a given bitwidth\n",
    "@irdl_attr_definition\n",
    "class MyIntegerType(ParametrizedAttribute):\n",
    "    # Name of the type. This is used for printing and parsing.\n",
    "    name = \"integer_type\"\n",
    "\n",
    "    # Only parameter of the type, with an `EqAttrConstraint` constraint.\n",
    "    # Note the use of the attribute constraint coercion.\n",
    "    width: ParameterDef[IntAttr]\n",
    "\n",
    "my_i32 = MyIntegerType([IntAttr.from_int(32)])\n",
    "\n",
    "# This will trigger an exception, since the attribute only expect a single attribute\n",
    "try:\n",
    "    MyIntegerType([IntAttr.from_int(32), IntAttr.from_int(64)])\n",
    "except Exception as e:\n",
    "    print(e)\n",
    "    \n",
    "# This will trigger an exception, since the attribute is not an IntAttr\n",
    "try:\n",
    "    MyIntegerType([StringAttr(\"ga\")])\n",
    "except Exception as e:\n",
    "    print(e)"
   ]
  },
  {
   "cell_type": "markdown",
   "id": "0a56daa9-8e13-4739-aac0-197c0e1c84c1",
   "metadata": {},
   "source": [
    "Each parameter can be accessed using the `parameters` field."
   ]
  },
  {
   "cell_type": "code",
   "execution_count": 15,
   "id": "08126f9c-6b4e-4dbf-8621-3842cf385a20",
   "metadata": {},
   "outputs": [
    {
     "data": {
      "text/plain": [
       "[IntAttr(data=32)]"
      ]
     },
     "execution_count": 15,
     "metadata": {},
     "output_type": "execute_result"
    }
   ],
   "source": [
    "my_i32.parameters"
   ]
  },
  {
   "cell_type": "markdown",
   "id": "008066a1-0490-496a-b175-f9b5874504ad",
   "metadata": {},
   "source": [
    "Our attribute definition also defines accessors for each parameter based on the name given in the `ParameterDef` field:"
   ]
  },
  {
   "cell_type": "code",
   "execution_count": 16,
   "id": "ee0ef4e9-9180-47c1-991a-cd375c4b5b0c",
   "metadata": {},
   "outputs": [
    {
     "data": {
      "text/plain": [
       "IntAttr(data=32)"
      ]
     },
     "execution_count": 16,
     "metadata": {},
     "output_type": "execute_result"
    }
   ],
   "source": [
    "my_i32.width"
   ]
  },
  {
   "cell_type": "markdown",
   "id": "d6c01521-96cb-4f84-8513-2879e9214760",
   "metadata": {},
   "source": [
    "## Operation definition"
   ]
  },
  {
   "cell_type": "markdown",
   "id": "97c2f4a9-fce7-4394-b67e-c741e2845659",
   "metadata": {},
   "source": [
    "Operations are defined similarly to `ParametrizedAttribute`, by using the `irdl_op_definition` decorator. The decorator allows the definition of expected operands, results, attributes, and regions. Each definition should contain a `name` static field, which is used for parsing and printing:"
   ]
  },
  {
   "cell_type": "code",
   "execution_count": 17,
   "id": "d39df7e3-5156-4208-b17a-25a0f2e669a9",
   "metadata": {},
   "outputs": [
    {
     "name": "stdout",
     "output_type": "stream",
     "text": [
      "my_dialect.my_op()\n"
     ]
    }
   ],
   "source": [
    "from xdsl.irdl import irdl_op_definition\n",
    "from xdsl.ir import Operation\n",
    "\n",
    "@irdl_op_definition\n",
    "class MyEmptyOp(Operation):\n",
    "    name: str = \"my_dialect.my_op\"\n",
    "    \n",
    "my_op = MyEmptyOp.build()\n",
    "printer.print_op(my_op)"
   ]
  },
  {
   "cell_type": "markdown",
   "id": "d3ce7ed7-7294-4e46-bb54-9a8e479a853a",
   "metadata": {},
   "source": [
    "### Operands and Results"
   ]
  },
  {
   "cell_type": "markdown",
   "id": "27d1c26e-90d7-417c-9e5c-a0d83f9bdc34",
   "metadata": {},
   "source": [
    "Similar to parameters for `ParametrizedAttribute`, operands and results are added using fields containing `OperandDef` and `ResultDef`, which each contain an attribute constraint. The order correspond to the operand and result order, and the constraint applies on the SSA variable type.\n",
    "\n",
    "Here is an example of an operation defining operands and a result:"
   ]
  },
  {
   "cell_type": "code",
   "execution_count": 18,
   "id": "af6242c6-8248-4dc8-8b15-abe71467486e",
   "metadata": {},
   "outputs": [
    {
     "name": "stdout",
     "output_type": "stream",
     "text": [
      "%0 : !i32 = arith.constant() [\"value\" = 62 : !i32]\n",
      "\n",
      "%1 : !i32 = arith.addi32(%0 : !i32, %0 : !i32)\n"
     ]
    }
   ],
   "source": [
    "from xdsl.irdl import OperandDef, ResultDef\n",
    "from xdsl.dialects.arith import Constant\n",
    "\n",
    "@irdl_op_definition\n",
    "class Addi32(Operation):\n",
    "    name: str = \"arith.addi32\"\n",
    "    \n",
    "    # Definition of operands and results.\n",
    "    # Note the use of the attribute constraint coercion.\n",
    "    input1 = OperandDef(i32)\n",
    "    input2 = OperandDef(i32)\n",
    "    output = ResultDef(i32)\n",
    "\n",
    "i32_ssa_var = Constant.from_attr(IntegerAttr.from_int_and_width(62, 32), i32)\n",
    "my_addi32 = Addi32.build(operands=[i32_ssa_var.result, i32_ssa_var.result], result_types=[i32])\n",
    "printer.print_op(i32_ssa_var)\n",
    "print()\n",
    "printer.print_op(my_addi32)"
   ]
  },
  {
   "cell_type": "markdown",
   "id": "31725694-0720-4d77-bc1c-cf1deab204b4",
   "metadata": {},
   "source": [
    "The operation expects exactly the number of operands and results defined and checks that operands and results satisfy their invariants using the `verify` method."
   ]
  },
  {
   "cell_type": "code",
   "execution_count": 19,
   "id": "03e45032-00f7-4ea3-9a51-1378babf44e4",
   "metadata": {},
   "outputs": [],
   "source": [
    "# This will pass since the invariants are satisfied\n",
    "my_addi32.verify()"
   ]
  },
  {
   "cell_type": "code",
   "execution_count": 20,
   "id": "df6099e6-818a-47d5-bdda-ff0c0ff3701d",
   "metadata": {},
   "outputs": [
    {
     "name": "stdout",
     "output_type": "stream",
     "text": [
      "expected 2 operand, but got 1\n"
     ]
    }
   ],
   "source": [
    "# Wrong number of operands\n",
    "try:\n",
    "    bad_addi32 = Addi32.build(operands=[i32_ssa_var], result_types=[i32])\n",
    "except Exception as e:\n",
    "    print(e)"
   ]
  },
  {
   "cell_type": "code",
   "execution_count": 21,
   "id": "0d61e89b-816f-44e3-b70f-884c249d61b0",
   "metadata": {},
   "outputs": [
    {
     "name": "stdout",
     "output_type": "stream",
     "text": [
      "expected 1 result, but got 2\n"
     ]
    }
   ],
   "source": [
    "# Wrong number of results\n",
    "try:\n",
    "    bad_addi32 = Addi32.build(operands=[i32_ssa_var, i32_ssa_var], result_types=[i32, i32])\n",
    "except Exception as e:\n",
    "    print(e)"
   ]
  },
  {
   "cell_type": "code",
   "execution_count": 22,
   "id": "553dfb18-bfc7-4f43-9f21-521a802cc4cb",
   "metadata": {},
   "outputs": [
    {
     "name": "stdout",
     "output_type": "stream",
     "text": [
      "arith.addi32 operation does not verify\n",
      "\n",
      "%0 : !i64 = arith.addi32(%<UNKNOWN> : !i32, %<UNKNOWN> : !i32)\n",
      "^^^^^^^^^^^^^^^^^^^^^^^^------------------------------------------------------------------------------------------------------------------------------------------\n",
      "| result at position 0 does not verify!\n",
      "| Expected attribute IntegerType(parameters=[IntAttr(data=32)], width=IntAttr(data=32)) but got IntegerType(parameters=[IntAttr(data=64)], width=IntAttr(data=64))\n",
      "------------------------------------------------------------------------------------------------------------------------------------------------------------------\n",
      "-------------------------^^^^^^^^^^--------------------------------------------------------------\n",
      "| ERROR: SSAValue is not part of the IR, are you sure all operations are added before their uses?\n",
      "-------------------------------------------------------------------------------------------------\n",
      "--------------------------------------------^^^^^^^^^^-------------------------------------------\n",
      "| ERROR: SSAValue is not part of the IR, are you sure all operations are added before their uses?\n",
      "-------------------------------------------------------------------------------------------------\n",
      "\n"
     ]
    }
   ],
   "source": [
    "# Wrong result type\n",
    "bad_addi32 = Addi32.build(operands=[i32_ssa_var, i32_ssa_var], result_types=[i64])\n",
    "\n",
    "try:\n",
    "    bad_addi32.verify()\n",
    "except Exception as e:\n",
    "    print(e)"
   ]
  },
  {
   "cell_type": "markdown",
   "id": "7a768c3c-118a-48f5-8aad-c349a1e3fa12",
   "metadata": {},
   "source": [
    "As with `ParametrizedAttribute`, each operand and result definition defines accessors to easily access operands and results:"
   ]
  },
  {
   "cell_type": "code",
   "execution_count": 23,
   "id": "bded04b6-92c6-46b7-b5d1-12edf54802ba",
   "metadata": {},
   "outputs": [],
   "source": [
    "assert my_addi32.input1 == my_addi32.operands[0]\n",
    "assert my_addi32.input2 == my_addi32.operands[1]\n",
    "assert my_addi32.output == my_addi32.results[0]"
   ]
  },
  {
   "cell_type": "markdown",
   "id": "644060aa-1ef1-416c-bff4-f55a9f5415df",
   "metadata": {
    "tags": []
   },
   "source": [
    "### Variadic operands and results"
   ]
  },
  {
   "cell_type": "markdown",
   "id": "313a1a4f-71fb-4ae9-8a74-b51c1ff0edbd",
   "metadata": {},
   "source": [
    "Operand and result definitions can be defined variadic, meaning that their definition can have different numbers of operands or results. Variadic definitions are defined with `VarOperandDef` and `VarResultDef`."
   ]
  },
  {
   "cell_type": "code",
   "execution_count": 24,
   "id": "a8c649f1-7793-42dd-a7a7-a03b394c30e4",
   "metadata": {},
   "outputs": [
    {
     "name": "stdout",
     "output_type": "stream",
     "text": [
      "%2 : !i32 = arith.constant() [\"value\" = 62 : !i32]\n",
      "\n",
      "%3 : !i32 = add_variadic(%2 : !i32, %2 : !i32, %2 : !i32)\n"
     ]
    }
   ],
   "source": [
    "from xdsl.irdl import VarOperandDef\n",
    "\n",
    "@irdl_op_definition\n",
    "class AddVariadicOp(Operation):\n",
    "    name: str = \"add_variadic\"\n",
    "    ops = VarOperandDef(i32)\n",
    "    res = ResultDef(i32)\n",
    "    \n",
    "i32_ssa_var = Constant.from_attr(IntegerAttr.from_int_and_width(62, 32), i32)\n",
    "add_op = AddVariadicOp.build(operands=[[i32_ssa_var] * 3], result_types=[i32])\n",
    "printer.print_op(i32_ssa_var)\n",
    "print()\n",
    "printer.print_op(add_op)"
   ]
  },
  {
   "cell_type": "markdown",
   "id": "2397c219-c809-4120-b072-5aa367961a12",
   "metadata": {},
   "source": [
    "Generated accessors return list of SSA variables instead of a single variable:"
   ]
  },
  {
   "cell_type": "code",
   "execution_count": 25,
   "id": "44846ef3-1575-4ac9-b0a4-787d71f9d1a0",
   "metadata": {},
   "outputs": [
    {
     "name": "stdout",
     "output_type": "stream",
     "text": [
      "3\n"
     ]
    }
   ],
   "source": [
    "print(len(add_op.ops))"
   ]
  },
  {
   "cell_type": "markdown",
   "id": "8dd68d72-7bc0-4f4d-852d-b49294f1c5c0",
   "metadata": {},
   "source": [
    "Since it may be ambiguous, it is not possible to simply define two variadic operands, or two variadic results. To do so, the operation definition requires the `AttrSizedOperandSegments` or `AttrSizedResultSegments` IRDL option, which require the operation to contain a `operand_segment_sizes` or `result_segment_sizes` attribute, containing the size of the variadic operands, and variadic results."
   ]
  },
  {
   "cell_type": "code",
   "execution_count": 26,
   "id": "4332723c-f9a1-4fdf-a35c-4befe5c0baca",
   "metadata": {},
   "outputs": [
    {
     "name": "stdout",
     "output_type": "stream",
     "text": [
      "Length of add_op2.ops1: 2\n",
      "Length of add_op2.ops2: 1\n"
     ]
    }
   ],
   "source": [
    "from xdsl.irdl import AttrSizedOperandSegments\n",
    "from xdsl.dialects.builtin import VectorType\n",
    "\n",
    "@irdl_op_definition\n",
    "class AddVariadicOp2(Operation):\n",
    "    name: str = \"add_variadic\"\n",
    "    ops1 = VarOperandDef(i32)\n",
    "    ops2 = VarOperandDef(i32)\n",
    "    res = ResultDef(i32)\n",
    "    \n",
    "    irdl_options = [AttrSizedOperandSegments()]\n",
    "    \n",
    "i32_ssa_var = Constant.from_attr(IntegerAttr.from_int_and_width(62, 32), i32)\n",
    "add_op2 = AddVariadicOp2.build(operands=[[i32_ssa_var] * 2, [i32_ssa_var]], result_types=[i32],\n",
    "                               attributes={\"operand_segment_sizes\": VectorType.from_type_and_list(i32, [2, 1])})\n",
    "print(\"Length of add_op2.ops1:\", len(add_op2.ops1))\n",
    "print(\"Length of add_op2.ops2:\", len(add_op2.ops2))"
   ]
  },
  {
   "cell_type": "markdown",
   "id": "15adb230-4c73-4abc-bfcf-f6f90849a05b",
   "metadata": {},
   "source": [
    "In addition to variadic operands and results, IRDL also allows the definition of optional operands and results. Optional operands and results are essentially variadic operands and regions that are constrained to have either 0 or 1 elements. They are defined using `OptOperandDef` and `OptResultDef`, and define accessors returning optional SSA variables."
   ]
  },
  {
   "cell_type": "code",
   "execution_count": 27,
   "id": "d5b6ac6c-d9fd-45ec-9b65-dcf481fe0998",
   "metadata": {
    "scrolled": true
   },
   "outputs": [
    {
     "name": "stdout",
     "output_type": "stream",
     "text": [
      "OpResult(typ=IntegerType(parameters=[IntAttr(data=32)], width=IntAttr(data=32)), num_uses=2, op_name='arith.constant', result_index=0, name=None)\n",
      "None\n"
     ]
    }
   ],
   "source": [
    "from xdsl.irdl import OptOperandDef\n",
    "@irdl_op_definition\n",
    "class AddVariadicOp2(Operation):\n",
    "    name: str = \"add_optional\"\n",
    "    ops1 = OperandDef(i32)\n",
    "    ops2 = OptOperandDef(i32)\n",
    "    res = ResultDef(i32)\n",
    "        \n",
    "i32_ssa_var = Constant.from_attr(IntegerAttr.from_int_and_width(62, 32), i32)\n",
    "add_op3 = AddVariadicOp2.build(operands=[i32_ssa_var, [i32_ssa_var]], result_types=[i32])\n",
    "print(add_op3.ops2)\n",
    "\n",
    "add_op4 = AddVariadicOp2.build(operands=[i32_ssa_var, []], result_types=[i32])\n",
    "print(add_op4.ops2)"
   ]
  },
  {
   "cell_type": "markdown",
   "id": "cb904507-1b52-46d6-ad9d-d700a881f802",
   "metadata": {},
   "source": [
    "### Attributes definition"
   ]
  },
  {
   "cell_type": "markdown",
   "id": "7de1ac6a-b042-42af-bdc3-3d14af56f9e0",
   "metadata": {},
   "source": [
    "Attribute definitions are defined similarly to operands and results, by having `AttributeDef` static fields. The field name correspond to the expected attribute name."
   ]
  },
  {
   "cell_type": "code",
   "execution_count": 28,
   "id": "b287c151-b88a-4432-ab18-015321489ca5",
   "metadata": {},
   "outputs": [
    {
     "name": "stdout",
     "output_type": "stream",
     "text": [
      "string_attr_op() [\"value\" = \"ga\"]\n"
     ]
    }
   ],
   "source": [
    "from xdsl.irdl import AttributeDef\n",
    "\n",
    "@irdl_op_definition\n",
    "class StringAttrOp(Operation):\n",
    "    name: str = \"string_attr_op\"\n",
    "    value = AttributeDef(StringAttr)\n",
    "    \n",
    "my_attr_op = StringAttrOp.build(attributes={\"value\": StringAttr(\"ga\")})\n",
    "my_attr_op.verify()\n",
    "printer.print_op(my_attr_op)"
   ]
  },
  {
   "cell_type": "markdown",
   "id": "8c33132b-5261-4f92-88d7-f6a8c9664d4b",
   "metadata": {},
   "source": [
    "The defined verifier ensures that the attribute is present:"
   ]
  },
  {
   "cell_type": "code",
   "execution_count": 29,
   "id": "4e203237-49bb-42d0-836e-d1f5e459dded",
   "metadata": {},
   "outputs": [
    {
     "name": "stdout",
     "output_type": "stream",
     "text": [
      "attribute value expected\n"
     ]
    }
   ],
   "source": [
    "my_attr_op = StringAttrOp.build()\n",
    "try:\n",
    "    my_attr_op.verify()\n",
    "except Exception as e:\n",
    "    print(e)"
   ]
  },
  {
   "cell_type": "markdown",
   "id": "9a66fc2a-e8ba-4c73-921e-e09c4b811031",
   "metadata": {},
   "source": [
    "And expects that the attribute respect the constraint:"
   ]
  },
  {
   "cell_type": "code",
   "execution_count": 30,
   "id": "f9f6e95e-e073-44d9-983e-256711099630",
   "metadata": {},
   "outputs": [
    {
     "name": "stdout",
     "output_type": "stream",
     "text": [
      "No available StringAttr builders for arguments (IntAttr(data=42),)\n"
     ]
    }
   ],
   "source": [
    "try:\n",
    "    my_attr_op = StringAttrOp.build(attributes={\"value\": IntAttr.from_int(42)})\n",
    "except Exception as e:\n",
    "    print(e)"
   ]
  },
  {
   "cell_type": "markdown",
   "id": "a6405d52-7a33-404b-9679-279cb3cd2ade",
   "metadata": {},
   "source": [
    "Note that contrary to operands and results, other attributes may appear in an operation, even though they are not defined by the operation:my_attr_op = Operation.with_result_types(StringAttrOp, [], [], attributes={\"value\": IntAttr.get(42)})\n"
   ]
  },
  {
   "cell_type": "code",
   "execution_count": 31,
   "id": "d2f414d0-e6c7-4cf1-ba45-3577059a1c45",
   "metadata": {},
   "outputs": [
    {
     "name": "stdout",
     "output_type": "stream",
     "text": [
      "string_attr_op() [\"value\" = \"ga\", \"other_attr\" = !int<42>]\n"
     ]
    }
   ],
   "source": [
    "my_attr_op = StringAttrOp.build(attributes={\"value\": StringAttr(\"ga\"), \"other_attr\": IntAttr.from_int(42)})\n",
    "my_attr_op.verify()\n",
    "printer.print_op(my_attr_op)"
   ]
  },
  {
   "cell_type": "markdown",
   "id": "7eb980b1-4e2f-4f61-9fa3-a732961d9501",
   "metadata": {},
   "source": [
    "### Regions"
   ]
  },
  {
   "cell_type": "markdown",
   "id": "e37a1601-721b-4cad-82a5-817946851640",
   "metadata": {},
   "source": [
    "Regions definitions are defined using `RegionDef` or `SingleBlockRegionDef`. The second definition constrains the region to contain a single block, and both definitions allows to further constraint the region by giving a constraint for the entry basic block parameters."
   ]
  },
  {
   "cell_type": "code",
   "execution_count": 32,
   "id": "613a0d64-acff-4179-ade4-6408d79047e1",
   "metadata": {},
   "outputs": [
    {
     "name": "stdout",
     "output_type": "stream",
     "text": [
      "while_op() {\n",
      "^0(%4 : !i32):\n",
      "}\n"
     ]
    }
   ],
   "source": [
    "from xdsl.irdl import RegionDef, Region, Block\n",
    "\n",
    "@irdl_op_definition\n",
    "class WhileOp(Operation):\n",
    "    name: str = \"while_op\"\n",
    "    value = RegionDef()\n",
    "    \n",
    "region = Region.from_block_list([Block.from_arg_types([i32])])\n",
    "region_op = WhileOp.build(regions=[region])\n",
    "region_op.verify()\n",
    "printer.print_op(region_op)"
   ]
  },
  {
   "cell_type": "markdown",
   "id": "7ab739d6-d2ca-459d-885b-a44f302b6f11",
   "metadata": {},
   "source": [
    "### Additional verifiers"
   ]
  },
  {
   "cell_type": "markdown",
   "id": "01e5e3ad-5535-4991-a7fc-70c685be57be",
   "metadata": {},
   "source": [
    "`irdl_op_definition` is not expressive enough to define arbitrary constraints, especially for constraints spanning over multiple operand and result definitions. To circumvent that, definitions may define a `verify_` method that will be called in the generated verifier:"
   ]
  },
  {
   "cell_type": "code",
   "execution_count": 33,
   "id": "d049cf48-cbc9-48a7-a1d8-4da1e04790c1",
   "metadata": {},
   "outputs": [
    {
     "name": "stdout",
     "output_type": "stream",
     "text": [
      "expect all input and result types to be equal\n"
     ]
    }
   ],
   "source": [
    "from xdsl.dialects.builtin import IntegerType\n",
    "from xdsl.dialects.arith import Addi\n",
    "\n",
    "@irdl_op_definition\n",
    "class MyAddi(Operation):\n",
    "    name: str = \"std.addi\"\n",
    "    input1 = OperandDef(IntegerType)\n",
    "    input2 = OperandDef(IntegerType)\n",
    "    output = ResultDef(IntegerType)\n",
    "\n",
    "    # Ensure that the inputs and outputs have the same type:\n",
    "    def verify_(self) -> None:\n",
    "        if self.input1.typ != self.input2.typ or self.input2.typ != self.output.typ:\n",
    "            raise Exception(\"expect all input and output types to be equal\")\n",
    "\n",
    "i32_ssa_var = Constant.from_attr(IntegerAttr.from_int_and_width(62, 32), i32)\n",
    "add_op = Addi.build(operands=[i32_ssa_var, i32_ssa_var], result_types=[i32])\n",
    "# This will pass, since all operands and results have the same type\n",
    "add_op.verify()\n",
    "\n",
    "# This will raise an error, since the result has a different type than the operands\n",
    "bad_add_op = Addi.build(operands=[i32_ssa_var, i32_ssa_var], result_types=[i64])\n",
    "try:\n",
    "    bad_add_op.verify()\n",
    "except Exception as e:\n",
    "    print(e)"
   ]
  },
  {
   "cell_type": "code",
   "execution_count": null,
   "id": "b642c3a6",
   "metadata": {},
   "outputs": [],
   "source": []
  }
 ],
 "metadata": {
  "kernelspec": {
   "display_name": "Python 3 (ipykernel)",
   "language": "python",
   "name": "python3"
  },
  "language_info": {
   "codemirror_mode": {
    "name": "ipython",
    "version": 3
   },
   "file_extension": ".py",
   "mimetype": "text/x-python",
   "name": "python",
   "nbconvert_exporter": "python",
   "pygments_lexer": "ipython3",
   "version": "3.10.6"
  }
 },
 "nbformat": 4,
 "nbformat_minor": 5
}
