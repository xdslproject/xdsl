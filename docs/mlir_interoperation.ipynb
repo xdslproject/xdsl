{
 "cells": [
  {
   "attachments": {},
   "cell_type": "markdown",
   "id": "478e8ef4-f3a7-4aec-b1f6-ffa60aa88697",
   "metadata": {},
   "source": [
    "# xDSL-MLIR interoperation tutorial\n",
    "\n",
    "This tutorial aims to showcase a simple pipeline of actions to unlock MLIR optimisations when lowering from xDSL.\n",
    "This tutorial can help users getting familiar with the xDSL-MLIR interoperation. We will start from a higher level of xDSL abstraction, lower to MLIR generic format, apply an optimisation and the return to xDSL-land."
   ]
  },
  {
   "attachments": {},
   "cell_type": "markdown",
   "id": "a3721339-9b8d-4743-b5da-e920f9afd3e9",
   "metadata": {
    "tags": []
   },
   "source": [
    "# Problem setup\n",
    "\n",
    "We start by writing a simple example consisting of adding integers. \n",
    "We are writing this example using constructs that are supported in xDSL.\n",
    "\n",
    "We create 4 integers, namely a, b, c, d.\n",
    "Then we just accumulate by the simple following pseudocode and print the result:\n",
    "\n",
    "\n",
    "```bash\n",
    "a = 1\n",
    "b = 2\n",
    "c = a + b\n",
    "d = a + b\n",
    "e = c + d\n",
    "print(e)\n",
    "```\n"
   ]
  },
  {
   "cell_type": "code",
   "execution_count": 1,
   "id": "e86541f5-af35-4c73-9a8c-4c43e7d365d6",
   "metadata": {},
   "outputs": [],
   "source": [
    "from xdsl.dialects.arith import Addi, Constant\n",
    "from xdsl.dialects.builtin import i32, ModuleOp, IntegerAttr\n",
    "from xdsl.dialects.vector import Print\n",
    "from xdsl.ir import Region, Block\n",
    "\n",
    "# Define two integer constants\n",
    "a = Constant(IntegerAttr.from_int_and_width(1, 32), i32)\n",
    "b = Constant(IntegerAttr.from_int_and_width(2, 32), i32)\n",
    "\n",
    "# Operations on these constants\n",
    "c = Addi(a, b)\n",
    "d = Addi(a, b)\n",
    "e = Addi(c, d)\n",
    "f = Print.get(e)\n",
    "\n",
    "# Create Block from operations and Region from blocks\n",
    "block0 = Block([a, b, c, d, e, f])\n",
    "region0 = Region(block0)\n",
    "\n",
    "# Create an Operation from the region\n",
    "op = ModuleOp(region0)"
   ]
  },
  {
   "attachments": {},
   "cell_type": "markdown",
   "id": "849b8140",
   "metadata": {},
   "source": [
    "Using xDSLs printer we can print this operation.\n",
    "For convenience we provide a file called `source.mlir` with the code printed below"
   ]
  },
  {
   "cell_type": "code",
   "execution_count": 2,
   "id": "2f2287be",
   "metadata": {},
   "outputs": [
    {
     "name": "stdout",
     "output_type": "stream",
     "text": [
      "builtin.module {\n",
      "  %0 = arith.constant 1 : i32\n",
      "  %1 = arith.constant 2 : i32\n",
      "  %2 = arith.addi %0, %1 : i32\n",
      "  %3 = arith.addi %0, %1 : i32\n",
      "  %4 = arith.addi %2, %3 : i32\n",
      "  \"vector.print\"(%4) : (i32) -> ()\n",
      "}\n"
     ]
    }
   ],
   "source": [
    "from xdsl.printer import Printer\n",
    "\n",
    "# Print in xdsl format\n",
    "printer = Printer()\n",
    "printer.print(op)"
   ]
  },
  {
   "cell_type": "code",
   "execution_count": 3,
   "id": "5a57ade0",
   "metadata": {},
   "outputs": [
    {
     "name": "stdout",
     "output_type": "stream",
     "text": [
      "\"builtin.module\"() ({\r\n",
      "  %0 = \"arith.constant\"() {value = 1 : i32} : () -> i32\r\n",
      "  %1 = \"arith.constant\"() {value = 2 : i32} : () -> i32\r\n",
      "  %2 = \"arith.addi\"(%0, %1) : (i32, i32) -> i32\r\n",
      "  %3 = \"arith.addi\"(%0, %1) : (i32, i32) -> i32\r\n",
      "  %4 = \"arith.addi\"(%2, %3) : (i32, i32) -> i32\r\n",
      "}) : () -> ()\r\n"
     ]
    }
   ],
   "source": [
    "# Cross-check file content\n",
    "!cat source.mlir"
   ]
  },
  {
   "attachments": {},
   "cell_type": "markdown",
   "id": "1169fa3e",
   "metadata": {},
   "source": [
    "Now lets try to benefit from some mlir optimisation.\n",
    "For this example we will use the [Common subexpression elimination](https://en.wikipedia.org/wiki/Common_subexpression_elimination).\n",
    "\n",
    "See some documentation here: [mlir.llvm CSE docs](https://mlir.llvm.org/docs/Passes/#-cse-eliminate-common-sub-expressions)"
   ]
  },
  {
   "attachments": {},
   "cell_type": "markdown",
   "id": "f1270219-eeeb-4687-81e5-cce88afcb901",
   "metadata": {},
   "source": [
    "Assuming you have already mlir-opt installed in your machine you can apply the CSE optimisation using the folloing command:"
   ]
  },
  {
   "cell_type": "code",
   "execution_count": 4,
   "id": "142e0fa2",
   "metadata": {},
   "outputs": [
    {
     "name": "stdout",
     "output_type": "stream",
     "text": [
      "\"builtin.module\"() ({\r\n",
      "  %0 = \"arith.constant\"() <{value = 1 : i32}> : () -> i32\r\n",
      "  %1 = \"arith.constant\"() <{value = 2 : i32}> : () -> i32\r\n",
      "  %2 = \"arith.addi\"(%0, %1) : (i32, i32) -> i32\r\n",
      "}) : () -> ()\r\n",
      "\r\n"
     ]
    }
   ],
   "source": [
    "!mlir-opt source.mlir -cse --mlir-print-op-generic -o opt-out.mlir\n",
    "!cat opt-out.mlir"
   ]
  },
  {
   "attachments": {},
   "cell_type": "markdown",
   "id": "ce39e1f4-3a54-463d-b2eb-d4fb4f7a6133",
   "metadata": {
    "tags": []
   },
   "source": [
    "We can clearly see in the optimised output that after CSE we do not need to calculate:\n",
    "\n",
    "```\n",
    "\"arith.addi\"(%0, %1) : (i32, i32) -> i32\n",
    "```\n",
    "\n",
    "twice! Now can we back to xDSL? Yes we can!"
   ]
  },
  {
   "cell_type": "code",
   "execution_count": 5,
   "id": "b228d9e4",
   "metadata": {},
   "outputs": [
    {
     "name": "stdout",
     "output_type": "stream",
     "text": [
      "builtin.module {\r\n",
      "  %0 = arith.constant 1 : i32\r\n",
      "  %1 = arith.constant 2 : i32\r\n",
      "  %2 = arith.addi %0, %1 : i32\r\n",
      "}\r\n",
      "\r\n"
     ]
    }
   ],
   "source": [
    "!./../xdsl/tools/xdsl-opt opt-out.mlir -f mlir -t mlir -o ret.mlir\n",
    "!cat ret.mlir"
   ]
  },
  {
   "cell_type": "code",
   "execution_count": null,
   "id": "f9f9a625",
   "metadata": {},
   "outputs": [],
   "source": []
  }
 ],
 "metadata": {
  "language_info": {
   "name": "python"
  }
 },
 "nbformat": 4,
 "nbformat_minor": 5
}
