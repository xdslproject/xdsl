{
 "cells": [
  {
   "cell_type": "code",
   "execution_count": 1,
   "metadata": {},
   "outputs": [],
   "source": [
    "from pathlib import Path\n",
    "\n",
    "DIR = Path.home() / \"Desktop\" / \"xdsl_jit\""
   ]
  },
  {
   "cell_type": "markdown",
   "metadata": {},
   "source": [
    " - hash name\n",
    " - get python types from function type\n",
    " - add a compile function that takes (name, input types, output types) and returns a callable"
   ]
  },
  {
   "cell_type": "code",
   "execution_count": 2,
   "metadata": {},
   "outputs": [
    {
     "data": {
      "text/plain": [
       "'builtin.module {\\n  func.func @hello(%0 : i64, %1 : i64) -> i64 {\\n    %2 = arith.addi %0, %1 : i64\\n    func.return %2 : i64\\n  }\\n  func.func @dist(%3 : memref<100xf64>, %4 : memref<100xf64>) -> i64 {\\n    %5 = arith.constant 1 : i64\\n    func.return %5 : i64\\n  }\\n}'"
      ]
     },
     "execution_count": 2,
     "metadata": {},
     "output_type": "execute_result"
    }
   ],
   "source": [
    "from xdsl.builder import ImplicitBuilder\n",
    "\n",
    "from xdsl.dialects import func, arith, memref\n",
    "from xdsl.dialects.builtin import ModuleOp, i64, f64\n",
    "\n",
    "\n",
    "def get_module() -> ModuleOp:\n",
    "    memref_t = memref.MemRefType.from_element_type_and_shape(f64, [100])\n",
    "    module = ModuleOp([])\n",
    "    with ImplicitBuilder(module.body):\n",
    "        f = func.FuncOp(\"hello\", ((i64, i64), (i64,)))\n",
    "        with ImplicitBuilder(f.body) as (lhs, rhs):\n",
    "            res = arith.Addi(lhs, rhs).result\n",
    "            func.Return(res)\n",
    "\n",
    "        g = func.FuncOp(\"dist\", ((memref_t, memref_t), (i64,)))\n",
    "        with ImplicitBuilder(g.body) as (lhs, rhs):\n",
    "            res = arith.Constant.from_int_and_width(1, 64)\n",
    "            func.Return(res)\n",
    "\n",
    "    return module\n",
    "\n",
    "str(get_module())"
   ]
  },
  {
   "cell_type": "code",
   "execution_count": 5,
   "metadata": {},
   "outputs": [
    {
     "data": {
      "text/plain": [
       "11"
      ]
     },
     "execution_count": 5,
     "metadata": {},
     "output_type": "execute_result"
    }
   ],
   "source": [
    "from xdsl.jit import jit_module\n",
    "\n",
    "hey = jit_module(get_module(), \"hello\", c_types=((int, int), int))\n",
    "dist_mlir = jit_module(get_module(), \"dist\", c_types=((int, int), int))\n",
    "hey(5,6)"
   ]
  },
  {
   "cell_type": "code",
   "execution_count": 6,
   "metadata": {},
   "outputs": [
    {
     "data": {
      "text/plain": [
       "1"
      ]
     },
     "execution_count": 6,
     "metadata": {},
     "output_type": "execute_result"
    }
   ],
   "source": [
    "dist_mlir(1, 2)"
   ]
  },
  {
   "cell_type": "code",
   "execution_count": null,
   "metadata": {},
   "outputs": [],
   "source": [
    "%time hey(5, 6)"
   ]
  },
  {
   "cell_type": "code",
   "execution_count": null,
   "metadata": {},
   "outputs": [],
   "source": [
    "%time 1 + 2"
   ]
  },
  {
   "cell_type": "code",
   "execution_count": null,
   "metadata": {},
   "outputs": [],
   "source": [
    "import numpy as np"
   ]
  },
  {
   "cell_type": "code",
   "execution_count": null,
   "metadata": {},
   "outputs": [],
   "source": [
    "from typing import Any\n",
    "\n",
    "\n",
    "def dist_np(lhs: np.ndarray[Any, np.dtype[np.float64]], rhs: np.ndarray[Any, np.dtype[np.float64]]) -> np.float64:\n",
    "    diff = lhs - rhs\n",
    "    res = np.linalg.norm(diff)\n",
    "    return res\n"
   ]
  },
  {
   "cell_type": "code",
   "execution_count": null,
   "metadata": {},
   "outputs": [],
   "source": [
    "n = 100\n",
    "a = np.random.random(n)\n",
    "b = np.random.random(n)"
   ]
  },
  {
   "cell_type": "code",
   "execution_count": null,
   "metadata": {},
   "outputs": [],
   "source": [
    "dist_np(a, b)"
   ]
  },
  {
   "cell_type": "code",
   "execution_count": null,
   "metadata": {},
   "outputs": [],
   "source": []
  }
 ],
 "metadata": {
  "kernelspec": {
   "display_name": "venv",
   "language": "python",
   "name": "venv"
  },
  "language_info": {
   "codemirror_mode": {
    "name": "ipython",
    "version": 3
   },
   "file_extension": ".py",
   "mimetype": "text/x-python",
   "name": "python",
   "nbconvert_exporter": "python",
   "pygments_lexer": "ipython3",
   "version": "3.11.4"
  },
  "orig_nbformat": 4
 },
 "nbformat": 4,
 "nbformat_minor": 2
}
