{
 "cells": [
  {
   "cell_type": "markdown",
   "id": "478e8ef4-f3a7-4aec-b1f6-ffa60aa88697",
   "metadata": {},
   "source": [
    "# IRDL tutorial"
   ]
  },
  {
   "cell_type": "markdown",
   "id": "a3721339-9b8d-4743-b5da-e920f9afd3e9",
   "metadata": {
    "tags": []
   },
   "source": [
    "## Imports and setup"
   ]
  },
  {
   "cell_type": "code",
   "execution_count": 1,
   "id": "e86541f5-af35-4c73-9a8c-4c43e7d365d6",
   "metadata": {},
   "outputs": [],
   "source": [
    "from xdsl import *\n",
    "from xdsl.ir import *\n",
    "from xdsl.irdl import *\n",
    "from xdsl.dialects.std import *\n",
    "from xdsl.dialects.builtin import *\n",
    "from xdsl.parser import *\n",
    "from xdsl.printer import *\n",
    "from xdsl.util import *\n",
    "\n",
    "# MLContext, containing information about the registered dialects\n",
    "context = MLContext()\n",
    "\n",
    "# Some useful dialects\n",
    "std = Std(context)\n",
    "builtin = Builtin(context)\n",
    "\n",
    "# Printer used to pretty-print MLIR data structures\n",
    "printer = Printer()"
   ]
  },
  {
   "cell_type": "markdown",
   "id": "630defa6-2b4c-43b2-9899-1ed866a633b1",
   "metadata": {},
   "source": [
    "## Introduction"
   ]
  },
  {
   "cell_type": "markdown",
   "id": "7a4da2b9-b24e-4dd4-93d9-7c54db3e207c",
   "metadata": {},
   "source": [
    "xDSL is an extensible compiler, meaning that new operations, attributes, and types can be added. xDSL provides an embedded DSL, IRDL, to define new dialects.\n",
    "This tutorial shows the different features IRDL has, and presents examples on how to use them."
   ]
  },
  {
   "cell_type": "markdown",
   "id": "bd9c575b-b51d-4451-a5e0-0de47f0d1411",
   "metadata": {
    "tags": []
   },
   "source": [
    "## Attribute constraints"
   ]
  },
  {
   "cell_type": "markdown",
   "id": "e07dc6be-675f-4f58-ad69-02c405c9fb91",
   "metadata": {},
   "source": [
    "Attribute constraints represent invariants over attributes, and are an important concept for defining new attributes and operations. In practice, an attribute constraint is a child class of `AttrConstraint` that implements a `verify` method. The method takes an attribute as parameter, and raises an exception if the invariant is not respected."
   ]
  },
  {
   "cell_type": "markdown",
   "id": "bb2a2b09-bd9f-4c01-a5ab-ab8341452282",
   "metadata": {},
   "source": [
    "### Any constraint"
   ]
  },
  {
   "cell_type": "markdown",
   "id": "86c02455-3c79-4402-a3c9-877c8c59df86",
   "metadata": {},
   "source": [
    "An `Any` constraint will never trigger an exception, and will always pass:"
   ]
  },
  {
   "cell_type": "code",
   "execution_count": 2,
   "id": "c7d62f32-c833-49c1-a249-4541aea3538f",
   "metadata": {},
   "outputs": [],
   "source": [
    "# Construct the constraint\n",
    "any_constraint = AnyAttr()\n",
    "\n",
    "# This will pass without triggering an exception\n",
    "any_constraint.verify(std.i64)\n",
    "any_constraint.verify(StringAttr(\"ga\"))"
   ]
  },
  {
   "cell_type": "markdown",
   "id": "3690d402-15ee-4140-9c2f-78e7804c88bf",
   "metadata": {},
   "source": [
    "### Equality constraint"
   ]
  },
  {
   "cell_type": "markdown",
   "id": "e6c3e74b-f28f-4ae2-8adf-bba9fbd019c7",
   "metadata": {},
   "source": [
    "An equality constraint ensures that the attribute is equal to one provided to the constraint:"
   ]
  },
  {
   "cell_type": "code",
   "execution_count": 3,
   "id": "a2d038c3-ed11-4f8c-b58a-e9eb82702c51",
   "metadata": {},
   "outputs": [
    {
     "name": "stdout",
     "output_type": "stream",
     "text": [
      "Expected attribute IntegerType(name='integer_type', parameters=[IntAttr(name='int', data=64)]) but got IntegerType(name='integer_type', parameters=[IntAttr(name='int', data=32)])\n"
     ]
    }
   ],
   "source": [
    "# Construct the constraint\n",
    "eq_constraint = EqAttrConstraint(std.i64)\n",
    "\n",
    "# This will pass without triggering an exception\n",
    "eq_constraint.verify(std.i64)\n",
    "\n",
    "# This will trigger an exception\n",
    "try:\n",
    "    eq_constraint.verify(std.i32)\n",
    "except Exception as e:\n",
    "    print(e)"
   ]
  },
  {
   "cell_type": "markdown",
   "id": "bb7acb86-6492-4c95-9242-a7d577532526",
   "metadata": {},
   "source": [
    "### Base attribute constraint"
   ]
  },
  {
   "cell_type": "markdown",
   "id": "7308a09f-8ff3-4a55-ae72-4392e5a7c328",
   "metadata": {},
   "source": [
    "A base attribute constraint ensures that the attribute base type is equal to an expected attribute base type:"
   ]
  },
  {
   "cell_type": "code",
   "execution_count": 4,
   "id": "4f03f9d1-b0ee-4d9a-b815-a1a098a28e30",
   "metadata": {},
   "outputs": [
    {
     "name": "stdout",
     "output_type": "stream",
     "text": [
      "IntegerType(name='integer_type', parameters=[IntAttr(name='int', data=32)]) should be of base attribute string\n",
      "IntAttr(name='int', data=3) should be of base attribute string\n"
     ]
    }
   ],
   "source": [
    "# Construct the constraint\n",
    "base_constraint = BaseAttr(StringAttr)\n",
    "\n",
    "# This will pass without triggering an exception\n",
    "base_constraint.verify(StringAttr.get(\"ga\"))\n",
    "base_constraint.verify(StringAttr.get(\"bu\"))\n",
    "\n",
    "# This will trigger an exception\n",
    "try:\n",
    "    base_constraint.verify(std.i32)\n",
    "except Exception as e:\n",
    "    print(e)\n",
    "\n",
    "# This too\n",
    "try:\n",
    "    base_constraint.verify(IntAttr.get(3))\n",
    "except Exception as e:\n",
    "    print(e)"
   ]
  },
  {
   "cell_type": "markdown",
   "id": "a12027b7-e014-4b39-8893-76fa557be6bd",
   "metadata": {},
   "source": [
    "### Attribute constraint coercion"
   ]
  },
  {
   "cell_type": "markdown",
   "id": "29f6ec74-2c13-4c65-9128-887126fd3877",
   "metadata": {},
   "source": [
    "To simplify the definitions of constraints, constraint constructors expecting an attribute constraints will coerce `Attribute` to an equality attribute constraint, and will coerce an `Attribute` type to a base attribute constraint. this is done using the `attr_constr_coercion` function:"
   ]
  },
  {
   "cell_type": "code",
   "execution_count": 5,
   "id": "1d9defd0-0331-48f8-bc54-f9013a5013d9",
   "metadata": {},
   "outputs": [],
   "source": [
    "assert attr_constr_coercion(std.i32) == EqAttrConstraint(std.i32)\n",
    "assert attr_constr_coercion(StringAttr) == BaseAttr(StringAttr)\n",
    "assert AnyOf([std.i32, StringAttr]) == AnyOf([EqAttrConstraint(std.i32), BaseAttr(StringAttr)])"
   ]
  },
  {
   "cell_type": "markdown",
   "id": "e03951f5-a2cf-4194-bac9-0b56f3acfd88",
   "metadata": {},
   "source": [
    "### Or constraint"
   ]
  },
  {
   "cell_type": "markdown",
   "id": "a34861a3-c430-4754-aeb8-b64a7ca3290c",
   "metadata": {},
   "source": [
    "An or constraint ensures that one of the given attribute constraints is satisfied by the attribute:"
   ]
  },
  {
   "cell_type": "code",
   "execution_count": 6,
   "id": "9e802669-d46e-4b1e-bb4e-878cba4f96e2",
   "metadata": {},
   "outputs": [
    {
     "name": "stdout",
     "output_type": "stream",
     "text": [
      "Unexpected attribute IntegerType(name='integer_type', parameters=[IntAttr(name='int', data=64)])\n"
     ]
    }
   ],
   "source": [
    "# Construct the constraint. Note that we are using the coercion defined previously.\n",
    "or_constraint = AnyOf([std.i32, StringAttr])\n",
    "\n",
    "# This will pass without triggering an exception, since the first constraint is satisfied\n",
    "or_constraint.verify(std.i32)\n",
    "\n",
    "# This will pass without triggering an exception, since the second constraint is satisfied\n",
    "or_constraint.verify(StringAttr.get(\"ga\"))\n",
    "or_constraint.verify(StringAttr.get(\"bu\"))\n",
    "\n",
    "# This will trigger an exception, since none of the constraints are satisfied\n",
    "try:\n",
    "    or_constraint.verify(std.i64)\n",
    "except Exception as e:\n",
    "    print(e)"
   ]
  },
  {
   "cell_type": "markdown",
   "id": "ddf32e93-2f9c-4bb1-9ad2-92b837857e4e",
   "metadata": {},
   "source": [
    "### Parametric attribute constraint"
   ]
  },
  {
   "cell_type": "markdown",
   "id": "20582ded-74d6-470a-bf32-ed5552c0a1ff",
   "metadata": {},
   "source": [
    "A parametric attribute constraint are satisfied by parametric attributes of a certain base type. In addition, parametric attribute constraints specify constraints for each of the parameters of the attribute:"
   ]
  },
  {
   "cell_type": "code",
   "execution_count": 7,
   "id": "33220496-b3fd-4c8d-9a19-0648d65db2b3",
   "metadata": {},
   "outputs": [
    {
     "name": "stdout",
     "output_type": "stream",
     "text": [
      "Base attribute integer expected, but got integer_type\n"
     ]
    }
   ],
   "source": [
    "# Construct the constraint. Note that we are using the coercion defined previously.\n",
    "param_constraint = ParamAttrConstraint(IntegerAttr, [IntAttr, std.i32])\n",
    "\n",
    "# This will pass without triggering an exception.\n",
    "param_constraint.verify(IntegerAttr([IntAttr.get(42), std.i32]))\n",
    "param_constraint.verify(IntegerAttr([IntAttr.get(23), std.i32]))\n",
    "\n",
    "# This will trigger an exception, since the attribute type is not the expected one\n",
    "try:\n",
    "    param_constraint.verify(std.i64)\n",
    "except Exception as e:\n",
    "    print(e)\n",
    "\n",
    "# This will trigger an exception, since the second parameter constraint is not satisfied\n",
    "try:\n",
    "    param_constraint.verify(IntegerAttr([IntAttr.get(42), std.i64]))\n",
    "except Exception as e:\n",
    "    print(e)"
   ]
  },
  {
   "cell_type": "markdown",
   "id": "f9233aad-393e-41b4-916c-244f25bf019f",
   "metadata": {},
   "source": [
    "### Custom constraints"
   ]
  },
  {
   "cell_type": "markdown",
   "id": "f063d28d-b43e-461c-adff-0f81516a742d",
   "metadata": {},
   "source": [
    "Users can define their own constraints for their own types. For instance, here is the definition of the `ArrayOfConstraint` constraint, which expects an `ArrayAttr` where all elements of the array satisfy a specific constraint:"
   ]
  },
  {
   "cell_type": "code",
   "execution_count": 8,
   "id": "8ebf07e0-38b5-4152-9848-2b358667d8df",
   "metadata": {},
   "outputs": [
    {
     "name": "stdout",
     "output_type": "stream",
     "text": [
      "expected attribute ArrayData but got IntegerType(name='integer_type', parameters=[IntAttr(name='int', data=32)])\n",
      "StringAttr(name='string', data='ga') should be of base attribute int\n"
     ]
    }
   ],
   "source": [
    "@dataclass\n",
    "class ArrayOfConstraint(AttrConstraint):\n",
    "    # The constraint that needs to be satisfied by all elements of the array\n",
    "    elem_constr: AttrConstraint\n",
    "\n",
    "    # The custom init applies the attribute constraint coercion\n",
    "    def __init__(self, constr: Union[Attribute, typing.Type[Attribute],\n",
    "                                     AttrConstraint]):\n",
    "        self.elem_constr = attr_constr_coercion(constr)\n",
    "\n",
    "    # Check that an attribute satisfies the constraints\n",
    "    def verify(self, attr: Attribute) -> None:\n",
    "        # We first check that the attribute is an ArrayAttr\n",
    "        if not isinstance(attr, ArrayAttr):\n",
    "            raise Exception(f\"expected attribute ArrayData but got {attr}\")\n",
    "\n",
    "        # We check the constraint for all elements in the array\n",
    "        for e in attr.data:\n",
    "            self.elem_constr.verify(e)\n",
    "\n",
    "array_constraint = ArrayOfConstraint(IntAttr)\n",
    "\n",
    "# This will pass without triggering an exception\n",
    "array_constraint.verify(ArrayAttr.get([IntAttr.get(42)]))\n",
    "array_constraint.verify(ArrayAttr.get([IntAttr.get(3), IntAttr.get(7)]))\n",
    "\n",
    "# This will trigger an exception, since the attribute is not an array\n",
    "try:\n",
    "    array_constraint.verify(std.i32)\n",
    "except Exception as e:\n",
    "    print(e)\n",
    "    \n",
    "# This will trigger an exception, since the array contains attribute that do not satisfies the constraint\n",
    "try:\n",
    "    array_constraint.verify(ArrayAttr.get([IntAttr.get(42), StringAttr.get(\"ga\")]))\n",
    "except Exception as e:\n",
    "    print(e)"
   ]
  },
  {
   "cell_type": "markdown",
   "id": "de5e5ec0-4c98-40bf-8b4b-2ab94cc147ee",
   "metadata": {},
   "source": [
    "## Attribute definition"
   ]
  },
  {
   "cell_type": "markdown",
   "id": "4d637a54-9dad-4066-81ab-f1cea122b228",
   "metadata": {},
   "source": [
    "### Data attributes"
   ]
  },
  {
   "cell_type": "markdown",
   "id": "2e9701dd-9a7a-4baf-a120-565deb3fb075",
   "metadata": {},
   "source": [
    "`Data` attribute types are defined by inheriting the python `Data` class. Each data attribute definition should define a `name`, and two methods for conversion to a string representation. Here is for example the definition of `IntAttr`:"
   ]
  },
  {
   "cell_type": "code",
   "execution_count": 9,
   "id": "13259d0e-c190-4147-abda-9c10a6bfb7f8",
   "metadata": {},
   "outputs": [
    {
     "name": "stdout",
     "output_type": "stream",
     "text": [
      "!my_int<3>"
     ]
    }
   ],
   "source": [
    "@dataclass(frozen=True)\n",
    "class MyIntAttr(Data):\n",
    "    name = \"my_int\"\n",
    "    data: int\n",
    "\n",
    "    # parser is of type parser.Parser\n",
    "    @staticmethod\n",
    "    def parse(parser: Any) -> 'IntAttr':\n",
    "        data = parser.parse_int_literal()\n",
    "        return IntAttr(data)\n",
    "\n",
    "    # printer is of type printer.Printer\n",
    "    def print(self, printer) -> None:\n",
    "        printer.print_string(f'{self.data}')\n",
    "        \n",
    "printer.print_attribute(MyIntAttr(3))"
   ]
  },
  {
   "cell_type": "markdown",
   "id": "df9f9af5-1834-4b1a-ab13-9e72ed743228",
   "metadata": {},
   "source": [
    "### Parametrized attributes"
   ]
  },
  {
   "cell_type": "markdown",
   "id": "aeca18e8-8bda-4c72-87bd-6f7fd4c86aa8",
   "metadata": {},
   "source": [
    "`ParametrizedAttribute` attribute types are defined using the `irdl_attr_definition` decorator on a class. Such class should contain a `name` field specifying the attribute name. Parameters are added to attribute definitions by defining fields containing a `ParameterDef`. The field names correspond to the parameter names, and `ParameterDef` contains a constraint that should be respected by this parameter. The order of the fields correspond to the order of the parameters when using the attribute. Upon construction of an attribute, all constraints will be checked, and an exception will be raised if the invariants are not satisfied.\n",
    "\n",
    "Here is an example of an integer type definition:"
   ]
  },
  {
   "cell_type": "code",
   "execution_count": 10,
   "id": "28c4be91-416b-4937-87ce-d5c3b0ceeceb",
   "metadata": {},
   "outputs": [
    {
     "name": "stdout",
     "output_type": "stream",
     "text": [
      "1 parameters expected, got 2\n",
      "StringAttr(name='string', data='ga') should be of base attribute int\n"
     ]
    }
   ],
   "source": [
    "# Represent an integer type with a given bitwidth\n",
    "@irdl_attr_definition\n",
    "class MyIntegerType:\n",
    "    # Name of the type. This is used for printing and parsing.\n",
    "    name = \"integer_type\"\n",
    "\n",
    "    # Only parameter of the type, with an `EqAttrConstraint` constraint.\n",
    "    # Note the use of the attribute constraint coercion.\n",
    "    width = ParameterDef(IntAttr)\n",
    "\n",
    "my_i32 = MyIntegerType([IntAttr.get(32)])\n",
    "\n",
    "# This will trigger an exception, since the attribute only expect a single attribute\n",
    "try:\n",
    "    MyIntegerType([IntAttr.get(32), IntAttr.get(64)])\n",
    "except Exception as e:\n",
    "    print(e)\n",
    "    \n",
    "# This will trigger an exception, since the attribute is not an IntAttr\n",
    "try:\n",
    "    MyIntegerType([StringAttr.get(\"ga\")])\n",
    "except Exception as e:\n",
    "    print(e)"
   ]
  },
  {
   "cell_type": "markdown",
   "id": "0a56daa9-8e13-4739-aac0-197c0e1c84c1",
   "metadata": {},
   "source": [
    "Each parameter can be accessed using the `parameters` field."
   ]
  },
  {
   "cell_type": "code",
   "execution_count": 11,
   "id": "08126f9c-6b4e-4dbf-8621-3842cf385a20",
   "metadata": {},
   "outputs": [
    {
     "data": {
      "text/plain": [
       "[IntAttr(name='int', data=32)]"
      ]
     },
     "execution_count": 11,
     "metadata": {},
     "output_type": "execute_result"
    }
   ],
   "source": [
    "my_i32.parameters"
   ]
  },
  {
   "cell_type": "markdown",
   "id": "008066a1-0490-496a-b175-f9b5874504ad",
   "metadata": {},
   "source": [
    "Our attribute definition also defines accessors for each parameter based on the name given in the `ParameterDef` field:"
   ]
  },
  {
   "cell_type": "code",
   "execution_count": 12,
   "id": "ee0ef4e9-9180-47c1-991a-cd375c4b5b0c",
   "metadata": {},
   "outputs": [
    {
     "data": {
      "text/plain": [
       "IntAttr(name='int', data=32)"
      ]
     },
     "execution_count": 12,
     "metadata": {},
     "output_type": "execute_result"
    }
   ],
   "source": [
    "my_i32.width"
   ]
  },
  {
   "cell_type": "markdown",
   "id": "d6c01521-96cb-4f84-8513-2879e9214760",
   "metadata": {},
   "source": [
    "## Operation definition"
   ]
  },
  {
   "cell_type": "markdown",
   "id": "97c2f4a9-fce7-4394-b67e-c741e2845659",
   "metadata": {},
   "source": [
    "Operations are defined similarly than `ParametrizedAttribute`, by using the `irdl_op_definition` decorator. The decorator allows the definition of expected operands, results, attributes, and regions. Each definition should contain a `name` static field, which is used for parsing and printing:"
   ]
  },
  {
   "cell_type": "code",
   "execution_count": 13,
   "id": "d39df7e3-5156-4208-b17a-25a0f2e669a9",
   "metadata": {},
   "outputs": [
    {
     "name": "stdout",
     "output_type": "stream",
     "text": [
      "my_dialect.my_op() "
     ]
    }
   ],
   "source": [
    "@irdl_op_definition\n",
    "class MyEmptyOp:\n",
    "    name: str = \"my_dialect.my_op\"\n",
    "    \n",
    "my_op = Operation.with_result_types(MyEmptyOp, [], [])\n",
    "printer.print_op(my_op)"
   ]
  },
  {
   "cell_type": "markdown",
   "id": "d3ce7ed7-7294-4e46-bb54-9a8e479a853a",
   "metadata": {},
   "source": [
    "### Operands and Results"
   ]
  },
  {
   "cell_type": "markdown",
   "id": "27d1c26e-90d7-417c-9e5c-a0d83f9bdc34",
   "metadata": {},
   "source": [
    "Similar to parameters for `ParametrizedAttribute`, operands and results are added using fields containing `OperandDef` and `ResultDef`, which each contain an attribute constraint. The order correspond to the operand and result order, and the constraint applies on the SSA variable type.\n",
    "\n",
    "Here is an example of an operation defining operands and a result:"
   ]
  },
  {
   "cell_type": "code",
   "execution_count": 14,
   "id": "af6242c6-8248-4dc8-8b15-abe71467486e",
   "metadata": {},
   "outputs": [
    {
     "name": "stdout",
     "output_type": "stream",
     "text": [
      "%0 : !i32 = std.constant() [\"value\" = 62 : !i32]\n",
      "%1 : !i32 = std.addi32(%0 : !i32, %0 : !i32) "
     ]
    }
   ],
   "source": [
    "@irdl_op_definition\n",
    "class Addi32:\n",
    "    name: str = \"std.addi32\"\n",
    "    \n",
    "    # Definition of operands and results.\n",
    "    # Note the use of the attribute constraint coercion.\n",
    "    input1 = OperandDef(std.i32)\n",
    "    input2 = OperandDef(std.i32)\n",
    "    output = ResultDef(std.i32)\n",
    "\n",
    "i32_ssa_var = std.constant_from_attr(IntegerAttr.get(62, std.i32), std.i32)\n",
    "my_addi32 = Operation.with_result_types(Addi32, [i32_ssa_var.output, i32_ssa_var.output], [std.i32])\n",
    "printer.print_op(i32_ssa_var)\n",
    "print()\n",
    "printer.print_op(my_addi32)"
   ]
  },
  {
   "cell_type": "markdown",
   "id": "31725694-0720-4d77-bc1c-cf1deab204b4",
   "metadata": {},
   "source": [
    "The operation expects exactly the number of operands and results defined and checks that operands and results satisfies their invariants using the `verify` method."
   ]
  },
  {
   "cell_type": "code",
   "execution_count": 15,
   "id": "03e45032-00f7-4ea3-9a51-1378babf44e4",
   "metadata": {},
   "outputs": [],
   "source": [
    "# This will pass since the invariants are satisfied\n",
    "my_addi32.verify()"
   ]
  },
  {
   "cell_type": "code",
   "execution_count": 16,
   "id": "df6099e6-818a-47d5-bdda-ff0c0ff3701d",
   "metadata": {},
   "outputs": [
    {
     "name": "stdout",
     "output_type": "stream",
     "text": [
      "list index out of range\n"
     ]
    }
   ],
   "source": [
    "# Wrong number of operands\n",
    "bad_addi32 = Operation.with_result_types(Addi32, [i32_ssa_var.output], [std.i32])\n",
    "try:\n",
    "    bad_addi32.verify()\n",
    "except Exception as e:\n",
    "    print(e)"
   ]
  },
  {
   "cell_type": "code",
   "execution_count": 17,
   "id": "0d61e89b-816f-44e3-b70f-884c249d61b0",
   "metadata": {},
   "outputs": [],
   "source": [
    "# Wrong number of results\n",
    "bad_addi32 = Operation.with_result_types(Addi32, [i32_ssa_var.output, i32_ssa_var.output], [std.i32, std.i32])\n",
    "try:\n",
    "    bad_addi32.verify()\n",
    "except Exception as e:\n",
    "    print(e)"
   ]
  },
  {
   "cell_type": "code",
   "execution_count": 18,
   "id": "553dfb18-bfc7-4f43-9f21-521a802cc4cb",
   "metadata": {},
   "outputs": [
    {
     "name": "stdout",
     "output_type": "stream",
     "text": [
      "Expected attribute IntegerType(name='integer_type', parameters=[IntAttr(name='int', data=32)]) but got IntegerType(name='integer_type', parameters=[IntAttr(name='int', data=64)])\n"
     ]
    }
   ],
   "source": [
    "# Wrong result type\n",
    "bad_addi32 = Operation.with_result_types(Addi32, [i32_ssa_var.output, i32_ssa_var.output], [std.i64])\n",
    "try:\n",
    "    bad_addi32.verify()\n",
    "except Exception as e:\n",
    "    print(e)"
   ]
  },
  {
   "cell_type": "markdown",
   "id": "7a768c3c-118a-48f5-8aad-c349a1e3fa12",
   "metadata": {},
   "source": [
    "As with `ParametrizedAttribute`, each operand and result definition defines accessors to easily access operands and results:"
   ]
  },
  {
   "cell_type": "code",
   "execution_count": 19,
   "id": "bded04b6-92c6-46b7-b5d1-12edf54802ba",
   "metadata": {},
   "outputs": [],
   "source": [
    "assert my_addi32.input1 == my_addi32.operands[0]\n",
    "assert my_addi32.input2 == my_addi32.operands[1]\n",
    "assert my_addi32.output == my_addi32.results[0]"
   ]
  },
  {
   "cell_type": "markdown",
   "id": "644060aa-1ef1-416c-bff4-f55a9f5415df",
   "metadata": {
    "tags": []
   },
   "source": [
    "### Variadic operands and results"
   ]
  },
  {
   "cell_type": "markdown",
   "id": "313a1a4f-71fb-4ae9-8a74-b51c1ff0edbd",
   "metadata": {},
   "source": [
    "Operand and result definitions can be defined variadic, meaning that their definition match multiple operands or results. Variadic definitions are defined with `VarOperandDef` and `VarResultDef`."
   ]
  },
  {
   "cell_type": "code",
   "execution_count": 20,
   "id": "a8c649f1-7793-42dd-a7a7-a03b394c30e4",
   "metadata": {},
   "outputs": [
    {
     "name": "stdout",
     "output_type": "stream",
     "text": [
      "%2 : !i32 = std.constant() [\"value\" = 62 : !i32]\n",
      "%3 : !i32 = add_variadic(%2 : !i32, %2 : !i32, %2 : !i32) "
     ]
    }
   ],
   "source": [
    "@irdl_op_definition\n",
    "class AddVariadicOp:\n",
    "    name: str = \"add_variadic\"\n",
    "    ops = VarOperandDef(std.i32)\n",
    "    res = ResultDef(std.i32)\n",
    "    \n",
    "i32_ssa_var = std.constant_from_attr(IntegerAttr.get(62, std.i32), std.i32)\n",
    "add_op = Operation.with_result_types(AddVariadicOp, [i32_ssa_var.output] * 3, [std.i32])\n",
    "printer.print_op(i32_ssa_var)\n",
    "print()\n",
    "printer.print_op(add_op)"
   ]
  },
  {
   "cell_type": "markdown",
   "id": "2397c219-c809-4120-b072-5aa367961a12",
   "metadata": {},
   "source": [
    "Generated accessors return list of SSA variables instead of a single variable:"
   ]
  },
  {
   "cell_type": "code",
   "execution_count": 21,
   "id": "44846ef3-1575-4ac9-b0a4-787d71f9d1a0",
   "metadata": {},
   "outputs": [
    {
     "name": "stdout",
     "output_type": "stream",
     "text": [
      "3\n"
     ]
    }
   ],
   "source": [
    "print(len(add_op.ops))"
   ]
  },
  {
   "cell_type": "markdown",
   "id": "8dd68d72-7bc0-4f4d-852d-b49294f1c5c0",
   "metadata": {},
   "source": [
    "Since it may be ambiguous, it is not possible to simply define two variadic operands, or two variadic results. To do so, the operation definition requires the `AttrSizedOperandSegments` or `AttrSizedResultSegments` IRDL option, which require the operation to contain a `operand_segment_sizes` or `result_segment_sizes` attribute, containing the size of the variadic operands, and variadic results."
   ]
  },
  {
   "cell_type": "code",
   "execution_count": 22,
   "id": "4332723c-f9a1-4fdf-a35c-4befe5c0baca",
   "metadata": {},
   "outputs": [
    {
     "name": "stdout",
     "output_type": "stream",
     "text": [
      "1\n",
      "2\n"
     ]
    }
   ],
   "source": [
    "@irdl_op_definition\n",
    "class AddVariadicOp2:\n",
    "    name: str = \"add_variadic\"\n",
    "    ops1 = VarOperandDef(std.i32)\n",
    "    ops2 = VarOperandDef(std.i32)\n",
    "    res = ResultDef(std.i32)\n",
    "    \n",
    "    irdl_options = [AttrSizedOperandSegments()]\n",
    "    \n",
    "i32_ssa_var = std.constant_from_attr(IntegerAttr.get(62, std.i32), std.i32)\n",
    "add_op2 = Operation.with_result_types(AddVariadicOp2, [i32_ssa_var.output] * 3, [std.i32], attributes={\"operand_segment_sizes\": VectorAttr.get([1, 2])})\n",
    "print(len(add_op2.ops1))\n",
    "print(len(add_op2.ops2))"
   ]
  },
  {
   "cell_type": "markdown",
   "id": "15adb230-4c73-4abc-bfcf-f6f90849a05b",
   "metadata": {},
   "source": [
    "In addition to variadic operands and results, IRDL also allows the definition of optional operands and results. Optional operands and results are essentially variadic operands and regions that are constrained to have either 0 or 1 elements. They are defined using `OptOperandDef` and `OptResultDef`, and define accessors returning optional SSA variables."
   ]
  },
  {
   "cell_type": "code",
   "execution_count": 23,
   "id": "d5b6ac6c-d9fd-45ec-9b65-dcf481fe0998",
   "metadata": {},
   "outputs": [
    {
     "name": "stdout",
     "output_type": "stream",
     "text": [
      "[OpResult(typ=IntegerType(name='integer_type', parameters=[IntAttr(name='int', data=32)]), op=Constant(name='std.constant', operands=[], results=[...], successors=[], attributes={'value': IntegerAttr(name='integer', parameters=[IntAttr(name='int', data=62), IntegerType(name='integer_type', parameters=[IntAttr(name='int', data=32)])])}, regions=[], parent=None), result_index=0)]\n",
      "[]\n"
     ]
    }
   ],
   "source": [
    "@irdl_op_definition\n",
    "class AddVariadicOp2:\n",
    "    name: str = \"add_optional\"\n",
    "    ops1 = OperandDef(std.i32)\n",
    "    ops2 = OptOperandDef(std.i32)\n",
    "    res = ResultDef(std.i32)\n",
    "        \n",
    "i32_ssa_var = std.constant_from_attr(IntegerAttr.get(62, std.i32), std.i32)\n",
    "add_op3 = Operation.with_result_types(AddVariadicOp2, [i32_ssa_var.output] * 2, [std.i32])\n",
    "print(add_op3.ops2)\n",
    "\n",
    "add_op4 = Operation.with_result_types(AddVariadicOp2, [i32_ssa_var.output], [std.i32])\n",
    "print(add_op4.ops2)"
   ]
  },
  {
   "cell_type": "markdown",
   "id": "cb904507-1b52-46d6-ad9d-d700a881f802",
   "metadata": {},
   "source": [
    "### Attributes definition"
   ]
  },
  {
   "cell_type": "markdown",
   "id": "7de1ac6a-b042-42af-bdc3-3d14af56f9e0",
   "metadata": {},
   "source": [
    "Attribute definitions are defined similarly to operands and results, by having `AttributeDef` static fields. The field name correspond to the expected attribute name."
   ]
  },
  {
   "cell_type": "code",
   "execution_count": 24,
   "id": "b287c151-b88a-4432-ab18-015321489ca5",
   "metadata": {},
   "outputs": [
    {
     "name": "stdout",
     "output_type": "stream",
     "text": [
      "string_attr_op() [\"value\" = \"ga\"]"
     ]
    }
   ],
   "source": [
    "@irdl_op_definition\n",
    "class StringAttrOp:\n",
    "    name: str = \"string_attr_op\"\n",
    "    value = AttributeDef(StringAttr)\n",
    "    \n",
    "my_attr_op = Operation.with_result_types(StringAttrOp, [], [], attributes={\"value\": StringAttr.get(\"ga\")})\n",
    "my_attr_op.verify()\n",
    "printer.print_op(my_attr_op)"
   ]
  },
  {
   "cell_type": "markdown",
   "id": "8c33132b-5261-4f92-88d7-f6a8c9664d4b",
   "metadata": {},
   "source": [
    "The defined verifier ensures that the attribute is present:"
   ]
  },
  {
   "cell_type": "code",
   "execution_count": 25,
   "id": "4e203237-49bb-42d0-836e-d1f5e459dded",
   "metadata": {},
   "outputs": [
    {
     "name": "stdout",
     "output_type": "stream",
     "text": [
      "attribute value expected\n"
     ]
    }
   ],
   "source": [
    "my_attr_op = Operation.with_result_types(StringAttrOp, [], [])\n",
    "try:\n",
    "    my_attr_op.verify()\n",
    "except Exception as e:\n",
    "    print(e)"
   ]
  },
  {
   "cell_type": "markdown",
   "id": "9a66fc2a-e8ba-4c73-921e-e09c4b811031",
   "metadata": {},
   "source": [
    "And expects that the attribute respect the constraint:"
   ]
  },
  {
   "cell_type": "code",
   "execution_count": 26,
   "id": "f9f6e95e-e073-44d9-983e-256711099630",
   "metadata": {},
   "outputs": [
    {
     "name": "stdout",
     "output_type": "stream",
     "text": [
      "IntAttr(name='int', data=42) should be of base attribute string\n"
     ]
    }
   ],
   "source": [
    "my_attr_op = Operation.with_result_types(StringAttrOp, [], [], attributes={\"value\": IntAttr.get(42)})\n",
    "\n",
    "try:\n",
    "    my_attr_op.verify()\n",
    "except Exception as e:\n",
    "    print(e)"
   ]
  },
  {
   "cell_type": "markdown",
   "id": "a6405d52-7a33-404b-9679-279cb3cd2ade",
   "metadata": {},
   "source": [
    "Note that contrary to operands and results, other attributes may appear in an operation, even though they are not defined by the operation:my_attr_op = Operation.with_result_types(StringAttrOp, [], [], attributes={\"value\": IntAttr.get(42)})\n"
   ]
  },
  {
   "cell_type": "code",
   "execution_count": 27,
   "id": "d2f414d0-e6c7-4cf1-ba45-3577059a1c45",
   "metadata": {},
   "outputs": [],
   "source": [
    "my_attr_op = Operation.with_result_types(StringAttrOp, [], [], attributes={\"value\": StringAttr.get(\"ga\"), \"other_attr\": IntAttr.get(42)})\n",
    "my_attr_op.verify()"
   ]
  },
  {
   "cell_type": "markdown",
   "id": "7eb980b1-4e2f-4f61-9fa3-a732961d9501",
   "metadata": {},
   "source": [
    "### Regions"
   ]
  },
  {
   "cell_type": "markdown",
   "id": "e37a1601-721b-4cad-82a5-817946851640",
   "metadata": {},
   "source": [
    "Regions definitions are defined using `RegionDef` or `SingleBlockRegionDef`. The second definition constrains the region to contain a single block, and both definitions allows to further constraint the region by giving a constraint for the entry basic block parameters."
   ]
  },
  {
   "cell_type": "code",
   "execution_count": 28,
   "id": "613a0d64-acff-4179-ade4-6408d79047e1",
   "metadata": {},
   "outputs": [
    {
     "name": "stdout",
     "output_type": "stream",
     "text": [
      "while_op() {\n",
      "^0(%4 : !i32): } "
     ]
    }
   ],
   "source": [
    "@irdl_op_definition\n",
    "class WhileOp:\n",
    "    name: str = \"while_op\"\n",
    "    value = RegionDef([std.i32])\n",
    "    \n",
    "region = Region([Block.with_arg_types([std.i32])])\n",
    "region_op = Operation.with_result_types(WhileOp, [], [])\n",
    "region_op.add_region(region)\n",
    "region_op.verify()\n",
    "printer.print_op(region_op)"
   ]
  },
  {
   "cell_type": "markdown",
   "id": "7ab739d6-d2ca-459d-885b-a44f302b6f11",
   "metadata": {},
   "source": [
    "### Additional verifiers"
   ]
  },
  {
   "cell_type": "markdown",
   "id": "01e5e3ad-5535-4991-a7fc-70c685be57be",
   "metadata": {},
   "source": [
    "`irdl_op_definition` is not expressive enough to define arbitrary constraints, especially for constraints spanning over multiple operand and result definitions. To circumveit that, definitions may define a `verify_` method that will be called in the generated verifier:"
   ]
  },
  {
   "cell_type": "code",
   "execution_count": 29,
   "id": "d049cf48-cbc9-48a7-a1d8-4da1e04790c1",
   "metadata": {},
   "outputs": [
    {
     "name": "stdout",
     "output_type": "stream",
     "text": [
      "expect all input and output types to be equal\n"
     ]
    }
   ],
   "source": [
    "@irdl_op_definition\n",
    "class MyAddi:\n",
    "    name: str = \"std.addi\"\n",
    "    input1 = OperandDef(IntegerType)\n",
    "    input2 = OperandDef(IntegerType)\n",
    "    output = ResultDef(IntegerType)\n",
    "\n",
    "    # Ensure that the inputs and outputs have the same type:\n",
    "    def verify_(self) -> None:\n",
    "        if self.input1.typ != self.input2.typ or self.input2.typ != self.output.typ:\n",
    "            raise Exception(\"expect all input and output types to be equal\")\n",
    "\n",
    "i32_ssa_var = std.constant_from_attr(IntegerAttr.get(62, std.i32), std.i32)\n",
    "add_op = Operation.with_result_types(Addi, [i32_ssa_var.output, i32_ssa_var.output], [std.i32], {})\n",
    "# This will pass, since all operands and results have the same type\n",
    "add_op.verify()\n",
    "\n",
    "# This will raise an error, since the result has a different type than the operands\n",
    "bad_add_op = Operation.with_result_types(Addi, [i32_ssa_var.output, i32_ssa_var.output], [std.i64], {})\n",
    "try:\n",
    "    bad_add_op.verify()\n",
    "except Exception as e:\n",
    "    print(e)"
   ]
  }
 ],
 "metadata": {
  "kernelspec": {
   "display_name": "Python 3 (ipykernel)",
   "language": "python",
   "name": "python3"
  },
  "language_info": {
   "codemirror_mode": {
    "name": "ipython",
    "version": 3
   },
   "file_extension": ".py",
   "mimetype": "text/x-python",
   "name": "python",
   "nbconvert_exporter": "python",
   "pygments_lexer": "ipython3",
   "version": "3.9.7"
  }
 },
 "nbformat": 4,
 "nbformat_minor": 5
}
